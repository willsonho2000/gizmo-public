{
 "cells": [
  {
   "cell_type": "code",
   "execution_count": 9,
   "metadata": {},
   "outputs": [],
   "source": [
    "import os\n",
    "models = [model for model in os.listdir('./TNG') if (model[2] == '_')]"
   ]
  },
  {
   "cell_type": "code",
   "execution_count": 17,
   "metadata": {},
   "outputs": [],
   "source": [
    "f = open('rsync.sh', 'w')\n",
    "\n",
    "for model in models:\n",
    "    info = model.split('_')\n",
    "    num = int(info[0])\n",
    "    subhalo = info[1]\n",
    "\n",
    "    f.write('rsync -avh TNG/' + model + ' /tiara/home/myho/data/gizmo-public/TNG/ \\n')\n",
    "    if num < 12:\n",
    "        f.write('rsync -avh output/' + subhalo + ' /tiara/home/myho/data/gizmo-public/output/ \\n')\n",
    "\n",
    "f.close()"
   ]
  }
 ],
 "metadata": {
  "kernelspec": {
   "display_name": "base",
   "language": "python",
   "name": "python3"
  },
  "language_info": {
   "codemirror_mode": {
    "name": "ipython",
    "version": 3
   },
   "file_extension": ".py",
   "mimetype": "text/x-python",
   "name": "python",
   "nbconvert_exporter": "python",
   "pygments_lexer": "ipython3",
   "version": "3.10.10"
  }
 },
 "nbformat": 4,
 "nbformat_minor": 2
}
