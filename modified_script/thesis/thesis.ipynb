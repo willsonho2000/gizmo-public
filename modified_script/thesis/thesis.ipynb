{
 "cells": [
  {
   "cell_type": "code",
   "execution_count": 1,
   "metadata": {},
   "outputs": [],
   "source": [
    "import h5py\n",
    "import numpy as np\n",
    "import os\n",
    "import pandas as pd\n",
    "import matplotlib.pyplot as plt"
   ]
  },
  {
   "cell_type": "code",
   "execution_count": 2,
   "metadata": {},
   "outputs": [],
   "source": [
    "# Record the mass of dm and gas of the subhalo\n",
    "\n",
    "models = [model for model in os.listdir('./') if (model[2] == '_')]\n",
    "\n",
    "record_name = np.zeros( len(models) )\n",
    "record_set = np.zeros( (len(models), 4) )\n",
    "\n",
    "for j, dir in enumerate(models):\n",
    "\n",
    "    name = dir.split('_')[1][7:]\n",
    "    # jump the directory which has been skipped\n",
    "    if dir[-1] != 'a':\n",
    "        continue\n",
    "    \n",
    "    files = [file for file in os.listdir('./'+dir) if file.endswith('.hdf5')]\n",
    "    \n",
    "    find = 0\n",
    "    if 'gas_merge.hdf5' in files:\n",
    "        f = h5py.File( dir + '/gas_merge.hdf5' )\n",
    "        find = 1\n",
    "    elif 'TNG_modified.hdf5' in files:\n",
    "        f = h5py.File( dir + '/TNG_modified.hdf5' )\n",
    "        find = 1\n",
    "    else:\n",
    "        for file_i in files:\n",
    "            if 'modified' in file_i:\n",
    "                f = h5py.File( dir + '/' + file_i )\n",
    "                find = 1\n",
    "                break\n",
    "        if find == 0:\n",
    "            print(\"Error! no hdf5 file in the directory\")\n",
    "            print(name)\n",
    "    \n",
    "    # Record the mass of dm and gas of the subhalo\n",
    "    if find == 0:\n",
    "        continue\n",
    "    \n",
    "    record_name[j] = int(name)\n",
    "\n",
    "    gas_mass = np.sum( f['PartType0']['Masses'][:] ) * 1e10\n",
    "    dm_mass = np.sum( f['PartType1']['Masses'][:] ) * 1e10\n",
    "    \n",
    "    gas_coord = f['PartType0']['Coordinates'][:]\n",
    "    dm_coord = f['PartType1']['Coordinates'][:]\n",
    "\n",
    "    scale_factor        = f['Header'].attrs['Time']\n",
    "    unit_length_cgs     = f['Header'].attrs['UnitLength_In_CGS']\n",
    "    unit_mass_cgs       = f['Header'].attrs['UnitMass_In_CGS']\n",
    "    unit_vel_cgs        = f['Header'].attrs['UnitVelocity_In_CGS']\n",
    "\n",
    "    # Find the coordinate range of the particles\n",
    "    min_set = np.zeros(3)\n",
    "    max_set = np.zeros(3)\n",
    "\n",
    "    for i in range(3):\n",
    "        min_set[i] = min( np.min(gas_coord[:,i]), np.min(dm_coord[:,i]) )\n",
    "        max_set[i] = max( np.max(gas_coord[:,i]), np.max(dm_coord[:,i]) )\n",
    "\n",
    "    range_len = np.max(max_set - min_set)\n",
    "    \n",
    "    record_set[j, 0] = np.log10(gas_mass)\n",
    "    record_set[j, 1] = np.log10(dm_mass)\n",
    "    record_set[j, 2] = range_len\n",
    "    # calculate mean density of the gas\n",
    "    total_mass = (gas_mass + dm_mass) * unit_mass_cgs / 1e10\n",
    "    range_len *= unit_length_cgs * scale_factor\n",
    "    matter_density = total_mass / (4/3*np.pi*(range_len/2)**3)\n",
    "\n",
    "    record_set[j, 3] = np.log10(matter_density)"
   ]
  },
  {
   "cell_type": "code",
   "execution_count": 4,
   "metadata": {},
   "outputs": [],
   "source": [
    "f = open('record_mass_2.csv', 'w')\n",
    "\n",
    "# write the file according to the rank of the mass\n",
    "sort_idx = np.argsort(record_set[:,1])\n",
    "\n",
    "f.write('ID,Gas Mass,DM Mass,Range Length,Matter Density' + '\\n')\n",
    "for ind in sort_idx:\n",
    "    if record_name[ind] != 0:\n",
    "        f.write( '%s & %.2f & %.2f & %.2f & %.2f \\\\\\\\' % (str(int(record_name[ind])), record_set[ind, 0], record_set[ind, 1], record_set[ind, 2], record_set[ind, 3]) + '\\n' )\n",
    "        # f.write( '%s,%.2f,%.2f,%.2f,%.2f' % (str(int(record_name[ind])), record_set[ind, 0], record_set[ind, 1], record_set[ind, 2], record_set[ind, 3]) + '\\n' )\n",
    "\n",
    "f.close()"
   ]
  },
  {
   "cell_type": "code",
   "execution_count": 10,
   "metadata": {},
   "outputs": [
    {
     "name": "stdout",
     "output_type": "stream",
     "text": [
      "Center of Mass:  [-3.44347578 -2.73828121  0.11922308]\n",
      "Center of Mass:  [-0.09775338 -0.88377348  0.48537756]\n",
      "Center of Mass:  [-0.11392999  0.13171496 -0.84965993]\n",
      "Search radius: 108.723 pc\n",
      "Search radius: 108.723 pc\n",
      "Search radius: 108.723 pc\n",
      "Center of Mass:  [-0.40800986  0.90915904 -0.73804535]\n",
      "Box_length: 2319 pc\n",
      "Box_length: 2319 pc\n",
      "Box_length: 2319 pc\n",
      "Search radius: 108.723 pc\n"
     ]
    },
    {
     "name": "stderr",
     "output_type": "stream",
     "text": [
      "yt : [INFO     ] 2024-07-25 00:09:36,441 Omega Lambda is 0.0, so we are turning off Cosmology.\n",
      "yt : [INFO     ] 2024-07-25 00:09:36,454 Omega Lambda is 0.0, so we are turning off Cosmology.\n",
      "yt : [INFO     ] 2024-07-25 00:09:36,474 Omega Lambda is 0.0, so we are turning off Cosmology.\n",
      "yt : [INFO     ] 2024-07-25 00:09:36,491 Parameters: current_time              = 0.049009036794660774\n",
      "yt : [INFO     ] 2024-07-25 00:09:36,492 Parameters: domain_dimensions         = [1 1 1]\n",
      "yt : [INFO     ] 2024-07-25 00:09:36,492 Parameters: domain_left_edge          = [-35.44347578 -34.73828121 -31.88077692]\n",
      "yt : [INFO     ] 2024-07-25 00:09:36,493 Parameters: domain_right_edge         = [28.55652422 29.26171879 32.11922308]\n",
      "yt : [INFO     ] 2024-07-25 00:09:36,493 Parameters: cosmological_simulation   = 0\n",
      "yt : [WARNING  ] 2024-07-25 00:09:36,493 A bounding box was explicitly specified, so we are disabling periodicity.\n",
      "yt : [INFO     ] 2024-07-25 00:09:36,503 Parameters: current_time              = 0.049009036794660774\n",
      "yt : [INFO     ] 2024-07-25 00:09:36,504 Parameters: domain_dimensions         = [1 1 1]\n",
      "yt : [INFO     ] 2024-07-25 00:09:36,504 Parameters: domain_left_edge          = [-32.11392999 -31.86828504 -32.84965993]\n",
      "yt : [INFO     ] 2024-07-25 00:09:36,504 Parameters: domain_right_edge         = [31.88607001 32.13171496 31.15034007]\n",
      "yt : [INFO     ] 2024-07-25 00:09:36,505 Parameters: cosmological_simulation   = 0\n",
      "yt : [WARNING  ] 2024-07-25 00:09:36,505 A bounding box was explicitly specified, so we are disabling periodicity.\n",
      "yt : [INFO     ] 2024-07-25 00:09:36,523 Parameters: current_time              = 0.049009036794660774\n",
      "yt : [INFO     ] 2024-07-25 00:09:36,524 Parameters: domain_dimensions         = [1 1 1]\n",
      "yt : [INFO     ] 2024-07-25 00:09:36,524 Parameters: domain_left_edge          = [-32.09775338 -32.88377348 -31.51462244]\n",
      "yt : [INFO     ] 2024-07-25 00:09:36,524 Parameters: domain_right_edge         = [31.90224662 31.11622652 32.48537756]\n",
      "yt : [INFO     ] 2024-07-25 00:09:36,525 Parameters: cosmological_simulation   = 0\n",
      "yt : [WARNING  ] 2024-07-25 00:09:36,525 A bounding box was explicitly specified, so we are disabling periodicity.\n",
      "yt : [INFO     ] 2024-07-25 00:09:36,546 Allocating for 5.915e+06 particles\n",
      "Initializing coarse index :   0%|          | 0/22 [00:00<?, ?it/s]yt : [INFO     ] 2024-07-25 00:09:36,555 Allocating for 6.693e+06 particles\n",
      "Initializing coarse index :   0%|          | 0/25 [00:00<?, ?it/s]yt : [INFO     ] 2024-07-25 00:09:36,571 Allocating for 6.955e+06 particles\n",
      "Initializing coarse index :  38%|███▊      | 10/26 [00:00<00:00, 40.73it/s]"
     ]
    },
    {
     "name": "stdout",
     "output_type": "stream",
     "text": [
      "Box_length: 2319 pc\n"
     ]
    },
    {
     "name": "stderr",
     "output_type": "stream",
     "text": [
      "yt : [INFO     ] 2024-07-25 00:09:36,879 Omega Lambda is 0.0, so we are turning off Cosmology.\n",
      "Initializing coarse index :  68%|██████▊   | 15/22 [00:00<00:00, 39.48it/s]yt : [INFO     ] 2024-07-25 00:09:36,926 Parameters: current_time              = 0.049009036794660774\n",
      "yt : [INFO     ] 2024-07-25 00:09:36,927 Parameters: domain_dimensions         = [1 1 1]\n",
      "yt : [INFO     ] 2024-07-25 00:09:36,927 Parameters: domain_left_edge          = [-32.40800986 -31.09084096 -32.73804535]\n",
      "yt : [INFO     ] 2024-07-25 00:09:36,927 Parameters: domain_right_edge         = [31.59199014 32.90915904 31.26195465]\n",
      "yt : [INFO     ] 2024-07-25 00:09:36,927 Parameters: cosmological_simulation   = 0\n",
      "yt : [WARNING  ] 2024-07-25 00:09:36,927 A bounding box was explicitly specified, so we are disabling periodicity.\n",
      "Initializing coarse index :  58%|█████▊    | 15/26 [00:00<00:00, 37.70it/s]yt : [INFO     ] 2024-07-25 00:09:36,981 Allocating for 8.798e+06 particles\n",
      "Initializing coarse index : 100%|██████████| 22/22 [00:00<00:00, 36.23it/s]\n",
      "Initializing coarse index :  92%|█████████▏| 23/25 [00:00<00:00, 37.16it/s]yt : [INFO     ] 2024-07-25 00:09:37,162 Updating index_order2 from 2 to 2\n",
      "Initializing coarse index : 100%|██████████| 25/25 [00:00<00:00, 36.60it/s]\n",
      "yt : [INFO     ] 2024-07-25 00:09:37,246 Updating index_order2 from 2 to 2\n",
      "Initializing coarse index : 100%|██████████| 26/26 [00:00<00:00, 34.77it/s]\n",
      "yt : [INFO     ] 2024-07-25 00:09:37,328 Updating index_order2 from 2 to 2\n",
      "Initializing coarse index : 100%|██████████| 33/33 [00:00<00:00, 39.04it/s]\n",
      "yt : [INFO     ] 2024-07-25 00:09:37,836 Updating index_order2 from 2 to 2\n",
      "Initializing refined index: 100%|██████████| 22/22 [00:02<00:00,  9.59it/s]\n",
      "Initializing refined index: 100%|██████████| 25/25 [00:02<00:00,  9.57it/s]\n",
      "Initializing refined index: 100%|██████████| 26/26 [00:02<00:00,  9.30it/s]0it/s]\n",
      "Initializing refined index: 100%|██████████| 33/33 [00:03<00:00,  9.63it/s].85it/s]\n",
      "Interpolating SPH field ('PartType0', 'Density'): 13200000it [00:07, 1829835.98it/s]\n",
      "Interpolating SPH field ('PartType0', 'Density'): 15000000it [00:07, 2128452.09it/s]\n",
      "Interpolating SPH field ('PartType0', 'Density'): 15600000it [00:08, 1808100.48it/s]834.58it/s]\n",
      "Interpolating SPH field ('PartType0', 'Density'): 19800000it [00:09, 2141186.86it/s]395.38it/s]\n",
      "Interpolating SPH field ('PartType0', 'particle_velocity_x'): 13200000it [00:07, 1876245.87it/s]\n",
      "Interpolating SPH field ('PartType0', 'particle_velocity_x'): 15000000it [00:07, 2058827.68it/s]\n",
      "Interpolating SPH field ('PartType0', 'particle_velocity_x'): 15600000it [00:08, 1798442.37it/s]\n",
      "Interpolating SPH field ('PartType0', 'particle_velocity_x'): 19800000it [00:11, 1716354.24it/s]\n",
      "Interpolating SPH field ('PartType0', 'Density'): 15000000it [00:07, 1959766.37it/s]\n",
      "Interpolating SPH field ('PartType0', 'Density'): 13200000it [00:06, 1959212.94it/s]433.84it/s]\n",
      "Interpolating SPH field ('PartType0', 'Density'): 15600000it [00:08, 1870708.87it/s]501.23it/s]]\n",
      "Interpolating SPH field ('PartType0', 'particle_velocity_y'): 15000000it [00:07, 2051162.34it/s]\n",
      "Interpolating SPH field ('PartType0', 'Density'): 19800000it [00:09, 2145837.81it/s]970.31it/s]]\n",
      "Interpolating SPH field ('PartType0', 'particle_velocity_y'): 13200000it [00:07, 1873725.30it/s]\n",
      "Interpolating SPH field ('PartType0', 'particle_velocity_y'): 15600000it [00:08, 1752002.13it/s]\n",
      "Interpolating SPH field ('PartType0', 'particle_velocity_y'): 19800000it [00:11, 1741509.47it/s]\n",
      "Interpolating SPH field ('PartType0', 'Density'): 15000000it [00:08, 1846741.60it/s]\n",
      "Interpolating SPH field ('PartType0', 'particle_velocity_z'): 15000000it [00:07, 2139737.63it/s]\n",
      "Interpolating SPH field ('PartType0', 'Density'): 15600000it [00:08, 1902338.07it/s]\n",
      "Interpolating SPH field ('PartType0', 'Density'): 13200000it [00:06, 1904386.40it/s]281.60it/s]\n",
      "Interpolating SPH field ('PartType0', 'Density'): 19800000it [00:10, 1901789.82it/s]929.54it/s]]\n",
      "Interpolating SPH field ('PartType0', 'particle_velocity_z'): 15600000it [00:08, 1750199.70it/s]\n",
      "Interpolating SPH field ('PartType0', 'particle_velocity_z'): 13200000it [00:11, 1155553.44it/s]\n",
      "Interpolating SPH field ('PartType0', 'particle_velocity_z'): 16050000it [00:10, 1890988.81it/s]"
     ]
    },
    {
     "name": "stdout",
     "output_type": "stream",
     "text": [
      "Box_length: 579 pc\n"
     ]
    },
    {
     "name": "stderr",
     "output_type": "stream",
     "text": [
      "Interpolating SPH field ('PartType0', 'particle_velocity_z'): 16300000it [00:11, 1610277.94it/s]yt : [INFO     ] 2024-07-25 00:11:15,799 Omega Lambda is 0.0, so we are turning off Cosmology.\n",
      "yt : [INFO     ] 2024-07-25 00:11:15,852 Parameters: current_time              = 0.049009036794660774\n",
      "yt : [INFO     ] 2024-07-25 00:11:15,852 Parameters: domain_dimensions         = [1 1 1]\n",
      "yt : [INFO     ] 2024-07-25 00:11:15,854 Parameters: domain_left_edge          = [-8.11392999 -7.86828504 -8.84965993]\n",
      "yt : [INFO     ] 2024-07-25 00:11:15,854 Parameters: domain_right_edge         = [7.88607001 8.13171496 7.15034007]\n",
      "yt : [INFO     ] 2024-07-25 00:11:15,855 Parameters: cosmological_simulation   = 0\n",
      "yt : [WARNING  ] 2024-07-25 00:11:15,855 A bounding box was explicitly specified, so we are disabling periodicity.\n",
      "yt : [INFO     ] 2024-07-25 00:11:15,896 Allocating for 6.693e+06 particles\n",
      "Initializing coarse index : 100%|██████████| 25/25 [00:00<00:00, 32.66it/s]0:11, 1185168.20it/s]\n",
      "yt : [INFO     ] 2024-07-25 00:11:16,681 Updating index_order2 from 2 to 2\n",
      "Interpolating SPH field ('PartType0', 'particle_velocity_z'): 19800000it [00:13, 1448560.90it/s]\n",
      "Initializing refined index: 100%|██████████| 25/25 [00:03<00:00,  6.44it/s]\n",
      "Interpolating SPH field ('PartType0', 'Density'): 1750000it [00:10, 108133.58it/s]yt : [INFO     ] 2024-07-25 00:11:31,836 Omega Lambda is 0.0, so we are turning off Cosmology.\n",
      "yt : [INFO     ] 2024-07-25 00:11:31,878 Parameters: current_time              = 0.049009036794660774\n",
      "yt : [INFO     ] 2024-07-25 00:11:31,878 Parameters: domain_dimensions         = [1 1 1]\n",
      "yt : [INFO     ] 2024-07-25 00:11:31,879 Parameters: domain_left_edge          = [-8.09775338 -8.88377348 -7.51462244]\n",
      "yt : [INFO     ] 2024-07-25 00:11:31,880 Parameters: domain_right_edge         = [7.90224662 7.11622652 8.48537756]\n",
      "yt : [INFO     ] 2024-07-25 00:11:31,880 Parameters: cosmological_simulation   = 0\n",
      "yt : [WARNING  ] 2024-07-25 00:11:31,880 A bounding box was explicitly specified, so we are disabling periodicity.\n"
     ]
    },
    {
     "name": "stdout",
     "output_type": "stream",
     "text": [
      "Box_length: 579 pc\n"
     ]
    },
    {
     "name": "stderr",
     "output_type": "stream",
     "text": [
      "yt : [INFO     ] 2024-07-25 00:11:31,919 Allocating for 6.955e+06 particles\n",
      "Initializing coarse index : 100%|██████████| 26/26 [00:00<00:00, 34.55it/s]91it/s]\n",
      "yt : [INFO     ] 2024-07-25 00:11:32,684 Updating index_order2 from 2 to 2\n",
      "Initializing refined index:  88%|████████▊ | 23/26 [00:03<00:00,  7.35it/s]yt : [INFO     ] 2024-07-25 00:11:35,753 Omega Lambda is 0.0, so we are turning off Cosmology.\n"
     ]
    },
    {
     "name": "stdout",
     "output_type": "stream",
     "text": [
      "Box_length: 579 pc\n"
     ]
    },
    {
     "name": "stderr",
     "output_type": "stream",
     "text": [
      "yt : [INFO     ] 2024-07-25 00:11:35,792 Parameters: current_time              = 0.049009036794660774\n",
      "yt : [INFO     ] 2024-07-25 00:11:35,792 Parameters: domain_dimensions         = [1 1 1]\n",
      "yt : [INFO     ] 2024-07-25 00:11:35,793 Parameters: domain_left_edge          = [-11.44347578 -10.73828121  -7.88077692]\n",
      "yt : [INFO     ] 2024-07-25 00:11:35,793 Parameters: domain_right_edge         = [4.55652422 5.26171879 8.11922308]\n",
      "yt : [INFO     ] 2024-07-25 00:11:35,793 Parameters: cosmological_simulation   = 0\n",
      "yt : [WARNING  ] 2024-07-25 00:11:35,793 A bounding box was explicitly specified, so we are disabling periodicity.\n",
      "yt : [INFO     ] 2024-07-25 00:11:35,826 Allocating for 5.915e+06 particles\n",
      "Initializing refined index: 100%|██████████| 26/26 [00:03<00:00,  7.33it/s]\n",
      "Initializing coarse index : 100%|██████████| 22/22 [00:00<00:00, 38.49it/s]68it/s]\n",
      "yt : [INFO     ] 2024-07-25 00:11:36,408 Updating index_order2 from 2 to 2\n",
      "Initializing refined index: 100%|██████████| 22/22 [00:02<00:00,  8.26it/s]15it/s]\n"
     ]
    },
    {
     "name": "stdout",
     "output_type": "stream",
     "text": [
      "Box_length: 579 pc\n"
     ]
    },
    {
     "name": "stderr",
     "output_type": "stream",
     "text": [
      "yt : [INFO     ] 2024-07-25 00:11:39,364 Omega Lambda is 0.0, so we are turning off Cosmology.\n",
      "yt : [INFO     ] 2024-07-25 00:11:39,403 Parameters: current_time              = 0.049009036794660774\n",
      "yt : [INFO     ] 2024-07-25 00:11:39,403 Parameters: domain_dimensions         = [1 1 1]\n",
      "yt : [INFO     ] 2024-07-25 00:11:39,403 Parameters: domain_left_edge          = [-8.40800986 -7.09084096 -8.73804535]\n",
      "yt : [INFO     ] 2024-07-25 00:11:39,404 Parameters: domain_right_edge         = [7.59199014 8.90915904 7.26195465]\n",
      "yt : [INFO     ] 2024-07-25 00:11:39,404 Parameters: cosmological_simulation   = 0\n",
      "yt : [WARNING  ] 2024-07-25 00:11:39,404 A bounding box was explicitly specified, so we are disabling periodicity.\n",
      "yt : [INFO     ] 2024-07-25 00:11:39,449 Allocating for 8.798e+06 particles\n",
      "Initializing coarse index : 100%|██████████| 33/33 [00:00<00:00, 34.24it/s]8it/s] \n",
      "yt : [INFO     ] 2024-07-25 00:11:40,430 Updating index_order2 from 2 to 2\n",
      "Initializing refined index: 100%|██████████| 33/33 [00:04<00:00,  8.02it/s]50it/s]\n",
      "Interpolating SPH field ('PartType0', 'Density'): 10100000it [01:23, 120732.32it/s]\n",
      "Interpolating SPH field ('PartType0', 'Density'): 14900000it [01:53, 131506.43it/s]898.83it/s]\n",
      "Interpolating SPH field ('PartType0', 'Density'): 15300000it [02:19, 109695.17it/s]27.25it/s] \n",
      "Interpolating SPH field ('PartType0', 'Density'): 18100000it [02:23, 126341.54it/s]850.09it/s]\n",
      "Interpolating SPH field ('PartType0', 'particle_velocity_x'): 10100000it [01:20, 125837.88it/s]\n",
      "Interpolating SPH field ('PartType0', 'particle_velocity_x'): 14900000it [01:52, 133015.08it/s]\n",
      "Interpolating SPH field ('PartType0', 'Density'): 10100000it [01:21, 124331.13it/s]7213.84it/s]\n",
      "Interpolating SPH field ('PartType0', 'particle_velocity_x'): 15300000it [02:18, 110215.35it/s]\n",
      "Interpolating SPH field ('PartType0', 'particle_velocity_x'): 18100000it [02:22, 126842.91it/s]\n",
      "Interpolating SPH field ('PartType0', 'Density'): 14900000it [01:52, 132638.17it/s]336.38it/s]\n",
      "Interpolating SPH field ('PartType0', 'particle_velocity_y'): 10100000it [01:21, 123776.09it/s]\n",
      "Interpolating SPH field ('PartType0', 'Density'): 15300000it [02:17, 111028.43it/s]5338.31it/s]\n",
      "Interpolating SPH field ('PartType0', 'Density'): 10100000it [01:21, 123823.24it/s]340.79it/s] \n",
      "Interpolating SPH field ('PartType0', 'particle_velocity_y'): 14900000it [01:51, 133135.40it/s]\n",
      "Interpolating SPH field ('PartType0', 'Density'): 18100000it [02:23, 126002.41it/s]363.91it/s]\n",
      "Interpolating SPH field ('PartType0', 'particle_velocity_z'): 10100000it [01:21, 124154.03it/s]\n",
      "Interpolating SPH field ('PartType0', 'particle_velocity_y'): 12500000it [01:53, 90829.54it/s] "
     ]
    },
    {
     "name": "stdout",
     "output_type": "stream",
     "text": [
      "Center of Mass:  [-0.76154899 -0.02432779  1.4253845 ]\n",
      "Search radius: 108.723 pc\n"
     ]
    },
    {
     "name": "stderr",
     "output_type": "stream",
     "text": [
      "Interpolating SPH field ('PartType0', 'Density'): 12200000it [01:27, 59162.54it/s] 998.03it/s]"
     ]
    },
    {
     "name": "stdout",
     "output_type": "stream",
     "text": [
      "Box_length: 2319 pc\n"
     ]
    },
    {
     "name": "stderr",
     "output_type": "stream",
     "text": [
      "yt : [INFO     ] 2024-07-25 00:20:36,933 Omega Lambda is 0.0, so we are turning off Cosmology.\n",
      "yt : [INFO     ] 2024-07-25 00:20:36,978 Parameters: current_time              = 0.049009036794660774\n",
      "yt : [INFO     ] 2024-07-25 00:20:36,978 Parameters: domain_dimensions         = [1 1 1]\n",
      "yt : [INFO     ] 2024-07-25 00:20:36,978 Parameters: domain_left_edge          = [-32.76154899 -32.02432779 -30.5746155 ]\n",
      "yt : [INFO     ] 2024-07-25 00:20:36,979 Parameters: domain_right_edge         = [31.23845101 31.97567221 33.4253845 ]\n",
      "yt : [INFO     ] 2024-07-25 00:20:36,979 Parameters: cosmological_simulation   = 0\n",
      "yt : [WARNING  ] 2024-07-25 00:20:36,979 A bounding box was explicitly specified, so we are disabling periodicity.\n",
      "yt : [INFO     ] 2024-07-25 00:20:37,030 Allocating for 8.257e+06 particles\n",
      "Initializing coarse index : 100%|██████████| 31/31 [00:00<00:00, 47.79it/s]:30, 116776.73it/s]]\n",
      "yt : [INFO     ] 2024-07-25 00:20:37,690 Updating index_order2 from 2 to 2\n",
      "Initializing refined index: 100%|██████████| 31/31 [00:03<00:00,  9.86it/s].45it/s]8237.19it/s]\n",
      "Interpolating SPH field ('PartType0', 'Density'): 18600000it [00:08, 2226649.70it/s]536.18it/s]\n",
      "Interpolating SPH field ('PartType0', 'particle_velocity_x'): 18600000it [00:08, 2185747.27it/s]\n",
      "Interpolating SPH field ('PartType0', 'Density'): 14900000it [01:51, 133229.50it/s]6833.00it/s]\n",
      "Interpolating SPH field ('PartType0', 'particle_velocity_y'): 15300000it [02:18, 110507.51it/s]\n",
      "Interpolating SPH field ('PartType0', 'Density'): 18600000it [00:08, 2177861.13it/s]64.26it/s]]\n",
      "Interpolating SPH field ('PartType0', 'particle_velocity_y'): 18600000it [00:08, 2193294.54it/s]\n",
      "Interpolating SPH field ('PartType0', 'particle_velocity_y'): 18100000it [02:22, 126585.42it/s]\n",
      "Interpolating SPH field ('PartType0', 'Density'): 18600000it [00:08, 2183920.76it/s]7.00it/s] \n",
      "Interpolating SPH field ('PartType0', 'particle_velocity_z'): 18600000it [00:08, 2184517.18it/s]\n",
      "Interpolating SPH field ('PartType0', 'particle_velocity_z'): 8600000it [01:04, 160280.11it/s]yt : [INFO     ] 2024-07-25 00:22:05,484 Omega Lambda is 0.0, so we are turning off Cosmology.\n",
      "yt : [INFO     ] 2024-07-25 00:22:05,524 Parameters: current_time              = 0.049009036794660774\n",
      "yt : [INFO     ] 2024-07-25 00:22:05,525 Parameters: domain_dimensions         = [1 1 1]\n",
      "yt : [INFO     ] 2024-07-25 00:22:05,525 Parameters: domain_left_edge          = [-8.76154899 -8.02432779 -6.5746155 ]\n",
      "yt : [INFO     ] 2024-07-25 00:22:05,525 Parameters: domain_right_edge         = [7.23845101 7.97567221 9.4253845 ]\n",
      "yt : [INFO     ] 2024-07-25 00:22:05,526 Parameters: cosmological_simulation   = 0\n",
      "yt : [WARNING  ] 2024-07-25 00:22:05,526 A bounding box was explicitly specified, so we are disabling periodicity.\n"
     ]
    },
    {
     "name": "stdout",
     "output_type": "stream",
     "text": [
      "Box_length: 579 pc\n"
     ]
    },
    {
     "name": "stderr",
     "output_type": "stream",
     "text": [
      "yt : [INFO     ] 2024-07-25 00:22:05,567 Allocating for 8.257e+06 particles\n",
      "Initializing coarse index : 100%|██████████| 31/31 [00:00<00:00, 33.27it/s]6it/s] 8899.52it/s]\n",
      "yt : [INFO     ] 2024-07-25 00:22:06,515 Updating index_order2 from 2 to 2\n",
      "Initializing refined index: 100%|██████████| 31/31 [00:04<00:00,  7.35it/s]:09, 220081.47it/s]\n",
      "Interpolating SPH field ('PartType0', 'particle_velocity_z'): 14900000it [01:51, 133041.58it/s]\n",
      "Interpolating SPH field ('PartType0', 'Density'): 13650000it [02:05, 104265.03it/s]"
     ]
    },
    {
     "name": "stdout",
     "output_type": "stream",
     "text": [
      "Center of Mass:  [-0.46942322 -1.37124055 -1.52085893]\n",
      "Search radius: 108.723 pc\n"
     ]
    },
    {
     "name": "stderr",
     "output_type": "stream",
     "text": [
      "Interpolating SPH field ('PartType0', 'Density'): 10400000it [01:35, 134461.46it/s]yt : [INFO     ] 2024-07-25 00:23:15,253 Omega Lambda is 0.0, so we are turning off Cosmology.\n",
      "yt : [INFO     ] 2024-07-25 00:23:15,299 Parameters: current_time              = 0.049009036794660774\n",
      "yt : [INFO     ] 2024-07-25 00:23:15,300 Parameters: domain_dimensions         = [1 1 1]\n",
      "yt : [INFO     ] 2024-07-25 00:23:15,300 Parameters: domain_left_edge          = [-32.46942322 -33.37124055 -33.52085893]\n",
      "yt : [INFO     ] 2024-07-25 00:23:15,300 Parameters: domain_right_edge         = [31.53057678 30.62875945 30.47914107]\n",
      "yt : [INFO     ] 2024-07-25 00:23:15,300 Parameters: cosmological_simulation   = 0\n",
      "yt : [WARNING  ] 2024-07-25 00:23:15,300 A bounding box was explicitly specified, so we are disabling periodicity.\n",
      "Interpolating SPH field ('PartType0', 'Density'): 10500000it [01:35, 184925.89it/s]"
     ]
    },
    {
     "name": "stdout",
     "output_type": "stream",
     "text": [
      "Box_length: 2319 pc\n"
     ]
    },
    {
     "name": "stderr",
     "output_type": "stream",
     "text": [
      "yt : [INFO     ] 2024-07-25 00:23:15,352 Allocating for 7.225e+06 particles\n",
      "Initializing coarse index : 100%|██████████| 27/27 [00:00<00:00, 40.23it/s]96it/s] \n",
      "yt : [INFO     ] 2024-07-25 00:23:16,033 Updating index_order2 from 2 to 2\n",
      "Initializing refined index: 100%|██████████| 27/27 [00:02<00:00,  9.39it/s]37it/s]]\n",
      "Interpolating SPH field ('PartType0', 'Density'): 16200000it [00:08, 1973565.27it/s]\n",
      "Interpolating SPH field ('PartType0', 'Density'): 15300000it [02:18, 110213.59it/s]712.78it/s]\n",
      "Interpolating SPH field ('PartType0', 'particle_velocity_x'): 16200000it [00:08, 1989178.53it/s]\n",
      "Interpolating SPH field ('PartType0', 'Density'): 16200000it [00:07, 2043896.76it/s]08.43it/s]\n",
      "Interpolating SPH field ('PartType0', 'particle_velocity_y'): 16200000it [00:07, 2063766.37it/s]\n",
      "Interpolating SPH field ('PartType0', 'Density'): 18100000it [02:23, 125909.79it/s]53.87it/s] \n",
      "Interpolating SPH field ('PartType0', 'Density'): 16200000it [00:07, 2103801.05it/s]17.07it/s]\n",
      "Interpolating SPH field ('PartType0', 'particle_velocity_z'): 16200000it [00:07, 2043263.45it/s]\n",
      "Interpolating SPH field ('PartType0', 'Density'): 17200000it [02:20, 122771.72it/s]56.70it/s] \n",
      "Interpolating SPH field ('PartType0', 'particle_velocity_x'): 250000it [00:01, 133974.66it/s]yt : [INFO     ] 2024-07-25 00:24:34,293 Omega Lambda is 0.0, so we are turning off Cosmology.\n",
      "yt : [INFO     ] 2024-07-25 00:24:34,331 Parameters: current_time              = 0.049009036794660774\n",
      "yt : [INFO     ] 2024-07-25 00:24:34,331 Parameters: domain_dimensions         = [1 1 1]\n",
      "yt : [INFO     ] 2024-07-25 00:24:34,332 Parameters: domain_left_edge          = [-8.46942322 -9.37124055 -9.52085893]\n",
      "yt : [INFO     ] 2024-07-25 00:24:34,332 Parameters: domain_right_edge         = [7.53057678 6.62875945 6.47914107]\n",
      "yt : [INFO     ] 2024-07-25 00:24:34,332 Parameters: cosmological_simulation   = 0\n",
      "yt : [WARNING  ] 2024-07-25 00:24:34,332 A bounding box was explicitly specified, so we are disabling periodicity.\n",
      "yt : [INFO     ] 2024-07-25 00:24:34,366 Allocating for 7.225e+06 particles\n",
      "Interpolating SPH field ('PartType0', 'particle_velocity_z'): 7050000it [01:05, 90916.23it/s] "
     ]
    },
    {
     "name": "stdout",
     "output_type": "stream",
     "text": [
      "Box_length: 579 pc\n"
     ]
    },
    {
     "name": "stderr",
     "output_type": "stream",
     "text": [
      "Initializing coarse index : 100%|██████████| 27/27 [00:00<00:00, 40.74it/s]:30, 72841.22it/s]\n",
      "yt : [INFO     ] 2024-07-25 00:24:35,040 Updating index_order2 from 2 to 2\n",
      "Initializing refined index: 100%|██████████| 27/27 [00:04<00:00,  6.69it/s]:06, 197822.39it/s]\n",
      "Interpolating SPH field ('PartType0', 'particle_velocity_z'): 15300000it [02:21, 108262.32it/s]\n",
      "Interpolating SPH field ('PartType0', 'particle_velocity_x'): 13150000it [01:40, 263332.73it/s]"
     ]
    },
    {
     "name": "stdout",
     "output_type": "stream",
     "text": [
      "Center of Mass:  [-1.5921798  -0.93845103  0.33179707]\n",
      "Search radius: 108.723 pc\n"
     ]
    },
    {
     "name": "stderr",
     "output_type": "stream",
     "text": [
      "Interpolating SPH field ('PartType0', 'particle_velocity_x'): 13300000it [01:40, 274322.37it/s]yt : [INFO     ] 2024-07-25 00:26:13,467 Omega Lambda is 0.0, so we are turning off Cosmology.\n",
      "Interpolating SPH field ('PartType0', 'Density'): 11200000it [01:33, 61376.47it/s] "
     ]
    },
    {
     "name": "stdout",
     "output_type": "stream",
     "text": [
      "Box_length: 2319 pc\n"
     ]
    },
    {
     "name": "stderr",
     "output_type": "stream",
     "text": [
      "yt : [INFO     ] 2024-07-25 00:26:13,513 Parameters: current_time              = 0.049009036794660774\n",
      "yt : [INFO     ] 2024-07-25 00:26:13,513 Parameters: domain_dimensions         = [1 1 1]\n",
      "yt : [INFO     ] 2024-07-25 00:26:13,514 Parameters: domain_left_edge          = [-33.5921798  -32.93845103 -31.66820293]\n",
      "yt : [INFO     ] 2024-07-25 00:26:13,514 Parameters: domain_right_edge         = [30.4078202  31.06154897 32.33179707]\n",
      "yt : [INFO     ] 2024-07-25 00:26:13,514 Parameters: cosmological_simulation   = 0\n",
      "yt : [WARNING  ] 2024-07-25 00:26:13,514 A bounding box was explicitly specified, so we are disabling periodicity.\n",
      "yt : [INFO     ] 2024-07-25 00:26:13,565 Allocating for 7.750e+06 particles\n",
      "Initializing coarse index : 100%|██████████| 29/29 [00:00<00:00, 38.84it/s].16it/s]077.03it/s]]\n",
      "yt : [INFO     ] 2024-07-25 00:26:14,322 Updating index_order2 from 2 to 2\n",
      "Initializing refined index: 100%|██████████| 29/29 [00:02<00:00,  9.76it/s]2:12, 68575.10it/s] \n",
      "Interpolating SPH field ('PartType0', 'Density'): 17400000it [00:08, 2139720.57it/s]985.10it/s]\n",
      "Interpolating SPH field ('PartType0', 'particle_velocity_z'): 18100000it [02:24, 125534.30it/s]\n",
      "Interpolating SPH field ('PartType0', 'particle_velocity_x'): 17400000it [00:07, 2202023.63it/s]\n",
      "Interpolating SPH field ('PartType0', 'Density'): 14100000it [01:55, 122435.55it/s]8211.49it/s]\n",
      "Interpolating SPH field ('PartType0', 'particle_velocity_x'): 17200000it [02:13, 128430.89it/s]\n",
      "Interpolating SPH field ('PartType0', 'Density'): 17400000it [00:07, 2282607.28it/s]0.46it/s] \n",
      "Interpolating SPH field ('PartType0', 'particle_velocity_y'): 12550000it [00:05, 2534662.19it/s]"
     ]
    },
    {
     "name": "stdout",
     "output_type": "stream",
     "text": [
      "Center of Mass:  [-1.25431487  0.34616304 -0.8885113 ]\n",
      "Search radius: 108.723 pc\n"
     ]
    },
    {
     "name": "stderr",
     "output_type": "stream",
     "text": [
      "Interpolating SPH field ('PartType0', 'particle_velocity_y'): 13700000it [00:06, 2969690.00it/s]yt : [INFO     ] 2024-07-25 00:26:53,884 Omega Lambda is 0.0, so we are turning off Cosmology.\n",
      "yt : [INFO     ] 2024-07-25 00:26:53,929 Parameters: current_time              = 0.049009036794660774\n",
      "yt : [INFO     ] 2024-07-25 00:26:53,930 Parameters: domain_dimensions         = [1 1 1]\n",
      "yt : [INFO     ] 2024-07-25 00:26:53,930 Parameters: domain_left_edge          = [-33.25431487 -31.65383696 -32.8885113 ]\n",
      "yt : [INFO     ] 2024-07-25 00:26:53,930 Parameters: domain_right_edge         = [30.74568513 32.34616304 31.1114887 ]\n",
      "yt : [INFO     ] 2024-07-25 00:26:53,930 Parameters: cosmological_simulation   = 0\n",
      "yt : [WARNING  ] 2024-07-25 00:26:53,930 A bounding box was explicitly specified, so we are disabling periodicity.\n",
      "yt : [INFO     ] 2024-07-25 00:26:53,984 Allocating for 6.717e+06 particles\n",
      "Initializing coarse index :   0%|          | 0/25 [00:00<?, ?it/s]"
     ]
    },
    {
     "name": "stdout",
     "output_type": "stream",
     "text": [
      "Box_length: 2319 pc\n"
     ]
    },
    {
     "name": "stderr",
     "output_type": "stream",
     "text": [
      "Initializing coarse index : 100%|██████████| 25/25 [00:00<00:00, 45.02it/s]:19, 125774.83it/s]s]\n",
      "Interpolating SPH field ('PartType0', 'particle_velocity_y'): 15400000it [00:06, 2578585.28it/s]yt : [INFO     ] 2024-07-25 00:26:54,547 Updating index_order2 from 2 to 2\n",
      "Interpolating SPH field ('PartType0', 'particle_velocity_y'): 17400000it [00:07, 2237058.06it/s]\n",
      "Initializing refined index: 100%|██████████| 25/25 [00:02<00:00, 10.17it/s]:21, 113845.74it/s]\n",
      "Interpolating SPH field ('PartType0', 'Density'): 15000000it [00:06, 2499044.70it/s]20.02it/s]\n",
      "Interpolating SPH field ('PartType0', 'Density'): 17400000it [00:07, 2227935.94it/s]2933.33it/s]\n",
      "Interpolating SPH field ('PartType0', 'particle_velocity_x'): 15000000it [00:06, 2247102.74it/s]\n",
      "Interpolating SPH field ('PartType0', 'particle_velocity_z'): 17400000it [00:07, 2284043.11it/s]\n",
      "Interpolating SPH field ('PartType0', 'Density'): 15000000it [00:06, 2410535.24it/s]14.89it/s]\n",
      "Interpolating SPH field ('PartType0', 'particle_velocity_y'): 15000000it [00:06, 2405877.67it/s]\n",
      "Interpolating SPH field ('PartType0', 'particle_velocity_x'): 6850000it [00:55, 135023.03it/s]"
     ]
    },
    {
     "name": "stdout",
     "output_type": "stream",
     "text": [
      "Box_length: 579 pc\n"
     ]
    },
    {
     "name": "stderr",
     "output_type": "stream",
     "text": [
      "yt : [INFO     ] 2024-07-25 00:27:31,586 Omega Lambda is 0.0, so we are turning off Cosmology.\n",
      "Interpolating SPH field ('PartType0', 'Density'): 4650000it [00:35, 130738.01it/s]yt : [INFO     ] 2024-07-25 00:27:31,625 Parameters: current_time              = 0.049009036794660774\n",
      "yt : [INFO     ] 2024-07-25 00:27:31,625 Parameters: domain_dimensions         = [1 1 1]\n",
      "yt : [INFO     ] 2024-07-25 00:27:31,625 Parameters: domain_left_edge          = [-9.5921798  -8.93845103 -7.66820293]\n",
      "yt : [INFO     ] 2024-07-25 00:27:31,626 Parameters: domain_right_edge         = [6.4078202  7.06154897 8.33179707]\n",
      "yt : [INFO     ] 2024-07-25 00:27:31,626 Parameters: cosmological_simulation   = 0\n",
      "yt : [WARNING  ] 2024-07-25 00:27:31,626 A bounding box was explicitly specified, so we are disabling periodicity.\n",
      "yt : [INFO     ] 2024-07-25 00:27:31,665 Allocating for 7.750e+06 particles\n",
      "Initializing coarse index : 100%|██████████| 29/29 [00:00<00:00, 41.07it/s]:56, 224636.75it/s]\n",
      "yt : [INFO     ] 2024-07-25 00:27:32,383 Updating index_order2 from 2 to 2\n",
      "Initializing refined index: 100%|██████████| 29/29 [00:03<00:00,  7.48it/s]:00, 176859.07it/s]\n",
      "Interpolating SPH field ('PartType0', 'Density'): 15000000it [00:06, 2452341.55it/s]44.35it/s]\n",
      "Interpolating SPH field ('PartType0', 'particle_velocity_z'): 15000000it [00:06, 2395201.90it/s]\n",
      "Interpolating SPH field ('PartType0', 'particle_velocity_x'): 11150000it [01:31, 124253.33it/s]"
     ]
    },
    {
     "name": "stdout",
     "output_type": "stream",
     "text": [
      "Box_length: 579 pc\n"
     ]
    },
    {
     "name": "stderr",
     "output_type": "stream",
     "text": [
      "yt : [INFO     ] 2024-07-25 00:28:07,449 Omega Lambda is 0.0, so we are turning off Cosmology.\n",
      "yt : [INFO     ] 2024-07-25 00:28:07,487 Parameters: current_time              = 0.049009036794660774\n",
      "yt : [INFO     ] 2024-07-25 00:28:07,487 Parameters: domain_dimensions         = [1 1 1]\n",
      "yt : [INFO     ] 2024-07-25 00:28:07,487 Parameters: domain_left_edge          = [-9.25431487 -7.65383696 -8.8885113 ]\n",
      "yt : [INFO     ] 2024-07-25 00:28:07,488 Parameters: domain_right_edge         = [6.74568513 8.34616304 7.1114887 ]\n",
      "yt : [INFO     ] 2024-07-25 00:28:07,488 Parameters: cosmological_simulation   = 0\n",
      "yt : [WARNING  ] 2024-07-25 00:28:07,488 A bounding box was explicitly specified, so we are disabling periodicity.\n",
      "yt : [INFO     ] 2024-07-25 00:28:07,523 Allocating for 6.717e+06 particles\n",
      "Initializing coarse index : 100%|██████████| 25/25 [00:00<00:00, 39.57it/s]7it/s] \n",
      "yt : [INFO     ] 2024-07-25 00:28:08,166 Updating index_order2 from 2 to 2\n",
      "Initializing refined index: 100%|██████████| 25/25 [00:03<00:00,  7.09it/s]49it/s] 2684.76it/s]\n",
      "Interpolating SPH field ('PartType0', 'particle_velocity_x'): 14100000it [01:55, 121733.59it/s]\n",
      "Interpolating SPH field ('PartType0', 'Density'): 17200000it [02:12, 129853.34it/s]\n",
      "Interpolating SPH field ('PartType0', 'Density'): 16000000it [01:42, 156051.28it/s]047.51it/s]\n",
      "Interpolating SPH field ('PartType0', 'Density'): 14500000it [01:22, 176615.26it/s]996.04it/s]\n",
      "Interpolating SPH field ('PartType0', 'Density'): 14100000it [01:55, 121880.35it/s]485.53it/s]]\n",
      "Interpolating SPH field ('PartType0', 'particle_velocity_x'): 14500000it [01:24, 171811.07it/s]\n",
      "Interpolating SPH field ('PartType0', 'particle_velocity_x'): 16000000it [01:42, 156047.68it/s]\n",
      "Interpolating SPH field ('PartType0', 'particle_velocity_y'): 17200000it [02:13, 129159.74it/s]\n",
      "Interpolating SPH field ('PartType0', 'particle_velocity_y'): 14100000it [01:55, 121598.17it/s]\n",
      "Interpolating SPH field ('PartType0', 'Density'): 14500000it [01:24, 172546.51it/s]\n",
      "Interpolating SPH field ('PartType0', 'Density'): 16000000it [01:42, 156122.62it/s]498.50it/s]\n",
      "Interpolating SPH field ('PartType0', 'Density'): 17200000it [02:13, 129212.50it/s]5869.13it/s]\n",
      "Interpolating SPH field ('PartType0', 'particle_velocity_y'): 14500000it [01:23, 174343.57it/s]\n",
      "Interpolating SPH field ('PartType0', 'particle_velocity_y'): 16000000it [01:42, 155636.10it/s]\n",
      "Interpolating SPH field ('PartType0', 'Density'): 14100000it [01:56, 121506.01it/s]\n",
      "Interpolating SPH field ('PartType0', 'Density'): 14500000it [01:23, 174376.00it/s]217.13it/s] \n",
      "Interpolating SPH field ('PartType0', 'particle_velocity_z'): 17200000it [02:13, 129213.36it/s]\n",
      "Interpolating SPH field ('PartType0', 'Density'): 15800000it [01:40, 231289.24it/s]978.03it/s] "
     ]
    },
    {
     "name": "stdout",
     "output_type": "stream",
     "text": [
      "Center of Mass:  [-0.49884541  1.51719866  0.78006509]\n",
      "Search radius: 108.723 pc\n",
      "Box_length: 2319 pc\n"
     ]
    },
    {
     "name": "stderr",
     "output_type": "stream",
     "text": [
      "Interpolating SPH field ('PartType0', 'particle_velocity_z'): 13200000it [01:49, 62293.57it/s]yt : [INFO     ] 2024-07-25 00:36:26,397 Omega Lambda is 0.0, so we are turning off Cosmology.\n",
      "yt : [INFO     ] 2024-07-25 00:36:26,443 Parameters: current_time              = 0.049009036794660774\n",
      "yt : [INFO     ] 2024-07-25 00:36:26,443 Parameters: domain_dimensions         = [1 1 1]\n",
      "yt : [INFO     ] 2024-07-25 00:36:26,443 Parameters: domain_left_edge          = [-32.49884541 -30.48280134 -31.21993491]\n",
      "yt : [INFO     ] 2024-07-25 00:36:26,443 Parameters: domain_right_edge         = [31.50115459 33.51719866 32.78006509]\n",
      "yt : [INFO     ] 2024-07-25 00:36:26,444 Parameters: cosmological_simulation   = 0\n",
      "yt : [WARNING  ] 2024-07-25 00:36:26,444 A bounding box was explicitly specified, so we are disabling periodicity.\n",
      "Interpolating SPH field ('PartType0', 'particle_velocity_z'): 8700000it [00:55, 145573.15it/s]yt : [INFO     ] 2024-07-25 00:36:26,493 Allocating for 6.955e+06 particles\n",
      "Initializing coarse index : 100%|██████████| 26/26 [00:00<00:00, 44.91it/s]1:49, 125817.05it/s]\n",
      "yt : [INFO     ] 2024-07-25 00:36:27,080 Updating index_order2 from 2 to 2\n",
      "Interpolating SPH field ('PartType0', 'Density'): 16000000it [01:42, 155364.59it/s]810.97it/s]\n",
      "Initializing refined index: 100%|██████████| 26/26 [00:02<00:00, 10.09it/s]:58, 313571.65it/s]]\n",
      "Interpolating SPH field ('PartType0', 'particle_velocity_z'): 14100000it [01:56, 121188.69it/s]\n",
      "Interpolating SPH field ('PartType0', 'Density'): 15600000it [00:07, 2205189.24it/s]013.06it/s]\n",
      "Interpolating SPH field ('PartType0', 'particle_velocity_x'): 15600000it [00:07, 2058628.79it/s]\n",
      "Interpolating SPH field ('PartType0', 'particle_velocity_z'): 14500000it [01:22, 174779.28it/s]\n",
      "Interpolating SPH field ('PartType0', 'Density'): 7000000it [00:03, 1775089.90it/s]679.50it/s]"
     ]
    },
    {
     "name": "stdout",
     "output_type": "stream",
     "text": [
      "Center of Mass:  [ 1.30954298 -0.28430941 -0.29583857]\n",
      "Search radius: 108.723 pc\n"
     ]
    },
    {
     "name": "stderr",
     "output_type": "stream",
     "text": [
      "Interpolating SPH field ('PartType0', 'Density'): 7450000it [00:04, 1755526.11it/s]yt : [INFO     ] 2024-07-25 00:36:56,038 Omega Lambda is 0.0, so we are turning off Cosmology.\n"
     ]
    },
    {
     "name": "stdout",
     "output_type": "stream",
     "text": [
      "Box_length: 2319 pc\n"
     ]
    },
    {
     "name": "stderr",
     "output_type": "stream",
     "text": [
      "yt : [INFO     ] 2024-07-25 00:36:56,086 Parameters: current_time              = 0.049009036794660774\n",
      "yt : [INFO     ] 2024-07-25 00:36:56,086 Parameters: domain_dimensions         = [1 1 1]\n",
      "yt : [INFO     ] 2024-07-25 00:36:56,086 Parameters: domain_left_edge          = [-30.69045702 -32.28430941 -32.29583857]\n",
      "yt : [INFO     ] 2024-07-25 00:36:56,087 Parameters: domain_right_edge         = [33.30954298 31.71569059 31.70416143]\n",
      "yt : [INFO     ] 2024-07-25 00:36:56,087 Parameters: cosmological_simulation   = 0\n",
      "yt : [WARNING  ] 2024-07-25 00:36:56,087 A bounding box was explicitly specified, so we are disabling periodicity.\n",
      "Interpolating SPH field ('PartType0', 'Density'): 7750000it [00:04, 1916681.61it/s]yt : [INFO     ] 2024-07-25 00:36:56,136 Allocating for 7.496e+06 particles\n",
      "Initializing coarse index : 100%|██████████| 28/28 [00:00<00:00, 41.00it/s].49it/s]\n",
      "yt : [INFO     ] 2024-07-25 00:36:56,829 Updating index_order2 from 2 to 2\n",
      "Interpolating SPH field ('PartType0', 'Density'): 15600000it [00:07, 2027971.52it/s]18.10it/s]\n",
      "Initializing refined index: 100%|██████████| 28/28 [00:02<00:00,  9.66it/s]\n",
      "Interpolating SPH field ('PartType0', 'particle_velocity_y'): 15600000it [00:07, 2124367.05it/s]\n",
      "Interpolating SPH field ('PartType0', 'Density'): 16800000it [00:08, 1987637.83it/s]16.35it/s]\n",
      "Interpolating SPH field ('PartType0', 'particle_velocity_x'): 16800000it [00:08, 2021747.56it/s]\n",
      "Interpolating SPH field ('PartType0', 'Density'): 13400000it [00:06, 2090870.11it/s]24.94it/s]"
     ]
    },
    {
     "name": "stdout",
     "output_type": "stream",
     "text": [
      "Center of Mass:  [-0.69164187  0.53604998  1.9325883 ]\n"
     ]
    },
    {
     "name": "stderr",
     "output_type": "stream",
     "text": [
      "Interpolating SPH field ('PartType0', 'Density'): 14050000it [00:06, 2241231.80it/s]"
     ]
    },
    {
     "name": "stdout",
     "output_type": "stream",
     "text": [
      "Search radius: 108.723 pc\n"
     ]
    },
    {
     "name": "stderr",
     "output_type": "stream",
     "text": [
      "Interpolating SPH field ('PartType0', 'Density'): 15200000it [00:07, 2198681.66it/s]"
     ]
    },
    {
     "name": "stdout",
     "output_type": "stream",
     "text": [
      "Box_length: 2319 pc\n"
     ]
    },
    {
     "name": "stderr",
     "output_type": "stream",
     "text": [
      "Interpolating SPH field ('PartType0', 'Density'): 15550000it [00:07, 2420448.43it/s]yt : [INFO     ] 2024-07-25 00:37:20,272 Omega Lambda is 0.0, so we are turning off Cosmology.\n",
      "yt : [INFO     ] 2024-07-25 00:37:20,318 Parameters: current_time              = 0.049009036794660774\n",
      "yt : [INFO     ] 2024-07-25 00:37:20,318 Parameters: domain_dimensions         = [1 1 1]\n",
      "yt : [INFO     ] 2024-07-25 00:37:20,319 Parameters: domain_left_edge          = [-32.69164187 -31.46395002 -30.0674117 ]\n",
      "yt : [INFO     ] 2024-07-25 00:37:20,319 Parameters: domain_right_edge         = [31.30835813 32.53604998 33.9325883 ]\n",
      "yt : [INFO     ] 2024-07-25 00:37:20,319 Parameters: cosmological_simulation   = 0\n",
      "yt : [WARNING  ] 2024-07-25 00:37:20,319 A bounding box was explicitly specified, so we are disabling periodicity.\n",
      "Interpolating SPH field ('PartType0', 'Density'): 15600000it [00:07, 2126400.92it/s]\n",
      "yt : [INFO     ] 2024-07-25 00:37:20,383 Allocating for 1.633e+07 particles\n",
      "Initializing coarse index : 100%|██████████| 61/61 [00:01<00:00, 48.16it/s]:00, 2416933.21it/s]\n",
      "yt : [INFO     ] 2024-07-25 00:37:21,670 Updating index_order2 from 2 to 2\n",
      "Initializing refined index: 100%|██████████| 61/61 [00:05<00:00, 10.83it/s].89it/s]990.44it/s]s]\n",
      "Interpolating SPH field ('PartType0', 'particle_velocity_z'): 15600000it [00:07, 2107307.19it/s]\n",
      "Interpolating SPH field ('PartType0', 'Density'): 16800000it [00:08, 2027683.27it/s]9.64it/s] \n",
      "Interpolating SPH field ('PartType0', 'particle_velocity_y'): 16800000it [00:08, 1981852.82it/s]\n",
      "Interpolating SPH field ('PartType0', 'Density'): 34900000it [00:15, 2466068.34it/s]63.09it/s]"
     ]
    },
    {
     "name": "stdout",
     "output_type": "stream",
     "text": [
      "Box_length: 579 pc\n"
     ]
    },
    {
     "name": "stderr",
     "output_type": "stream",
     "text": [
      "yt : [INFO     ] 2024-07-25 00:37:43,274 Omega Lambda is 0.0, so we are turning off Cosmology.\n",
      "Interpolating SPH field ('PartType0', 'particle_velocity_z'): 9800000it [01:14, 174653.79it/s]yt : [INFO     ] 2024-07-25 00:37:43,311 Parameters: current_time              = 0.049009036794660774\n",
      "yt : [INFO     ] 2024-07-25 00:37:43,312 Parameters: domain_dimensions         = [1 1 1]\n",
      "yt : [INFO     ] 2024-07-25 00:37:43,312 Parameters: domain_left_edge          = [-8.49884541 -6.48280134 -7.21993491]\n",
      "yt : [INFO     ] 2024-07-25 00:37:43,312 Parameters: domain_right_edge         = [7.50115459 9.51719866 8.78006509]\n",
      "yt : [INFO     ] 2024-07-25 00:37:43,312 Parameters: cosmological_simulation   = 0\n",
      "yt : [WARNING  ] 2024-07-25 00:37:43,313 A bounding box was explicitly specified, so we are disabling periodicity.\n",
      "yt : [INFO     ] 2024-07-25 00:37:43,346 Allocating for 6.955e+06 particles\n",
      "Initializing coarse index : 100%|██████████| 26/26 [00:00<00:00, 39.64it/s]1.36it/s]29.78it/s]\n",
      "yt : [INFO     ] 2024-07-25 00:37:44,012 Updating index_order2 from 2 to 2\n",
      "Interpolating SPH field ('PartType0', 'Density'): 36600000it [00:16, 2225725.12it/s]\n",
      "Initializing refined index: 100%|██████████| 26/26 [00:03<00:00,  7.15it/s]:02, 2414491.86it/s]\n",
      "Interpolating SPH field ('PartType0', 'Density'): 16800000it [00:08, 2086349.80it/s]975.81it/s]]\n",
      "Interpolating SPH field ('PartType0', 'particle_velocity_x'): 36600000it [00:16, 2229342.70it/s]\n",
      "Interpolating SPH field ('PartType0', 'particle_velocity_z'): 16800000it [00:08, 2037273.50it/s]\n",
      "Interpolating SPH field ('PartType0', 'particle_velocity_z'): 16000000it [01:46, 150756.72it/s]\n",
      "Interpolating SPH field ('PartType0', 'Density'): 36600000it [00:15, 2294588.56it/s]\n",
      "yt : [INFO     ] 2024-07-25 00:38:24,132 Omega Lambda is 0.0, so we are turning off Cosmology.\n"
     ]
    },
    {
     "name": "stdout",
     "output_type": "stream",
     "text": [
      "Box_length: 579 pc\n"
     ]
    },
    {
     "name": "stderr",
     "output_type": "stream",
     "text": [
      "yt : [INFO     ] 2024-07-25 00:38:24,172 Parameters: current_time              = 0.049009036794660774\n",
      "yt : [INFO     ] 2024-07-25 00:38:24,172 Parameters: domain_dimensions         = [1 1 1]\n",
      "yt : [INFO     ] 2024-07-25 00:38:24,172 Parameters: domain_left_edge          = [-6.69045702 -8.28430941 -8.29583857]\n",
      "yt : [INFO     ] 2024-07-25 00:38:24,173 Parameters: domain_right_edge         = [9.30954298 7.71569059 7.70416143]\n",
      "yt : [INFO     ] 2024-07-25 00:38:24,173 Parameters: cosmological_simulation   = 0\n",
      "yt : [WARNING  ] 2024-07-25 00:38:24,174 A bounding box was explicitly specified, so we are disabling periodicity.\n",
      "yt : [INFO     ] 2024-07-25 00:38:24,206 Allocating for 7.496e+06 particles\n",
      "Initializing coarse index : 100%|██████████| 28/28 [00:00<00:00, 40.01it/s]00, 2528518.39it/s]\n",
      "yt : [INFO     ] 2024-07-25 00:38:24,918 Updating index_order2 from 2 to 2\n",
      "Initializing refined index: 100%|██████████| 28/28 [00:03<00:00,  7.23it/s]69it/s]13681.92it/s]\n",
      "Interpolating SPH field ('PartType0', 'particle_velocity_y'): 28200000it [00:12, 2837881.73it/s]"
     ]
    },
    {
     "name": "stdout",
     "output_type": "stream",
     "text": [
      "Center of Mass:  [4.07881297 3.7818299  9.19138304]\n"
     ]
    },
    {
     "name": "stderr",
     "output_type": "stream",
     "text": [
      "Interpolating SPH field ('PartType0', 'particle_velocity_y'): 28850000it [00:13, 2162869.31it/s]"
     ]
    },
    {
     "name": "stdout",
     "output_type": "stream",
     "text": [
      "Search radius: 108.723 pc\n"
     ]
    },
    {
     "name": "stderr",
     "output_type": "stream",
     "text": [
      "Interpolating SPH field ('PartType0', 'particle_velocity_y'): 29400000it [00:13, 2241474.74it/s]yt : [INFO     ] 2024-07-25 00:38:38,264 Omega Lambda is 0.0, so we are turning off Cosmology.\n"
     ]
    },
    {
     "name": "stdout",
     "output_type": "stream",
     "text": [
      "Box_length: 2319 pc\n"
     ]
    },
    {
     "name": "stderr",
     "output_type": "stream",
     "text": [
      "yt : [INFO     ] 2024-07-25 00:38:38,312 Parameters: current_time              = 0.049009036794660774\n",
      "yt : [INFO     ] 2024-07-25 00:38:38,312 Parameters: domain_dimensions         = [1 1 1]\n",
      "yt : [INFO     ] 2024-07-25 00:38:38,312 Parameters: domain_left_edge          = [-27.92118703 -28.2181701  -22.80861696]\n",
      "yt : [INFO     ] 2024-07-25 00:38:38,312 Parameters: domain_right_edge         = [36.07881297 35.7818299  41.19138304]\n",
      "yt : [INFO     ] 2024-07-25 00:38:38,313 Parameters: cosmological_simulation   = 0\n",
      "yt : [WARNING  ] 2024-07-25 00:38:38,313 A bounding box was explicitly specified, so we are disabling periodicity.\n",
      "Interpolating SPH field ('PartType0', 'particle_velocity_y'): 29650000it [00:13, 1992548.94it/s]yt : [INFO     ] 2024-07-25 00:38:38,382 Allocating for 1.633e+07 particles\n",
      "Initializing coarse index : 100%|██████████| 61/61 [00:01<00:00, 49.11it/s]8it/s] 701934.11it/s]\n",
      "Interpolating SPH field ('PartType0', 'Density'): 650000it [00:10, 56819.55it/s]yt : [INFO     ] 2024-07-25 00:38:39,643 Updating index_order2 from 2 to 2\n",
      "Interpolating SPH field ('PartType0', 'particle_velocity_y'): 36600000it [00:16, 2171024.24it/s]\n",
      "Initializing refined index: 100%|██████████| 61/61 [00:05<00:00, 10.93it/s]27it/s]\n",
      "Interpolating SPH field ('PartType0', 'Density'): 36600000it [00:14, 2536297.12it/s]\n",
      "Interpolating SPH field ('PartType0', 'Density'): 36600000it [00:17, 2090643.07it/s]783.29it/s]\n",
      "Interpolating SPH field ('PartType0', 'particle_velocity_x'): 36600000it [00:14, 2470045.41it/s]\n",
      "Interpolating SPH field ('PartType0', 'particle_velocity_z'): 36600000it [00:17, 2081997.84it/s]\n",
      "Interpolating SPH field ('PartType0', 'Density'): 36600000it [00:14, 2542314.25it/s]\n",
      "Interpolating SPH field ('PartType0', 'particle_velocity_y'): 6050000it [00:02, 2281817.19it/s]"
     ]
    },
    {
     "name": "stdout",
     "output_type": "stream",
     "text": [
      "Box_length: 579 pc\n"
     ]
    },
    {
     "name": "stderr",
     "output_type": "stream",
     "text": [
      "yt : [INFO     ] 2024-07-25 00:39:38,522 Omega Lambda is 0.0, so we are turning off Cosmology.\n",
      "yt : [INFO     ] 2024-07-25 00:39:38,561 Parameters: current_time              = 0.049009036794660774\n",
      "yt : [INFO     ] 2024-07-25 00:39:38,561 Parameters: domain_dimensions         = [1 1 1]\n",
      "yt : [INFO     ] 2024-07-25 00:39:38,562 Parameters: domain_left_edge          = [-8.69164187 -7.46395002 -6.0674117 ]\n",
      "yt : [INFO     ] 2024-07-25 00:39:38,562 Parameters: domain_right_edge         = [7.30835813 8.53604998 9.9325883 ]\n",
      "yt : [INFO     ] 2024-07-25 00:39:38,562 Parameters: cosmological_simulation   = 0\n",
      "yt : [WARNING  ] 2024-07-25 00:39:38,562 A bounding box was explicitly specified, so we are disabling periodicity.\n",
      "Interpolating SPH field ('PartType0', 'particle_velocity_y'): 6400000it [00:02, 2511002.94it/s]yt : [INFO     ] 2024-07-25 00:39:38,615 Allocating for 1.633e+07 particles\n",
      "Initializing coarse index : 100%|██████████| 61/61 [00:01<00:00, 49.56it/s]:04, 1954059.15it/s]\n",
      "yt : [INFO     ] 2024-07-25 00:39:39,869 Updating index_order2 from 2 to 2\n",
      "Initializing refined index: 100%|██████████| 61/61 [00:06<00:00, 10.15it/s]0:10, 2884443.80it/s]\n",
      "Interpolating SPH field ('PartType0', 'particle_velocity_y'): 36600000it [00:14, 2489681.80it/s]\n",
      "Interpolating SPH field ('PartType0', 'Density'): 15600000it [02:14, 116068.60it/s]]\n",
      "Interpolating SPH field ('PartType0', 'Density'): 36600000it [00:14, 2528536.24it/s]8.56it/s]\n",
      "Interpolating SPH field ('PartType0', 'particle_velocity_z'): 36600000it [00:14, 2475974.35it/s]\n",
      "Interpolating SPH field ('PartType0', 'Density'): 16000000it [02:04, 128856.39it/s]45.34it/s] \n",
      "Interpolating SPH field ('PartType0', 'particle_velocity_x'): 4100000it [00:37, 75227.03it/s]yt : [INFO     ] 2024-07-25 00:40:41,238 Omega Lambda is 0.0, so we are turning off Cosmology.\n",
      "Interpolating SPH field ('PartType0', 'particle_velocity_x'): 500000it [00:06, 73917.33it/s]yt : [INFO     ] 2024-07-25 00:40:41,276 Parameters: current_time              = 0.049009036794660774\n",
      "yt : [INFO     ] 2024-07-25 00:40:41,276 Parameters: domain_dimensions         = [1 1 1]\n",
      "yt : [INFO     ] 2024-07-25 00:40:41,276 Parameters: domain_left_edge          = [-3.92118703 -4.2181701   1.19138304]\n",
      "yt : [INFO     ] 2024-07-25 00:40:41,277 Parameters: domain_right_edge         = [12.07881297 11.7818299  17.19138304]\n",
      "yt : [INFO     ] 2024-07-25 00:40:41,277 Parameters: cosmological_simulation   = 0\n",
      "yt : [WARNING  ] 2024-07-25 00:40:41,277 A bounding box was explicitly specified, so we are disabling periodicity.\n",
      "Interpolating SPH field ('PartType0', 'particle_velocity_x'): 4150000it [00:37, 98646.61it/s]yt : [INFO     ] 2024-07-25 00:40:41,325 Allocating for 1.633e+07 particles\n",
      "Initializing coarse index :   0%|          | 0/61 [00:00<?, ?it/s]"
     ]
    },
    {
     "name": "stdout",
     "output_type": "stream",
     "text": [
      "Box_length: 579 pc\n"
     ]
    },
    {
     "name": "stderr",
     "output_type": "stream",
     "text": [
      "Initializing coarse index : 100%|██████████| 61/61 [00:01<00:00, 58.23it/s]86it/s]699.19it/s]\n",
      "yt : [INFO     ] 2024-07-25 00:40:42,396 Updating index_order2 from 2 to 2\n",
      "Initializing refined index: 100%|██████████| 61/61 [00:05<00:00, 10.50it/s]:13, 250785.26it/s]\n",
      "Interpolating SPH field ('PartType0', 'Density'): 23100000it [02:27, 156382.20it/s]9873.65it/s]\n",
      "Interpolating SPH field ('PartType0', 'particle_velocity_x'): 15600000it [02:16, 114040.46it/s]\n",
      "Interpolating SPH field ('PartType0', 'particle_velocity_x'): 16000000it [02:06, 126336.83it/s]\n",
      "Interpolating SPH field ('PartType0', 'Density'): 35200000it [03:42, 158239.19it/s]5406.29it/s]\n",
      "Interpolating SPH field ('PartType0', 'particle_velocity_x'): 23100000it [02:21, 163022.83it/s]\n",
      "Interpolating SPH field ('PartType0', 'Density'): 15600000it [02:14, 115738.18it/s]72.33it/s] \n",
      "Interpolating SPH field ('PartType0', 'Density'): 16000000it [02:10, 122893.87it/s]59.52it/s] \n",
      "Interpolating SPH field ('PartType0', 'particle_velocity_y'): 15600000it [02:15, 115179.86it/s]\n",
      "Interpolating SPH field ('PartType0', 'particle_velocity_y'): 16000000it [02:06, 126731.09it/s]\n",
      "Interpolating SPH field ('PartType0', 'Density'): 23100000it [02:22, 161810.23it/s]7170.57it/s]\n",
      "Interpolating SPH field ('PartType0', 'particle_velocity_x'): 35200000it [03:42, 157946.53it/s]\n",
      "Interpolating SPH field ('PartType0', 'Density'): 16000000it [02:09, 123772.34it/s]1023.29it/s]\n",
      "Interpolating SPH field ('PartType0', 'Density'): 15600000it [02:19, 112169.97it/s]3216.68it/s]\n",
      "Interpolating SPH field ('PartType0', 'particle_velocity_y'): 23100000it [02:25, 158906.54it/s]\n",
      "Interpolating SPH field ('PartType0', 'particle_velocity_z'): 16000000it [02:05, 127221.80it/s]\n",
      "Interpolating SPH field ('PartType0', 'particle_velocity_z'): 15600000it [02:14, 115915.72it/s]\n",
      "Interpolating SPH field ('PartType0', 'Density'): 21050000it [02:09, 514937.38it/s]"
     ]
    },
    {
     "name": "stdout",
     "output_type": "stream",
     "text": [
      "Center of Mass:  [-4.5650574  -2.73351712 -1.15821698]\n",
      "Search radius: 108.723 pc\n",
      "Box_length: 2319 pc\n"
     ]
    },
    {
     "name": "stderr",
     "output_type": "stream",
     "text": [
      "Interpolating SPH field ('PartType0', 'Density'): 21150000it [02:09, 479716.94it/s]yt : [INFO     ] 2024-07-25 00:51:55,835 Omega Lambda is 0.0, so we are turning off Cosmology.\n",
      "yt : [INFO     ] 2024-07-25 00:51:55,881 Parameters: current_time              = 0.049009036794660774\n",
      "yt : [INFO     ] 2024-07-25 00:51:55,881 Parameters: domain_dimensions         = [1 1 1]\n",
      "yt : [INFO     ] 2024-07-25 00:51:55,882 Parameters: domain_left_edge          = [-36.5650574  -34.73351712 -33.15821698]\n",
      "yt : [INFO     ] 2024-07-25 00:51:55,882 Parameters: domain_right_edge         = [27.4349426  29.26648288 30.84178302]\n",
      "yt : [INFO     ] 2024-07-25 00:51:55,882 Parameters: cosmological_simulation   = 0\n",
      "yt : [WARNING  ] 2024-07-25 00:51:55,882 A bounding box was explicitly specified, so we are disabling periodicity.\n",
      "yt : [INFO     ] 2024-07-25 00:51:55,931 Allocating for 7.504e+06 particles\n",
      "Initializing coarse index : 100%|██████████| 28/28 [00:00<00:00, 42.17it/s].66it/s]\n",
      "yt : [INFO     ] 2024-07-25 00:51:56,604 Updating index_order2 from 2 to 2\n",
      "Initializing refined index: 100%|██████████| 28/28 [00:03<00:00,  9.28it/s].01it/s]\n",
      "Interpolating SPH field ('PartType0', 'Density'): 35200000it [03:43, 157200.31it/s]]\n",
      "Interpolating SPH field ('PartType0', 'Density'): 23100000it [02:22, 162590.56it/s]73.18it/s]\n",
      "Interpolating SPH field ('PartType0', 'Density'): 15350000it [00:08, 1661205.59it/s]"
     ]
    },
    {
     "name": "stdout",
     "output_type": "stream",
     "text": [
      "Center of Mass:  [-2.35136525 11.72257385 -8.5144677 ]\n"
     ]
    },
    {
     "name": "stderr",
     "output_type": "stream",
     "text": [
      "Interpolating SPH field ('PartType0', 'particle_velocity_z'): 200000it [00:00, 537033.99it/s]"
     ]
    },
    {
     "name": "stdout",
     "output_type": "stream",
     "text": [
      "Search radius: 108.723 pc\n"
     ]
    },
    {
     "name": "stderr",
     "output_type": "stream",
     "text": [
      "Interpolating SPH field ('PartType0', 'Density'): 16800000it [00:09, 1732810.32it/s]\n",
      "Interpolating SPH field ('PartType0', 'particle_velocity_z'): 300000it [00:00, 330642.81it/s]yt : [INFO     ] 2024-07-25 00:52:09,857 Omega Lambda is 0.0, so we are turning off Cosmology.\n",
      "yt : [INFO     ] 2024-07-25 00:52:09,907 Parameters: current_time              = 0.049009036794660774\n",
      "yt : [INFO     ] 2024-07-25 00:52:09,907 Parameters: domain_dimensions         = [1 1 1]\n",
      "yt : [INFO     ] 2024-07-25 00:52:09,907 Parameters: domain_left_edge          = [-34.35136525 -20.27742615 -40.5144677 ]\n",
      "yt : [INFO     ] 2024-07-25 00:52:09,908 Parameters: domain_right_edge         = [29.64863475 43.72257385 23.4855323 ]\n",
      "yt : [INFO     ] 2024-07-25 00:52:09,908 Parameters: cosmological_simulation   = 0\n",
      "yt : [WARNING  ] 2024-07-25 00:52:09,908 A bounding box was explicitly specified, so we are disabling periodicity.\n",
      "Interpolating SPH field ('PartType0', 'particle_velocity_y'): 250000it [00:02, 76510.97it/s] "
     ]
    },
    {
     "name": "stdout",
     "output_type": "stream",
     "text": [
      "Box_length: 2319 pc\n"
     ]
    },
    {
     "name": "stderr",
     "output_type": "stream",
     "text": [
      "Interpolating SPH field ('PartType0', 'particle_velocity_z'): 350000it [00:00, 343218.53it/s]yt : [INFO     ] 2024-07-25 00:52:09,982 Allocating for 1.905e+07 particles\n",
      "Initializing coarse index : 100%|██████████| 71/71 [00:01<00:00, 46.68it/s]02, 230829.85it/s]s]\n",
      "yt : [INFO     ] 2024-07-25 00:52:11,531 Updating index_order2 from 2 to 2\n",
      "Initializing refined index: 100%|██████████| 71/71 [00:06<00:00, 10.84it/s]:09, 110078.13it/s]s]\n",
      "Interpolating SPH field ('PartType0', 'particle_velocity_x'): 16800000it [00:10, 1670443.44it/s]\n",
      "Interpolating SPH field ('PartType0', 'Density'): 16800000it [00:09, 1713664.66it/s]72.67it/s]\n",
      "Interpolating SPH field ('PartType0', 'Density'): 42600000it [00:17, 2401623.64it/s]55.43it/s]\n",
      "Interpolating SPH field ('PartType0', 'particle_velocity_y'): 16800000it [00:09, 1715286.33it/s]\n",
      "Interpolating SPH field ('PartType0', 'particle_velocity_x'): 42600000it [00:18, 2330961.56it/s]\n",
      "Interpolating SPH field ('PartType0', 'Density'): 16800000it [00:09, 1774498.26it/s]4.78it/s] \n",
      "Interpolating SPH field ('PartType0', 'particle_velocity_z'): 16800000it [00:09, 1730480.79it/s]\n",
      "Interpolating SPH field ('PartType0', 'Density'): 42600000it [00:17, 2388903.99it/s]723.54it/s]\n",
      "Interpolating SPH field ('PartType0', 'particle_velocity_y'): 10850000it [00:05, 2197517.62it/s]"
     ]
    },
    {
     "name": "stdout",
     "output_type": "stream",
     "text": [
      "Box_length: 579 pc\n"
     ]
    },
    {
     "name": "stderr",
     "output_type": "stream",
     "text": [
      "yt : [INFO     ] 2024-07-25 00:53:25,763 Omega Lambda is 0.0, so we are turning off Cosmology.\n",
      "Interpolating SPH field ('PartType0', 'particle_velocity_y'): 11200000it [00:05, 2295169.76it/s]yt : [INFO     ] 2024-07-25 00:53:25,804 Parameters: current_time              = 0.049009036794660774\n",
      "yt : [INFO     ] 2024-07-25 00:53:25,804 Parameters: domain_dimensions         = [1 1 1]\n",
      "yt : [INFO     ] 2024-07-25 00:53:25,804 Parameters: domain_left_edge          = [-12.5650574  -10.73351712  -9.15821698]\n",
      "yt : [INFO     ] 2024-07-25 00:53:25,805 Parameters: domain_right_edge         = [3.4349426  5.26648288 6.84178302]\n",
      "yt : [INFO     ] 2024-07-25 00:53:25,805 Parameters: cosmological_simulation   = 0\n",
      "yt : [WARNING  ] 2024-07-25 00:53:25,805 A bounding box was explicitly specified, so we are disabling periodicity.\n",
      "yt : [INFO     ] 2024-07-25 00:53:25,837 Allocating for 7.504e+06 particles\n",
      "Initializing coarse index : 100%|██████████| 28/28 [00:00<00:00, 46.67it/s]0:05, 2434168.61it/s]\n",
      "Interpolating SPH field ('PartType0', 'particle_velocity_y'): 12650000it [00:06, 2094786.71it/s]yt : [INFO     ] 2024-07-25 00:53:26,448 Updating index_order2 from 2 to 2\n",
      "Initializing refined index: 100%|██████████| 28/28 [00:03<00:00,  8.77it/s]0:09, 1663813.69it/s]\n",
      "Interpolating SPH field ('PartType0', 'particle_velocity_y'): 42600000it [00:19, 2200382.07it/s]\n",
      "Interpolating SPH field ('PartType0', 'Density'): 42600000it [00:18, 2305382.21it/s]853.33it/s]\n",
      "Interpolating SPH field ('PartType0', 'particle_velocity_z'): 42600000it [00:18, 2306924.76it/s]\n",
      "Interpolating SPH field ('PartType0', 'particle_velocity_z'): 23100000it [02:23, 161173.92it/s]\n",
      "Interpolating SPH field ('PartType0', 'Density'): 7750000it [01:12, 146749.61it/s]23169.33it/s]"
     ]
    },
    {
     "name": "stdout",
     "output_type": "stream",
     "text": [
      "Box_length: 579 pc\n"
     ]
    },
    {
     "name": "stderr",
     "output_type": "stream",
     "text": [
      "yt : [INFO     ] 2024-07-25 00:54:42,728 Omega Lambda is 0.0, so we are turning off Cosmology.\n",
      "yt : [INFO     ] 2024-07-25 00:54:42,768 Parameters: current_time              = 0.049009036794660774\n",
      "yt : [INFO     ] 2024-07-25 00:54:42,769 Parameters: domain_dimensions         = [1 1 1]\n",
      "yt : [INFO     ] 2024-07-25 00:54:42,769 Parameters: domain_left_edge          = [-10.35136525   3.72257385 -16.5144677 ]\n",
      "yt : [INFO     ] 2024-07-25 00:54:42,769 Parameters: domain_right_edge         = [ 5.64863475 19.72257385 -0.5144677 ]\n",
      "yt : [INFO     ] 2024-07-25 00:54:42,769 Parameters: cosmological_simulation   = 0\n",
      "yt : [WARNING  ] 2024-07-25 00:54:42,769 A bounding box was explicitly specified, so we are disabling periodicity.\n",
      "yt : [INFO     ] 2024-07-25 00:54:42,828 Allocating for 1.905e+07 particles\n",
      "Initializing coarse index : 100%|██████████| 71/71 [00:01<00:00, 66.32it/s]90it/s]\n",
      "yt : [INFO     ] 2024-07-25 00:54:43,926 Updating index_order2 from 2 to 2\n",
      "Initializing refined index: 100%|██████████| 71/71 [00:05<00:00, 12.61it/s]2:41, 407636.77it/s]\n",
      "Interpolating SPH field ('PartType0', 'particle_velocity_y'): 26900000it [02:49, 313201.40it/s]"
     ]
    },
    {
     "name": "stdout",
     "output_type": "stream",
     "text": [
      "Center of Mass:  [-0.23069417  0.79596334  0.3165614 ]\n",
      "Search radius: 108.723 pc\n"
     ]
    },
    {
     "name": "stderr",
     "output_type": "stream",
     "text": [
      "Interpolating SPH field ('PartType0', 'Density'): 9200000it [01:27, 62978.85it/s]418982.49it/s]"
     ]
    },
    {
     "name": "stdout",
     "output_type": "stream",
     "text": [
      "Box_length: 2319 pc\n"
     ]
    },
    {
     "name": "stderr",
     "output_type": "stream",
     "text": [
      "Interpolating SPH field ('PartType0', 'Density'): 750000it [00:07, 92236.48it/s] yt : [INFO     ] 2024-07-25 00:54:57,791 Omega Lambda is 0.0, so we are turning off Cosmology.\n",
      "yt : [INFO     ] 2024-07-25 00:54:57,837 Parameters: current_time              = 0.049009036794660774\n",
      "yt : [INFO     ] 2024-07-25 00:54:57,838 Parameters: domain_dimensions         = [1 1 1]\n",
      "yt : [INFO     ] 2024-07-25 00:54:57,838 Parameters: domain_left_edge          = [-32.23069417 -31.20403666 -31.6834386 ]\n",
      "yt : [INFO     ] 2024-07-25 00:54:57,838 Parameters: domain_right_edge         = [31.76930583 32.79596334 32.3165614 ]\n",
      "yt : [INFO     ] 2024-07-25 00:54:57,838 Parameters: cosmological_simulation   = 0\n",
      "yt : [WARNING  ] 2024-07-25 00:54:57,838 A bounding box was explicitly specified, so we are disabling periodicity.\n",
      "Interpolating SPH field ('PartType0', 'particle_velocity_y'): 27100000it [02:50, 387132.32it/s]yt : [INFO     ] 2024-07-25 00:54:57,889 Allocating for 7.758e+06 particles\n",
      "Initializing coarse index : 100%|██████████| 29/29 [00:00<00:00, 47.09it/s]2:50, 473348.42it/s]\n",
      "yt : [INFO     ] 2024-07-25 00:54:58,513 Updating index_order2 from 2 to 2\n",
      "Initializing refined index: 100%|██████████| 29/29 [00:02<00:00, 10.20it/s]2:53, 231343.01it/s]\n",
      "Interpolating SPH field ('PartType0', 'Density'): 17400000it [00:07, 2294478.97it/s]88.59it/s] \n",
      "Interpolating SPH field ('PartType0', 'Density'): 11400000it [01:47, 106375.29it/s]96359.06it/s]\n",
      "Interpolating SPH field ('PartType0', 'particle_velocity_x'): 17400000it [00:07, 2252152.31it/s]\n",
      "Interpolating SPH field ('PartType0', 'Density'): 17400000it [00:07, 2365958.54it/s]057.88it/s]\n",
      "Interpolating SPH field ('PartType0', 'particle_velocity_y'): 17400000it [00:07, 2286679.70it/s]\n",
      "Interpolating SPH field ('PartType0', 'particle_velocity_y'): 35200000it [03:44, 156832.78it/s]\n",
      "Interpolating SPH field ('PartType0', 'Density'): 17400000it [00:07, 2328688.03it/s]5.10it/s] \n",
      "Interpolating SPH field ('PartType0', 'particle_velocity_z'): 17400000it [00:07, 2273819.40it/s]\n",
      "Interpolating SPH field ('PartType0', 'Density'): 13200000it [01:29, 85554.20it/s]yt : [INFO     ] 2024-07-25 00:56:20,118 Omega Lambda is 0.0, so we are turning off Cosmology.\n",
      "Interpolating SPH field ('PartType0', 'particle_velocity_x'): 6350000it [01:02, 123006.13it/s]yt : [INFO     ] 2024-07-25 00:56:20,156 Parameters: current_time              = 0.049009036794660774\n",
      "yt : [INFO     ] 2024-07-25 00:56:20,156 Parameters: domain_dimensions         = [1 1 1]\n",
      "yt : [INFO     ] 2024-07-25 00:56:20,157 Parameters: domain_left_edge          = [-8.23069417 -7.20403666 -7.6834386 ]\n",
      "yt : [INFO     ] 2024-07-25 00:56:20,157 Parameters: domain_right_edge         = [7.76930583 8.79596334 8.3165614 ]\n",
      "yt : [INFO     ] 2024-07-25 00:56:20,157 Parameters: cosmological_simulation   = 0\n",
      "yt : [WARNING  ] 2024-07-25 00:56:20,157 A bounding box was explicitly specified, so we are disabling periodicity.\n",
      "yt : [INFO     ] 2024-07-25 00:56:20,192 Allocating for 7.758e+06 particles\n"
     ]
    },
    {
     "name": "stdout",
     "output_type": "stream",
     "text": [
      "Box_length: 579 pc\n"
     ]
    },
    {
     "name": "stderr",
     "output_type": "stream",
     "text": [
      "Initializing coarse index : 100%|██████████| 29/29 [00:00<00:00, 38.96it/s].65it/s]549.45it/s]\n",
      "yt : [INFO     ] 2024-07-25 00:56:20,950 Updating index_order2 from 2 to 2\n",
      "Initializing refined index: 100%|██████████| 29/29 [00:03<00:00,  7.34it/s]:06, 202118.83it/s]\n",
      "Interpolating SPH field ('PartType0', 'particle_velocity_x'): 11400000it [01:45, 108175.21it/s]\n",
      "Interpolating SPH field ('PartType0', 'Density'): 27400000it [02:47, 163490.49it/s]\n",
      "Interpolating SPH field ('PartType0', 'Density'): 17400000it [02:02, 141864.20it/s]009.66it/s]\n",
      "Interpolating SPH field ('PartType0', 'Density'): 11400000it [01:45, 107714.44it/s]930.37it/s]]\n",
      "Interpolating SPH field ('PartType0', 'Density'): 35200000it [03:43, 157474.72it/s]38.35it/s]s]\n",
      "Interpolating SPH field ('PartType0', 'particle_velocity_x'): 27400000it [02:46, 165017.97it/s]\n",
      "Interpolating SPH field ('PartType0', 'particle_velocity_x'): 17400000it [02:02, 141687.73it/s]\n",
      "Interpolating SPH field ('PartType0', 'particle_velocity_y'): 11400000it [01:45, 107789.46it/s]\n",
      "Interpolating SPH field ('PartType0', 'Density'): 11400000it [01:46, 107465.04it/s]0032.80it/s]\n",
      "Interpolating SPH field ('PartType0', 'Density'): 17400000it [02:03, 141113.05it/s]65.81it/s]] \n",
      "Interpolating SPH field ('PartType0', 'Density'): 27400000it [02:46, 164676.37it/s]5279.17it/s]\n",
      "Interpolating SPH field ('PartType0', 'particle_velocity_z'): 35200000it [03:44, 156963.82it/s]\n",
      "Interpolating SPH field ('PartType0', 'particle_velocity_y'): 9600000it [01:05, 114185.01it/s]"
     ]
    },
    {
     "name": "stdout",
     "output_type": "stream",
     "text": [
      "Center of Mass:  [-1.15132457 -0.47944313 -0.10195476]\n",
      "Search radius: 108.723 pc\n",
      "Box_length: 2319 pc\n"
     ]
    },
    {
     "name": "stderr",
     "output_type": "stream",
     "text": [
      "Interpolating SPH field ('PartType0', 'particle_velocity_z'): 7900000it [01:13, 120026.47it/s]yt : [INFO     ] 2024-07-25 01:03:51,860 Omega Lambda is 0.0, so we are turning off Cosmology.\n",
      "yt : [INFO     ] 2024-07-25 01:03:51,915 Parameters: current_time              = 0.049009036794660774\n",
      "yt : [INFO     ] 2024-07-25 01:03:51,915 Parameters: domain_dimensions         = [1 1 1]\n",
      "yt : [INFO     ] 2024-07-25 01:03:51,915 Parameters: domain_left_edge          = [-33.15132457 -32.47944313 -32.10195476]\n",
      "yt : [INFO     ] 2024-07-25 01:03:51,916 Parameters: domain_right_edge         = [30.84867543 31.52055687 31.89804524]\n",
      "yt : [INFO     ] 2024-07-25 01:03:51,916 Parameters: cosmological_simulation   = 0\n",
      "yt : [WARNING  ] 2024-07-25 01:03:51,916 A bounding box was explicitly specified, so we are disabling periodicity.\n",
      "yt : [INFO     ] 2024-07-25 01:03:51,964 Allocating for 6.947e+06 particles\n",
      "Initializing coarse index : 100%|██████████| 26/26 [00:00<00:00, 38.76it/s]:13, 171440.77it/s]\n",
      "yt : [INFO     ] 2024-07-25 01:03:52,645 Updating index_order2 from 2 to 2\n",
      "Initializing refined index: 100%|██████████| 26/26 [00:02<00:00, 10.21it/s]:16, 144474.11it/s]]\n",
      "Interpolating SPH field ('PartType0', 'Density'): 15600000it [00:08, 1880386.58it/s]48.88it/s]]\n",
      "Interpolating SPH field ('PartType0', 'particle_velocity_x'): 15600000it [00:08, 1853588.77it/s]\n",
      "Interpolating SPH field ('PartType0', 'particle_velocity_z'): 11400000it [01:46, 107431.31it/s]\n",
      "Interpolating SPH field ('PartType0', 'Density'): 15600000it [00:08, 1902707.93it/s]149.37it/s]\n",
      "Interpolating SPH field ('PartType0', 'particle_velocity_y'): 15600000it [00:08, 1839262.72it/s]\n",
      "Interpolating SPH field ('PartType0', 'Density'): 10250000it [00:05, 1802034.80it/s]533.90it/s]"
     ]
    },
    {
     "name": "stdout",
     "output_type": "stream",
     "text": [
      "Center of Mass:  [ 1.88218304 -0.84686036  1.30254649]\n",
      "Search radius: 108.723 pc\n"
     ]
    },
    {
     "name": "stderr",
     "output_type": "stream",
     "text": [
      "Interpolating SPH field ('PartType0', 'particle_velocity_y'): 12900000it [01:24, 53287.08it/s]yt : [INFO     ] 2024-07-25 01:04:46,885 Omega Lambda is 0.0, so we are turning off Cosmology.\n",
      "yt : [INFO     ] 2024-07-25 01:04:46,935 Parameters: current_time              = 0.049009036794660774\n",
      "yt : [INFO     ] 2024-07-25 01:04:46,936 Parameters: domain_dimensions         = [1 1 1]\n",
      "yt : [INFO     ] 2024-07-25 01:04:46,936 Parameters: domain_left_edge          = [-30.11781696 -32.84686036 -30.69745351]\n",
      "yt : [INFO     ] 2024-07-25 01:04:46,936 Parameters: domain_right_edge         = [33.88218304 31.15313964 33.30254649]\n",
      "yt : [INFO     ] 2024-07-25 01:04:46,937 Parameters: cosmological_simulation   = 0\n",
      "yt : [WARNING  ] 2024-07-25 01:04:46,937 A bounding box was explicitly specified, so we are disabling periodicity.\n",
      "Interpolating SPH field ('PartType0', 'Density'): 11100000it [00:06, 1704760.56it/s]yt : [INFO     ] 2024-07-25 01:04:46,989 Allocating for 7.479e+06 particles\n",
      "Initializing coarse index :   0%|          | 0/28 [00:00<?, ?it/s]"
     ]
    },
    {
     "name": "stdout",
     "output_type": "stream",
     "text": [
      "Box_length: 2319 pc\n"
     ]
    },
    {
     "name": "stderr",
     "output_type": "stream",
     "text": [
      "Initializing coarse index : 100%|██████████| 28/28 [00:00<00:00, 42.60it/s]3.29it/s]078.08it/s]\n",
      "yt : [INFO     ] 2024-07-25 01:04:47,656 Updating index_order2 from 2 to 2\n",
      "Interpolating SPH field ('PartType0', 'particle_velocity_y'): 17400000it [02:03, 140949.68it/s]\n",
      "Interpolating SPH field ('PartType0', 'Density'): 15600000it [00:08, 1894174.01it/s]\n",
      "Initializing refined index: 100%|██████████| 28/28 [00:02<00:00,  9.81it/s]1:28, 86996.19it/s]]\n",
      "Interpolating SPH field ('PartType0', 'particle_velocity_z'): 15600000it [00:07, 1972186.49it/s]\n",
      "Interpolating SPH field ('PartType0', 'Density'): 16800000it [00:07, 2174334.47it/s]127.17it/s]\n",
      "Interpolating SPH field ('PartType0', 'particle_velocity_x'): 16800000it [00:08, 2098262.89it/s]\n",
      "Interpolating SPH field ('PartType0', 'Density'): 1500000it [00:13, 91720.65it/s] 44383.45it/s]"
     ]
    },
    {
     "name": "stdout",
     "output_type": "stream",
     "text": [
      "Box_length: 579 pc\n"
     ]
    },
    {
     "name": "stderr",
     "output_type": "stream",
     "text": [
      "Interpolating SPH field ('PartType0', 'Density'): 0it [00:00, ?it/s]yt : [INFO     ] 2024-07-25 01:05:12,683 Omega Lambda is 0.0, so we are turning off Cosmology.\n",
      "yt : [INFO     ] 2024-07-25 01:05:12,720 Parameters: current_time              = 0.049009036794660774\n",
      "yt : [INFO     ] 2024-07-25 01:05:12,720 Parameters: domain_dimensions         = [1 1 1]\n",
      "yt : [INFO     ] 2024-07-25 01:05:12,721 Parameters: domain_left_edge          = [-9.15132457 -8.47944313 -8.10195476]\n",
      "yt : [INFO     ] 2024-07-25 01:05:12,721 Parameters: domain_right_edge         = [6.84867543 7.52055687 7.89804524]\n",
      "yt : [INFO     ] 2024-07-25 01:05:12,721 Parameters: cosmological_simulation   = 0\n",
      "yt : [WARNING  ] 2024-07-25 01:05:12,721 A bounding box was explicitly specified, so we are disabling periodicity.\n",
      "yt : [INFO     ] 2024-07-25 01:05:12,750 Allocating for 6.947e+06 particles\n",
      "Initializing coarse index : 100%|██████████| 26/26 [00:00<00:00, 38.06it/s]86it/s]]672.92it/s] \n",
      "yt : [INFO     ] 2024-07-25 01:05:13,444 Updating index_order2 from 2 to 2\n",
      "Initializing refined index: 100%|██████████| 26/26 [00:03<00:00,  7.38it/s].42it/s]1218.49it/s]\n",
      "Interpolating SPH field ('PartType0', 'Density'): 16800000it [00:07, 2153191.83it/s]21.51it/s] \n",
      "Interpolating SPH field ('PartType0', 'particle_velocity_y'): 16800000it [00:07, 2115465.76it/s]\n",
      "Interpolating SPH field ('PartType0', 'Density'): 16800000it [00:07, 2137101.36it/s]843.50it/s]\n",
      "Interpolating SPH field ('PartType0', 'particle_velocity_z'): 16800000it [00:07, 2121870.34it/s]\n",
      "Interpolating SPH field ('PartType0', 'Density'): 5650000it [00:47, 92032.97it/s] yt : [INFO     ] 2024-07-25 01:06:05,311 Omega Lambda is 0.0, so we are turning off Cosmology.\n",
      "yt : [INFO     ] 2024-07-25 01:06:05,350 Parameters: current_time              = 0.049009036794660774\n",
      "yt : [INFO     ] 2024-07-25 01:06:05,351 Parameters: domain_dimensions         = [1 1 1]\n",
      "yt : [INFO     ] 2024-07-25 01:06:05,351 Parameters: domain_left_edge          = [-6.11781696 -8.84686036 -6.69745351]\n",
      "yt : [INFO     ] 2024-07-25 01:06:05,351 Parameters: domain_right_edge         = [9.88218304 7.15313964 9.30254649]\n",
      "yt : [INFO     ] 2024-07-25 01:06:05,352 Parameters: cosmological_simulation   = 0\n",
      "yt : [WARNING  ] 2024-07-25 01:06:05,352 A bounding box was explicitly specified, so we are disabling periodicity.\n",
      "yt : [INFO     ] 2024-07-25 01:06:05,387 Allocating for 7.479e+06 particles\n",
      "Interpolating SPH field ('PartType0', 'Density'): 5700000it [00:47, 119850.98it/s]"
     ]
    },
    {
     "name": "stdout",
     "output_type": "stream",
     "text": [
      "Box_length: 579 pc\n"
     ]
    },
    {
     "name": "stderr",
     "output_type": "stream",
     "text": [
      "Initializing coarse index : 100%|██████████| 28/28 [00:00<00:00, 40.17it/s]2:44, 184758.75it/s]\n",
      "yt : [INFO     ] 2024-07-25 01:06:06,097 Updating index_order2 from 2 to 2\n",
      "Interpolating SPH field ('PartType0', 'particle_velocity_y'): 27400000it [02:45, 165295.50it/s]\n",
      "Initializing refined index: 100%|██████████| 28/28 [00:03<00:00,  7.34it/s].48it/s]\n",
      "Interpolating SPH field ('PartType0', 'Density'): 17400000it [02:03, 141021.05it/s]\n",
      "Interpolating SPH field ('PartType0', 'Density'): 13500000it [01:51, 121276.95it/s]5.09it/s]\n",
      "Interpolating SPH field ('PartType0', 'Density'): 16700000it [02:18, 120510.57it/s]6749.52it/s]\n",
      "Interpolating SPH field ('PartType0', 'particle_velocity_x'): 13500000it [01:51, 121040.56it/s]\n",
      "Interpolating SPH field ('PartType0', 'Density'): 27400000it [02:45, 165870.63it/s]6856.24it/s]\n",
      "Interpolating SPH field ('PartType0', 'particle_velocity_z'): 17400000it [02:03, 140698.62it/s]\n",
      "Interpolating SPH field ('PartType0', 'particle_velocity_x'): 7200000it [01:02, 120056.23it/s]"
     ]
    },
    {
     "name": "stdout",
     "output_type": "stream",
     "text": [
      "Center of Mass:  [ 0.68037788 -0.81703268  0.81336975]\n",
      "Search radius: 108.723 pc\n"
     ]
    },
    {
     "name": "stderr",
     "output_type": "stream",
     "text": [
      "Interpolating SPH field ('PartType0', 'Density'): 2600000it [00:22, 104019.88it/s]yt : [INFO     ] 2024-07-25 01:09:32,214 Omega Lambda is 0.0, so we are turning off Cosmology.\n",
      "Interpolating SPH field ('PartType0', 'particle_velocity_x'): 7300000it [01:02, 144118.69it/s]yt : [INFO     ] 2024-07-25 01:09:32,262 Parameters: current_time              = 0.049009036794660774\n",
      "yt : [INFO     ] 2024-07-25 01:09:32,262 Parameters: domain_dimensions         = [1 1 1]\n"
     ]
    },
    {
     "name": "stdout",
     "output_type": "stream",
     "text": [
      "Box_length: 2319 pc\n"
     ]
    },
    {
     "name": "stderr",
     "output_type": "stream",
     "text": [
      "yt : [INFO     ] 2024-07-25 01:09:32,263 Parameters: domain_left_edge          = [-31.31962212 -32.81703268 -31.18663025]\n",
      "yt : [INFO     ] 2024-07-25 01:09:32,263 Parameters: domain_right_edge         = [32.68037788 31.18296732 32.81336975]\n",
      "yt : [INFO     ] 2024-07-25 01:09:32,263 Parameters: cosmological_simulation   = 0\n",
      "yt : [WARNING  ] 2024-07-25 01:09:32,263 A bounding box was explicitly specified, so we are disabling periodicity.\n",
      "yt : [INFO     ] 2024-07-25 01:09:32,348 Allocating for 7.225e+06 particles\n",
      "Initializing coarse index : 100%|██████████| 27/27 [00:00<00:00, 42.61it/s]:29, 225819.40it/s]\n",
      "yt : [INFO     ] 2024-07-25 01:09:32,990 Updating index_order2 from 2 to 2\n",
      "Initializing refined index: 100%|██████████| 27/27 [00:02<00:00,  9.60it/s]:06, 102117.43it/s]\n",
      "Interpolating SPH field ('PartType0', 'Density'): 16200000it [00:07, 2040941.94it/s]06.65it/s]\n",
      "Interpolating SPH field ('PartType0', 'particle_velocity_x'): 16200000it [00:08, 2015911.15it/s]\n",
      "Interpolating SPH field ('PartType0', 'Density'): 16200000it [00:08, 1994396.97it/s]230.26it/s]\n",
      "Interpolating SPH field ('PartType0', 'particle_velocity_y'): 16200000it [00:08, 2008392.16it/s]\n",
      "Interpolating SPH field ('PartType0', 'Density'): 16200000it [00:07, 2059387.35it/s]193.95it/s]\n",
      "Interpolating SPH field ('PartType0', 'particle_velocity_z'): 16200000it [00:08, 2014099.67it/s]\n",
      "Interpolating SPH field ('PartType0', 'particle_velocity_x'): 16700000it [02:19, 119648.09it/s]\n",
      "Interpolating SPH field ('PartType0', 'Density'): 12800000it [01:47, 149623.30it/s]4728.40it/s]"
     ]
    },
    {
     "name": "stdout",
     "output_type": "stream",
     "text": [
      "Box_length: 579 pc\n"
     ]
    },
    {
     "name": "stderr",
     "output_type": "stream",
     "text": [
      "yt : [INFO     ] 2024-07-25 01:10:57,160 Omega Lambda is 0.0, so we are turning off Cosmology.\n",
      "Interpolating SPH field ('PartType0', 'Density'): 12850000it [01:47, 170758.19it/s]yt : [INFO     ] 2024-07-25 01:10:57,198 Parameters: current_time              = 0.049009036794660774\n",
      "yt : [INFO     ] 2024-07-25 01:10:57,198 Parameters: domain_dimensions         = [1 1 1]\n",
      "yt : [INFO     ] 2024-07-25 01:10:57,198 Parameters: domain_left_edge          = [-7.31962212 -8.81703268 -7.18663025]\n",
      "yt : [INFO     ] 2024-07-25 01:10:57,199 Parameters: domain_right_edge         = [8.68037788 7.18296732 8.81336975]\n",
      "yt : [INFO     ] 2024-07-25 01:10:57,199 Parameters: cosmological_simulation   = 0\n",
      "yt : [WARNING  ] 2024-07-25 01:10:57,199 A bounding box was explicitly specified, so we are disabling periodicity.\n",
      "yt : [INFO     ] 2024-07-25 01:10:57,232 Allocating for 7.225e+06 particles\n",
      "Initializing coarse index : 100%|██████████| 27/27 [00:00<00:00, 37.69it/s]1:54, 241172.78it/s]\n",
      "yt : [INFO     ] 2024-07-25 01:10:57,960 Updating index_order2 from 2 to 2\n",
      "Interpolating SPH field ('PartType0', 'Density'): 13500000it [01:51, 120774.12it/s]385.16it/s] \n",
      "Initializing refined index: 100%|██████████| 27/27 [00:03<00:00,  7.25it/s]2it/s]\n",
      "Interpolating SPH field ('PartType0', 'particle_velocity_z'): 27400000it [02:46, 165058.51it/s]\n",
      "Interpolating SPH field ('PartType0', 'particle_velocity_y'): 8850000it [01:12, 244492.73it/s]"
     ]
    },
    {
     "name": "stdout",
     "output_type": "stream",
     "text": [
      "Center of Mass:  [-1.72131508 -1.62594842 -0.47258517]\n",
      "Search radius: 108.723 pc\n"
     ]
    },
    {
     "name": "stderr",
     "output_type": "stream",
     "text": [
      "Interpolating SPH field ('PartType0', 'particle_velocity_y'): 8950000it [01:13, 269708.64it/s]"
     ]
    },
    {
     "name": "stdout",
     "output_type": "stream",
     "text": [
      "Box_length: 2319 pc\n"
     ]
    },
    {
     "name": "stderr",
     "output_type": "stream",
     "text": [
      "Interpolating SPH field ('PartType0', 'particle_velocity_y'): 9000000it [01:13, 267620.38it/s]yt : [INFO     ] 2024-07-25 01:12:15,354 Omega Lambda is 0.0, so we are turning off Cosmology.\n",
      "yt : [INFO     ] 2024-07-25 01:12:15,399 Parameters: current_time              = 0.049009036794660774\n",
      "yt : [INFO     ] 2024-07-25 01:12:15,399 Parameters: domain_dimensions         = [1 1 1]\n",
      "yt : [INFO     ] 2024-07-25 01:12:15,400 Parameters: domain_left_edge          = [-33.72131508 -33.62594842 -32.47258517]\n",
      "yt : [INFO     ] 2024-07-25 01:12:15,400 Parameters: domain_right_edge         = [30.27868492 30.37405158 31.52741483]\n",
      "yt : [INFO     ] 2024-07-25 01:12:15,400 Parameters: cosmological_simulation   = 0\n",
      "yt : [WARNING  ] 2024-07-25 01:12:15,400 A bounding box was explicitly specified, so we are disabling periodicity.\n",
      "yt : [INFO     ] 2024-07-25 01:12:15,453 Allocating for 7.233e+06 particles\n",
      "Initializing coarse index : 100%|██████████| 27/27 [00:00<00:00, 39.64it/s]7it/s] 8706.58it/s]\n",
      "yt : [INFO     ] 2024-07-25 01:12:16,144 Updating index_order2 from 2 to 2\n",
      "Initializing refined index: 100%|██████████| 27/27 [00:02<00:00,  9.71it/s]7it/s] 859.77it/s] \n",
      "Interpolating SPH field ('PartType0', 'Density'): 16200000it [00:07, 2060197.40it/s]1.48it/s]\n",
      "Interpolating SPH field ('PartType0', 'particle_velocity_x'): 16200000it [00:07, 2081337.05it/s]\n",
      "Interpolating SPH field ('PartType0', 'Density'): 16200000it [00:08, 1968422.34it/s]671.12it/s]\n",
      "Interpolating SPH field ('PartType0', 'particle_velocity_y'): 13500000it [01:52, 119739.54it/s]\n",
      "Interpolating SPH field ('PartType0', 'particle_velocity_y'): 16200000it [00:08, 1966858.72it/s]\n",
      "Interpolating SPH field ('PartType0', 'Density'): 16200000it [00:08, 1970273.62it/s]\n",
      "Interpolating SPH field ('PartType0', 'Density'): 16700000it [02:19, 119505.92it/s]6449.12it/s]\n",
      "Interpolating SPH field ('PartType0', 'Density'): 16000000it [02:17, 116537.53it/s]61897.17it/s]\n",
      "Interpolating SPH field ('PartType0', 'particle_velocity_z'): 16200000it [00:07, 2075884.88it/s]\n",
      "Interpolating SPH field ('PartType0', 'particle_velocity_x'): 1800000it [00:18, 57571.37it/s]yt : [INFO     ] 2024-07-25 01:13:39,592 Omega Lambda is 0.0, so we are turning off Cosmology.\n"
     ]
    },
    {
     "name": "stdout",
     "output_type": "stream",
     "text": [
      "Box_length: 579 pc\n"
     ]
    },
    {
     "name": "stderr",
     "output_type": "stream",
     "text": [
      "yt : [INFO     ] 2024-07-25 01:13:39,629 Parameters: current_time              = 0.049009036794660774\n",
      "yt : [INFO     ] 2024-07-25 01:13:39,630 Parameters: domain_dimensions         = [1 1 1]\n",
      "yt : [INFO     ] 2024-07-25 01:13:39,630 Parameters: domain_left_edge          = [-9.72131508 -9.62594842 -8.47258517]\n",
      "yt : [INFO     ] 2024-07-25 01:13:39,630 Parameters: domain_right_edge         = [6.27868492 6.37405158 7.52741483]\n",
      "yt : [INFO     ] 2024-07-25 01:13:39,630 Parameters: cosmological_simulation   = 0\n",
      "yt : [WARNING  ] 2024-07-25 01:13:39,630 A bounding box was explicitly specified, so we are disabling periodicity.\n",
      "yt : [INFO     ] 2024-07-25 01:13:39,665 Allocating for 7.233e+06 particles\n",
      "Initializing coarse index : 100%|██████████| 27/27 [00:00<00:00, 40.38it/s]9it/s] 113.22it/s]]\n",
      "yt : [INFO     ] 2024-07-25 01:13:40,346 Updating index_order2 from 2 to 2\n",
      "Initializing refined index: 100%|██████████| 27/27 [00:03<00:00,  7.41it/s]:23, 219643.60it/s]\n",
      "Interpolating SPH field ('PartType0', 'Density'): 13500000it [01:52, 120289.61it/s]1225.58it/s]\n",
      "Interpolating SPH field ('PartType0', 'Density'): 14700000it [01:45, 139652.01it/s]957.06it/s] \n",
      "Interpolating SPH field ('PartType0', 'particle_velocity_x'): 16000000it [02:15, 117824.35it/s]\n",
      "Interpolating SPH field ('PartType0', 'particle_velocity_y'): 16700000it [02:20, 118789.60it/s]\n",
      "Interpolating SPH field ('PartType0', 'particle_velocity_z'): 13500000it [01:52, 120234.41it/s]\n",
      "Interpolating SPH field ('PartType0', 'Density'): 10000000it [01:22, 94312.70it/s]1047.37it/s] "
     ]
    },
    {
     "name": "stdout",
     "output_type": "stream",
     "text": [
      "Center of Mass:  [-1.11502103 -0.06999729  0.84853428]\n",
      "Search radius: 108.723 pc\n"
     ]
    },
    {
     "name": "stderr",
     "output_type": "stream",
     "text": [
      "Interpolating SPH field ('PartType0', 'Density'): 9850000it [01:24, 99921.35it/s] yt : [INFO     ] 2024-07-25 01:17:10,719 Omega Lambda is 0.0, so we are turning off Cosmology.\n",
      "yt : [INFO     ] 2024-07-25 01:17:10,764 Parameters: current_time              = 0.049009036794660774\n",
      "yt : [INFO     ] 2024-07-25 01:17:10,765 Parameters: domain_dimensions         = [1 1 1]\n",
      "yt : [INFO     ] 2024-07-25 01:17:10,765 Parameters: domain_left_edge          = [-33.11502103 -32.06999729 -31.15146572]\n",
      "yt : [INFO     ] 2024-07-25 01:17:10,765 Parameters: domain_right_edge         = [30.88497897 31.93000271 32.84853428]\n",
      "yt : [INFO     ] 2024-07-25 01:17:10,766 Parameters: cosmological_simulation   = 0\n",
      "yt : [WARNING  ] 2024-07-25 01:17:10,766 A bounding box was explicitly specified, so we are disabling periodicity.\n",
      "yt : [INFO     ] 2024-07-25 01:17:10,823 Allocating for 8.782e+06 particles\n",
      "Initializing coarse index :   0%|          | 0/33 [00:00<?, ?it/s]"
     ]
    },
    {
     "name": "stdout",
     "output_type": "stream",
     "text": [
      "Box_length: 2319 pc\n"
     ]
    },
    {
     "name": "stderr",
     "output_type": "stream",
     "text": [
      "Initializing coarse index : 100%|██████████| 33/33 [00:00<00:00, 42.68it/s]1:40, 93250.29it/s]\n",
      "yt : [INFO     ] 2024-07-25 01:17:11,607 Updating index_order2 from 2 to 2\n",
      "Initializing refined index: 100%|██████████| 33/33 [00:03<00:00,  9.79it/s].15it/s]9558.16it/s]\n",
      "Interpolating SPH field ('PartType0', 'particle_velocity_x'): 14700000it [01:44, 140619.84it/s]\n",
      "Interpolating SPH field ('PartType0', 'Density'): 19800000it [00:08, 2345269.56it/s]\n",
      "Interpolating SPH field ('PartType0', 'particle_velocity_x'): 19800000it [00:08, 2322879.78it/s]\n",
      "Interpolating SPH field ('PartType0', 'Density'): 19800000it [00:08, 2336564.48it/s]\n",
      "Interpolating SPH field ('PartType0', 'particle_velocity_y'): 19800000it [00:08, 2327812.14it/s]\n",
      "Interpolating SPH field ('PartType0', 'Density'): 16000000it [02:16, 116850.19it/s]\n",
      "Interpolating SPH field ('PartType0', 'Density'): 16700000it [02:20, 118892.88it/s]]4.93it/s]\n",
      "Interpolating SPH field ('PartType0', 'Density'): 19800000it [00:08, 2329325.33it/s]5.97it/s]\n",
      "Interpolating SPH field ('PartType0', 'particle_velocity_z'): 19800000it [00:08, 2330166.67it/s]\n",
      "Interpolating SPH field ('PartType0', 'Density'): 14350000it [01:41, 129039.23it/s]811.09it/s]"
     ]
    },
    {
     "name": "stdout",
     "output_type": "stream",
     "text": [
      "Box_length: 579 pc\n"
     ]
    },
    {
     "name": "stderr",
     "output_type": "stream",
     "text": [
      "yt : [INFO     ] 2024-07-25 01:19:07,023 Omega Lambda is 0.0, so we are turning off Cosmology.\n",
      "yt : [INFO     ] 2024-07-25 01:19:07,062 Parameters: current_time              = 0.049009036794660774\n",
      "yt : [INFO     ] 2024-07-25 01:19:07,062 Parameters: domain_dimensions         = [1 1 1]\n",
      "yt : [INFO     ] 2024-07-25 01:19:07,062 Parameters: domain_left_edge          = [-9.11502103 -8.06999729 -7.15146572]\n",
      "yt : [INFO     ] 2024-07-25 01:19:07,063 Parameters: domain_right_edge         = [6.88497897 7.93000271 8.84853428]\n",
      "yt : [INFO     ] 2024-07-25 01:19:07,063 Parameters: cosmological_simulation   = 0\n",
      "yt : [WARNING  ] 2024-07-25 01:19:07,063 A bounding box was explicitly specified, so we are disabling periodicity.\n",
      "yt : [INFO     ] 2024-07-25 01:19:07,097 Allocating for 8.782e+06 particles\n",
      "Initializing coarse index : 100%|██████████| 33/33 [00:00<00:00, 41.14it/s].45it/s]84.67it/s]]\n",
      "yt : [INFO     ] 2024-07-25 01:19:07,912 Updating index_order2 from 2 to 2\n",
      "Interpolating SPH field ('PartType0', 'Density'): 14700000it [01:44, 140242.10it/s]82.97it/s] \n",
      "Initializing refined index: 100%|██████████| 33/33 [00:04<00:00,  7.46it/s]:08, 106161.66it/s]\n",
      "Interpolating SPH field ('PartType0', 'particle_velocity_y'): 16000000it [02:17, 116386.09it/s]\n",
      "Interpolating SPH field ('PartType0', 'particle_velocity_z'): 16700000it [02:20, 119162.11it/s]\n",
      "Interpolating SPH field ('PartType0', 'Density'): 14650000it [01:37, 94764.93it/s] 996.80it/s] "
     ]
    },
    {
     "name": "stdout",
     "output_type": "stream",
     "text": [
      "Center of Mass:  [0.29914352 1.46701841 1.92923903]\n",
      "Search radius: 108.723 pc\n"
     ]
    },
    {
     "name": "stderr",
     "output_type": "stream",
     "text": [
      "Interpolating SPH field ('PartType0', 'Density'): 1800000it [00:19, 56974.83it/s]yt : [INFO     ] 2024-07-25 01:20:50,868 Omega Lambda is 0.0, so we are turning off Cosmology.\n",
      "yt : [INFO     ] 2024-07-25 01:20:50,920 Parameters: current_time              = 0.049009036794660774\n",
      "yt : [INFO     ] 2024-07-25 01:20:50,921 Parameters: domain_dimensions         = [1 1 1]\n",
      "yt : [INFO     ] 2024-07-25 01:20:50,921 Parameters: domain_left_edge          = [-31.70085648 -30.53298159 -30.07076097]\n",
      "yt : [INFO     ] 2024-07-25 01:20:50,922 Parameters: domain_right_edge         = [32.29914352 33.46701841 33.92923903]\n",
      "yt : [INFO     ] 2024-07-25 01:20:50,922 Parameters: cosmological_simulation   = 0\n",
      "yt : [WARNING  ] 2024-07-25 01:20:50,922 A bounding box was explicitly specified, so we are disabling periodicity.\n",
      "yt : [INFO     ] 2024-07-25 01:20:50,953 Allocating for 6.447e+06 particles\n",
      "Initializing coarse index :   0%|          | 0/24 [00:00<?, ?it/s]"
     ]
    },
    {
     "name": "stdout",
     "output_type": "stream",
     "text": [
      "Box_length: 2319 pc\n"
     ]
    },
    {
     "name": "stderr",
     "output_type": "stream",
     "text": [
      "Initializing coarse index : 100%|██████████| 24/24 [00:00<00:00, 44.04it/s]1:40, 56063.72it/s]\n",
      "yt : [INFO     ] 2024-07-25 01:20:51,508 Updating index_order2 from 2 to 2\n",
      "Initializing refined index: 100%|██████████| 24/24 [00:02<00:00,  9.83it/s]1:43, 161794.72it/s]\n",
      "Interpolating SPH field ('PartType0', 'particle_velocity_y'): 14700000it [01:44, 140226.61it/s]\n",
      "Interpolating SPH field ('PartType0', 'Density'): 14400000it [00:07, 1970568.75it/s]\n",
      "Interpolating SPH field ('PartType0', 'particle_velocity_x'): 14400000it [00:07, 1914076.38it/s]\n",
      "Interpolating SPH field ('PartType0', 'Density'): 18500000it [02:03, 150210.74it/s]\n",
      "Interpolating SPH field ('PartType0', 'Density'): 14400000it [00:07, 1937379.17it/s]47.50it/s]\n",
      "Interpolating SPH field ('PartType0', 'particle_velocity_y'): 14400000it [00:07, 1913907.64it/s]\n",
      "Interpolating SPH field ('PartType0', 'Density'): 14400000it [00:07, 1946751.33it/s]0.50it/s] \n",
      "Interpolating SPH field ('PartType0', 'particle_velocity_z'): 14400000it [00:07, 1916928.38it/s]\n",
      "Interpolating SPH field ('PartType0', 'particle_velocity_x'): 7900000it [00:49, 139365.97it/s]yt : [INFO     ] 2024-07-25 01:22:06,240 Omega Lambda is 0.0, so we are turning off Cosmology.\n",
      "yt : [INFO     ] 2024-07-25 01:22:06,278 Parameters: current_time              = 0.049009036794660774\n",
      "yt : [INFO     ] 2024-07-25 01:22:06,278 Parameters: domain_dimensions         = [1 1 1]\n",
      "yt : [INFO     ] 2024-07-25 01:22:06,279 Parameters: domain_left_edge          = [-7.70085648 -6.53298159 -6.07076097]\n",
      "yt : [INFO     ] 2024-07-25 01:22:06,279 Parameters: domain_right_edge         = [8.29914352 9.46701841 9.92923903]\n",
      "yt : [INFO     ] 2024-07-25 01:22:06,279 Parameters: cosmological_simulation   = 0\n",
      "yt : [WARNING  ] 2024-07-25 01:22:06,279 A bounding box was explicitly specified, so we are disabling periodicity.\n",
      "yt : [INFO     ] 2024-07-25 01:22:06,315 Allocating for 6.447e+06 particles\n",
      "Initializing coarse index :   0%|          | 0/24 [00:00<?, ?it/s]"
     ]
    },
    {
     "name": "stdout",
     "output_type": "stream",
     "text": [
      "Box_length: 579 pc\n"
     ]
    },
    {
     "name": "stderr",
     "output_type": "stream",
     "text": [
      "Initializing coarse index : 100%|██████████| 24/24 [00:00<00:00, 40.71it/s]:50, 236371.74it/s]\n",
      "yt : [INFO     ] 2024-07-25 01:22:06,915 Updating index_order2 from 2 to 2\n",
      "Initializing refined index: 100%|██████████| 24/24 [00:03<00:00,  7.31it/s].48it/s]619.38it/s]\n",
      "Interpolating SPH field ('PartType0', 'Density'): 16000000it [02:16, 116920.55it/s]3761.89it/s]\n",
      "Interpolating SPH field ('PartType0', 'Density'): 14700000it [01:45, 138776.44it/s]14.14it/s]s]\n",
      "Interpolating SPH field ('PartType0', 'particle_velocity_x'): 18500000it [02:03, 149720.38it/s]\n",
      "Interpolating SPH field ('PartType0', 'particle_velocity_z'): 14700000it [01:45, 139420.29it/s]\n",
      "Interpolating SPH field ('PartType0', 'Density'): 14400000it [02:30, 95875.37it/s] 7369.73it/s]\n",
      "Interpolating SPH field ('PartType0', 'particle_velocity_z'): 15750000it [02:13, 111223.41it/s]"
     ]
    },
    {
     "name": "stdout",
     "output_type": "stream",
     "text": [
      "Center of Mass:  [-0.07010338  1.59043152 -2.64771884]\n",
      "Search radius: 108.723 pc\n"
     ]
    },
    {
     "name": "stderr",
     "output_type": "stream",
     "text": [
      "Interpolating SPH field ('PartType0', 'particle_velocity_z'): 15800000it [02:13, 120341.21it/s]"
     ]
    },
    {
     "name": "stdout",
     "output_type": "stream",
     "text": [
      "Box_length: 2319 pc\n"
     ]
    },
    {
     "name": "stderr",
     "output_type": "stream",
     "text": [
      "yt : [INFO     ] 2024-07-25 01:25:02,996 Omega Lambda is 0.0, so we are turning off Cosmology.\n",
      "yt : [INFO     ] 2024-07-25 01:25:03,046 Parameters: current_time              = 0.049009036794660774\n",
      "yt : [INFO     ] 2024-07-25 01:25:03,046 Parameters: domain_dimensions         = [1 1 1]\n",
      "yt : [INFO     ] 2024-07-25 01:25:03,047 Parameters: domain_left_edge          = [-32.07010338 -30.40956848 -34.64771884]\n",
      "yt : [INFO     ] 2024-07-25 01:25:03,047 Parameters: domain_right_edge         = [31.92989662 33.59043152 29.35228116]\n",
      "yt : [INFO     ] 2024-07-25 01:25:03,047 Parameters: cosmological_simulation   = 0\n",
      "yt : [WARNING  ] 2024-07-25 01:25:03,047 A bounding box was explicitly specified, so we are disabling periodicity.\n",
      "yt : [INFO     ] 2024-07-25 01:25:03,168 Allocating for 5.915e+06 particles\n",
      "Initializing coarse index : 100%|██████████| 22/22 [00:00<00:00, 42.04it/s]\n",
      "yt : [INFO     ] 2024-07-25 01:25:03,701 Updating index_order2 from 2 to 2\n",
      "Interpolating SPH field ('PartType0', 'particle_velocity_z'): 16000000it [02:16, 117054.02it/s]\n",
      "Initializing refined index: 100%|██████████| 22/22 [00:02<00:00,  9.63it/s]:24, 60970.85it/s]\n",
      "Interpolating SPH field ('PartType0', 'Density'): 13200000it [00:07, 1825620.36it/s]49.13it/s]\n",
      "Interpolating SPH field ('PartType0', 'particle_velocity_x'): 13200000it [00:07, 1844758.75it/s]\n",
      "Interpolating SPH field ('PartType0', 'Density'): 18150000it [02:01, 273955.86it/s]898.06it/s]"
     ]
    },
    {
     "name": "stdout",
     "output_type": "stream",
     "text": [
      "Center of Mass:  [ 0.43058958  0.35903028 -0.85026897]\n",
      "Search radius: 108.723 pc\n"
     ]
    },
    {
     "name": "stderr",
     "output_type": "stream",
     "text": [
      "Interpolating SPH field ('PartType0', 'particle_velocity_x'): 5400000it [00:49, 113326.63it/s]yt : [INFO     ] 2024-07-25 01:25:30,876 Omega Lambda is 0.0, so we are turning off Cosmology.\n"
     ]
    },
    {
     "name": "stdout",
     "output_type": "stream",
     "text": [
      "Box_length: 2319 pc\n"
     ]
    },
    {
     "name": "stderr",
     "output_type": "stream",
     "text": [
      "yt : [INFO     ] 2024-07-25 01:25:30,922 Parameters: current_time              = 0.049009036794660774\n",
      "yt : [INFO     ] 2024-07-25 01:25:30,923 Parameters: domain_dimensions         = [1 1 1]\n",
      "yt : [INFO     ] 2024-07-25 01:25:30,923 Parameters: domain_left_edge          = [-31.56941042 -31.64096972 -32.85026897]\n",
      "yt : [INFO     ] 2024-07-25 01:25:30,923 Parameters: domain_right_edge         = [32.43058958 32.35903028 31.14973103]\n",
      "yt : [INFO     ] 2024-07-25 01:25:30,923 Parameters: cosmological_simulation   = 0\n",
      "yt : [WARNING  ] 2024-07-25 01:25:30,923 A bounding box was explicitly specified, so we are disabling periodicity.\n",
      "Interpolating SPH field ('PartType0', 'particle_velocity_x'): 5450000it [00:49, 141475.81it/s]yt : [INFO     ] 2024-07-25 01:25:30,976 Allocating for 6.963e+06 particles\n",
      "Initializing coarse index : 100%|██████████| 26/26 [00:00<00:00, 43.55it/s].44it/s]\n",
      "yt : [INFO     ] 2024-07-25 01:25:31,583 Updating index_order2 from 2 to 2\n",
      "Interpolating SPH field ('PartType0', 'Density'): 18500000it [02:03, 149524.31it/s]\n",
      "Initializing refined index: 100%|██████████| 26/26 [00:02<00:00, 10.17it/s]3.93it/s]0.87it/s] \n",
      "Interpolating SPH field ('PartType0', 'Density'): 13200000it [00:07, 1872927.66it/s]4.14it/s]]\n",
      "Interpolating SPH field ('PartType0', 'Density'): 15600000it [00:07, 2144743.02it/s]7191.53it/s]\n",
      "Interpolating SPH field ('PartType0', 'particle_velocity_y'): 13200000it [00:07, 1828514.96it/s]\n",
      "Interpolating SPH field ('PartType0', 'particle_velocity_x'): 15600000it [00:07, 2165782.74it/s]\n",
      "Interpolating SPH field ('PartType0', 'Density'): 13200000it [00:06, 1895459.07it/s]19.92it/s]\n",
      "Interpolating SPH field ('PartType0', 'Density'): 15600000it [00:07, 2147325.29it/s]9908.61it/s]\n",
      "Interpolating SPH field ('PartType0', 'particle_velocity_z'): 13200000it [00:07, 1822626.54it/s]\n",
      "Interpolating SPH field ('PartType0', 'particle_velocity_y'): 15600000it [00:07, 2135487.84it/s]\n",
      "Interpolating SPH field ('PartType0', 'particle_velocity_y'): 7900000it [00:49, 139186.80it/s]yt : [INFO     ] 2024-07-25 01:26:22,394 Omega Lambda is 0.0, so we are turning off Cosmology.\n",
      "Interpolating SPH field ('PartType0', 'Density'): 9650000it [00:04, 2386453.59it/s]"
     ]
    },
    {
     "name": "stdout",
     "output_type": "stream",
     "text": [
      "Box_length: 579 pc\n"
     ]
    },
    {
     "name": "stderr",
     "output_type": "stream",
     "text": [
      "yt : [INFO     ] 2024-07-25 01:26:22,434 Parameters: current_time              = 0.049009036794660774\n",
      "yt : [INFO     ] 2024-07-25 01:26:22,434 Parameters: domain_dimensions         = [1 1 1]\n",
      "yt : [INFO     ] 2024-07-25 01:26:22,435 Parameters: domain_left_edge          = [ -8.07010338  -6.40956848 -10.64771884]\n",
      "yt : [INFO     ] 2024-07-25 01:26:22,436 Parameters: domain_right_edge         = [7.92989662 9.59043152 5.35228116]\n",
      "yt : [INFO     ] 2024-07-25 01:26:22,436 Parameters: cosmological_simulation   = 0\n",
      "yt : [WARNING  ] 2024-07-25 01:26:22,436 A bounding box was explicitly specified, so we are disabling periodicity.\n",
      "yt : [INFO     ] 2024-07-25 01:26:22,465 Allocating for 5.915e+06 particles\n",
      "Initializing coarse index : 100%|██████████| 22/22 [00:00<00:00, 38.82it/s]0.13it/s]7.65it/s]]\n",
      "yt : [INFO     ] 2024-07-25 01:26:23,043 Updating index_order2 from 2 to 2\n",
      "Interpolating SPH field ('PartType0', 'Density'): 15600000it [00:07, 2199749.96it/s]8.34it/s] \n",
      "Initializing refined index: 100%|██████████| 22/22 [00:03<00:00,  6.80it/s]00, 1843867.56it/s]\n",
      "Interpolating SPH field ('PartType0', 'particle_velocity_z'): 15600000it [00:07, 2148789.12it/s]\n",
      "Interpolating SPH field ('PartType0', 'Density'): 2800000it [00:23, 63089.65it/s]yt : [INFO     ] 2024-07-25 01:26:50,658 Omega Lambda is 0.0, so we are turning off Cosmology.\n",
      "Interpolating SPH field ('PartType0', 'particle_velocity_x'): 12200000it [02:09, 209601.81it/s]yt : [INFO     ] 2024-07-25 01:26:50,695 Parameters: current_time              = 0.049009036794660774\n",
      "yt : [INFO     ] 2024-07-25 01:26:50,695 Parameters: domain_dimensions         = [1 1 1]\n",
      "yt : [INFO     ] 2024-07-25 01:26:50,696 Parameters: domain_left_edge          = [-7.56941042 -7.64096972 -8.85026897]\n",
      "yt : [INFO     ] 2024-07-25 01:26:50,696 Parameters: domain_right_edge         = [8.43058958 8.35903028 7.14973103]\n",
      "yt : [INFO     ] 2024-07-25 01:26:50,696 Parameters: cosmological_simulation   = 0\n",
      "yt : [WARNING  ] 2024-07-25 01:26:50,696 A bounding box was explicitly specified, so we are disabling periodicity.\n",
      "Interpolating SPH field ('PartType0', 'particle_velocity_y'): 11700000it [01:17, 137232.68it/s]yt : [INFO     ] 2024-07-25 01:26:50,727 Allocating for 6.963e+06 particles\n",
      "Interpolating SPH field ('PartType0', 'Density'): 2850000it [00:23, 80792.80it/s]"
     ]
    },
    {
     "name": "stdout",
     "output_type": "stream",
     "text": [
      "Box_length: 579 pc\n"
     ]
    },
    {
     "name": "stderr",
     "output_type": "stream",
     "text": [
      "Initializing coarse index : 100%|██████████| 26/26 [00:00<00:00, 40.02it/s]1:18, 251488.40it/s]\n",
      "yt : [INFO     ] 2024-07-25 01:26:51,391 Updating index_order2 from 2 to 2\n",
      "Initializing refined index: 100%|██████████| 26/26 [00:03<00:00,  7.35it/s]2:13, 147436.07it/s]\n",
      "Interpolating SPH field ('PartType0', 'particle_velocity_x'): 14400000it [02:30, 95629.33it/s] \n",
      "Interpolating SPH field ('PartType0', 'particle_velocity_y'): 18500000it [02:03, 149419.35it/s]\n",
      "Interpolating SPH field ('PartType0', 'Density'): 12100000it [01:54, 105402.03it/s]\n",
      "Interpolating SPH field ('PartType0', 'Density'): 14100000it [01:47, 131020.55it/s]673.93it/s]\n",
      "Interpolating SPH field ('PartType0', 'Density'): 18500000it [02:04, 148535.53it/s]356.45it/s]\n",
      "Interpolating SPH field ('PartType0', 'Density'): 14400000it [02:31, 95303.34it/s] 490.34it/s]\n",
      "Interpolating SPH field ('PartType0', 'particle_velocity_x'): 12100000it [01:56, 104028.43it/s]\n",
      "Interpolating SPH field ('PartType0', 'particle_velocity_x'): 14100000it [01:47, 130687.27it/s]\n",
      "Interpolating SPH field ('PartType0', 'particle_velocity_z'): 18500000it [02:05, 147804.56it/s]\n",
      "Interpolating SPH field ('PartType0', 'Density'): 12750000it [01:35, 110987.79it/s]081.67it/s] "
     ]
    },
    {
     "name": "stdout",
     "output_type": "stream",
     "text": [
      "Center of Mass:  [-0.26912211  0.18853086  0.90570355]\n",
      "Search radius: 108.723 pc\n"
     ]
    },
    {
     "name": "stderr",
     "output_type": "stream",
     "text": [
      "Interpolating SPH field ('PartType0', 'Density'): 12900000it [01:35, 148509.97it/s]128.78it/s]"
     ]
    },
    {
     "name": "stdout",
     "output_type": "stream",
     "text": [
      "Box_length: 2319 pc\n"
     ]
    },
    {
     "name": "stderr",
     "output_type": "stream",
     "text": [
      "yt : [INFO     ] 2024-07-25 01:32:17,681 Omega Lambda is 0.0, so we are turning off Cosmology.\n",
      "yt : [INFO     ] 2024-07-25 01:32:17,730 Parameters: current_time              = 0.049009036794660774\n",
      "yt : [INFO     ] 2024-07-25 01:32:17,730 Parameters: domain_dimensions         = [1 1 1]\n",
      "yt : [INFO     ] 2024-07-25 01:32:17,730 Parameters: domain_left_edge          = [-32.26912211 -31.81146914 -31.09429645]\n",
      "yt : [INFO     ] 2024-07-25 01:32:17,731 Parameters: domain_right_edge         = [31.73087789 32.18853086 32.90570355]\n",
      "yt : [INFO     ] 2024-07-25 01:32:17,731 Parameters: cosmological_simulation   = 0\n",
      "yt : [WARNING  ] 2024-07-25 01:32:17,731 A bounding box was explicitly specified, so we are disabling periodicity.\n",
      "yt : [INFO     ] 2024-07-25 01:32:17,783 Allocating for 7.750e+06 particles\n",
      "Initializing coarse index : 100%|██████████| 29/29 [00:00<00:00, 40.93it/s]68it/s]2887.36it/s]\n",
      "yt : [INFO     ] 2024-07-25 01:32:18,504 Updating index_order2 from 2 to 2\n",
      "Initializing refined index: 100%|██████████| 29/29 [00:02<00:00, 10.17it/s]73it/s] 7813.39it/s]\n",
      "Interpolating SPH field ('PartType0', 'particle_velocity_y'): 14400000it [02:31, 95255.71it/s] \n",
      "Interpolating SPH field ('PartType0', 'Density'): 12100000it [01:56, 104183.04it/s]\n",
      "Interpolating SPH field ('PartType0', 'Density'): 17400000it [00:08, 2127839.36it/s].56it/s]\n",
      "Interpolating SPH field ('PartType0', 'Density'): 14100000it [01:48, 130231.44it/s]\n",
      "Interpolating SPH field ('PartType0', 'particle_velocity_x'): 17400000it [00:08, 2114899.47it/s]\n",
      "Interpolating SPH field ('PartType0', 'Density'): 17400000it [00:08, 2122488.23it/s]93.93it/s]\n",
      "Interpolating SPH field ('PartType0', 'particle_velocity_y'): 17400000it [00:08, 2108373.21it/s]\n",
      "Interpolating SPH field ('PartType0', 'Density'): 17400000it [00:08, 2151043.11it/s]3.82it/s] \n",
      "Interpolating SPH field ('PartType0', 'particle_velocity_z'): 17400000it [00:08, 2117571.47it/s]\n",
      "Interpolating SPH field ('PartType0', 'particle_velocity_y'): 9400000it [01:07, 207872.08it/s]yt : [INFO     ] 2024-07-25 01:33:38,685 Omega Lambda is 0.0, so we are turning off Cosmology.\n",
      "yt : [INFO     ] 2024-07-25 01:33:38,723 Parameters: current_time              = 0.049009036794660774\n",
      "yt : [INFO     ] 2024-07-25 01:33:38,723 Parameters: domain_dimensions         = [1 1 1]\n",
      "yt : [INFO     ] 2024-07-25 01:33:38,723 Parameters: domain_left_edge          = [-8.26912211 -7.81146914 -7.09429645]\n",
      "yt : [INFO     ] 2024-07-25 01:33:38,724 Parameters: domain_right_edge         = [7.73087789 8.18853086 8.90570355]\n",
      "yt : [INFO     ] 2024-07-25 01:33:38,724 Parameters: cosmological_simulation   = 0\n",
      "yt : [WARNING  ] 2024-07-25 01:33:38,724 A bounding box was explicitly specified, so we are disabling periodicity.\n",
      "yt : [INFO     ] 2024-07-25 01:33:38,756 Allocating for 7.750e+06 particles\n",
      "Initializing coarse index :   0%|          | 0/29 [00:00<?, ?it/s]"
     ]
    },
    {
     "name": "stdout",
     "output_type": "stream",
     "text": [
      "Box_length: 579 pc\n"
     ]
    },
    {
     "name": "stderr",
     "output_type": "stream",
     "text": [
      "Initializing coarse index : 100%|██████████| 29/29 [00:00<00:00, 40.76it/s]:08, 171915.20it/s]\n",
      "yt : [INFO     ] 2024-07-25 01:33:39,479 Updating index_order2 from 2 to 2\n",
      "Initializing refined index: 100%|██████████| 29/29 [00:03<00:00,  7.80it/s]1:11, 206060.95it/s]\n",
      "Interpolating SPH field ('PartType0', 'particle_velocity_y'): 14100000it [01:48, 130179.21it/s]\n",
      "Interpolating SPH field ('PartType0', 'particle_velocity_y'): 12100000it [01:55, 104569.46it/s]\n",
      "Interpolating SPH field ('PartType0', 'Density'): 14400000it [02:30, 95495.62it/s] \n",
      "Interpolating SPH field ('PartType0', 'Density'): 16000000it [02:07, 125523.11it/s]253.87it/s]\n",
      "Interpolating SPH field ('PartType0', 'Density'): 14100000it [01:53, 124576.19it/s]124.65it/s]\n",
      "Interpolating SPH field ('PartType0', 'Density'): 12100000it [01:56, 104290.29it/s]59.43it/s]]\n",
      "Interpolating SPH field ('PartType0', 'particle_velocity_z'): 14400000it [02:37, 91268.73it/s] \n",
      "Interpolating SPH field ('PartType0', 'particle_velocity_x'): 16000000it [02:07, 125540.72it/s]\n",
      "Interpolating SPH field ('PartType0', 'particle_velocity_z'): 9600000it [01:34, 127029.06it/s]]"
     ]
    },
    {
     "name": "stdout",
     "output_type": "stream",
     "text": [
      "Center of Mass:  [-0.25061771 -1.66844627 -0.31070586]\n",
      "Search radius: 108.723 pc\n"
     ]
    },
    {
     "name": "stderr",
     "output_type": "stream",
     "text": [
      "Interpolating SPH field ('PartType0', 'particle_velocity_z'): 13200000it [01:40, 96905.41it/s] "
     ]
    },
    {
     "name": "stdout",
     "output_type": "stream",
     "text": [
      "Box_length: 2319 pc\n"
     ]
    },
    {
     "name": "stderr",
     "output_type": "stream",
     "text": [
      "yt : [INFO     ] 2024-07-25 01:38:03,834 Omega Lambda is 0.0, so we are turning off Cosmology.\n",
      "yt : [INFO     ] 2024-07-25 01:38:03,890 Parameters: current_time              = 0.049009036794660774\n",
      "yt : [INFO     ] 2024-07-25 01:38:03,890 Parameters: domain_dimensions         = [1 1 1]\n",
      "yt : [INFO     ] 2024-07-25 01:38:03,891 Parameters: domain_left_edge          = [-32.25061771 -33.66844627 -32.31070586]\n",
      "yt : [INFO     ] 2024-07-25 01:38:03,891 Parameters: domain_right_edge         = [31.74938229 30.33155373 31.68929414]\n",
      "yt : [INFO     ] 2024-07-25 01:38:03,891 Parameters: cosmological_simulation   = 0\n",
      "yt : [WARNING  ] 2024-07-25 01:38:03,891 A bounding box was explicitly specified, so we are disabling periodicity.\n",
      "yt : [INFO     ] 2024-07-25 01:38:03,950 Allocating for 7.758e+06 particles\n",
      "Initializing coarse index : 100%|██████████| 29/29 [00:00<00:00, 45.83it/s]1:41, 81599.64it/s]\n",
      "yt : [INFO     ] 2024-07-25 01:38:04,594 Updating index_order2 from 2 to 2\n",
      "Initializing refined index: 100%|██████████| 29/29 [00:02<00:00, 10.13it/s]1:38, 139731.87it/s]\n",
      "Interpolating SPH field ('PartType0', 'particle_velocity_z'): 14100000it [01:50, 127816.90it/s]\n",
      "Interpolating SPH field ('PartType0', 'Density'): 17400000it [00:08, 2108796.92it/s]202.12it/s]\n",
      "Interpolating SPH field ('PartType0', 'particle_velocity_z'): 12100000it [01:55, 104785.01it/s]]\n",
      "Interpolating SPH field ('PartType0', 'particle_velocity_x'): 17400000it [00:07, 2244284.87it/s]\n",
      "Interpolating SPH field ('PartType0', 'Density'): 17400000it [00:07, 2300762.33it/s]\n",
      "Interpolating SPH field ('PartType0', 'particle_velocity_y'): 600000it [00:00, 3139404.99it/s]"
     ]
    },
    {
     "name": "stdout",
     "output_type": "stream",
     "text": [
      "Center of Mass:  [-0.57638456 -0.39154785 -0.00181511]\n",
      "Search radius: 108.723 pc\n"
     ]
    },
    {
     "name": "stderr",
     "output_type": "stream",
     "text": [
      "Interpolating SPH field ('PartType0', 'particle_velocity_y'): 950000it [00:00, 1965701.31it/s]yt : [INFO     ] 2024-07-25 01:38:38,342 Omega Lambda is 0.0, so we are turning off Cosmology.\n"
     ]
    },
    {
     "name": "stdout",
     "output_type": "stream",
     "text": [
      "Box_length: 2319 pc\n"
     ]
    },
    {
     "name": "stderr",
     "output_type": "stream",
     "text": [
      "yt : [INFO     ] 2024-07-25 01:38:38,388 Parameters: current_time              = 0.049009036794660774\n",
      "yt : [INFO     ] 2024-07-25 01:38:38,388 Parameters: domain_dimensions         = [1 1 1]\n",
      "yt : [INFO     ] 2024-07-25 01:38:38,389 Parameters: domain_left_edge          = [-32.57638456 -32.39154785 -32.00181511]\n",
      "yt : [INFO     ] 2024-07-25 01:38:38,389 Parameters: domain_right_edge         = [31.42361544 31.60845215 31.99818489]\n",
      "yt : [INFO     ] 2024-07-25 01:38:38,389 Parameters: cosmological_simulation   = 0\n",
      "yt : [WARNING  ] 2024-07-25 01:38:38,389 A bounding box was explicitly specified, so we are disabling periodicity.\n",
      "Interpolating SPH field ('PartType0', 'particle_velocity_y'): 1200000it [00:00, 1789256.65it/s]yt : [INFO     ] 2024-07-25 01:38:38,440 Allocating for 6.455e+06 particles\n",
      "Initializing coarse index : 100%|██████████| 24/24 [00:00<00:00, 46.61it/s]:01, 2269049.53it/s]\n",
      "yt : [INFO     ] 2024-07-25 01:38:38,963 Updating index_order2 from 2 to 2\n",
      "Initializing refined index: 100%|██████████| 24/24 [00:02<00:00, 10.21it/s]:03, 2547543.36it/s]\n",
      "Interpolating SPH field ('PartType0', 'particle_velocity_y'): 17400000it [00:07, 2246870.61it/s]\n",
      "Interpolating SPH field ('PartType0', 'Density'): 14400000it [00:07, 1881054.21it/s]\n",
      "Interpolating SPH field ('PartType0', 'particle_velocity_x'): 14400000it [00:07, 1829591.41it/s]\n",
      "Interpolating SPH field ('PartType0', 'Density'): 17400000it [00:08, 2146979.07it/s]\n",
      "Interpolating SPH field ('PartType0', 'particle_velocity_z'): 17400000it [00:07, 2211497.54it/s]\n",
      "Interpolating SPH field ('PartType0', 'Density'): 14400000it [00:07, 1853160.40it/s]\n",
      "Interpolating SPH field ('PartType0', 'particle_velocity_y'): 14400000it [00:07, 1833159.69it/s]\n",
      "Interpolating SPH field ('PartType0', 'Density'): 11050000it [01:14, 103199.27it/s]"
     ]
    },
    {
     "name": "stdout",
     "output_type": "stream",
     "text": [
      "Box_length: 579 pc\n"
     ]
    },
    {
     "name": "stderr",
     "output_type": "stream",
     "text": [
      "yt : [INFO     ] 2024-07-25 01:39:22,644 Omega Lambda is 0.0, so we are turning off Cosmology.\n",
      "yt : [INFO     ] 2024-07-25 01:39:22,682 Parameters: current_time              = 0.049009036794660774\n",
      "yt : [INFO     ] 2024-07-25 01:39:22,683 Parameters: domain_dimensions         = [1 1 1]\n",
      "yt : [INFO     ] 2024-07-25 01:39:22,683 Parameters: domain_left_edge          = [-8.25061771 -9.66844627 -8.31070586]\n",
      "yt : [INFO     ] 2024-07-25 01:39:22,683 Parameters: domain_right_edge         = [7.74938229 6.33155373 7.68929414]\n",
      "yt : [INFO     ] 2024-07-25 01:39:22,684 Parameters: cosmological_simulation   = 0\n",
      "yt : [WARNING  ] 2024-07-25 01:39:22,684 A bounding box was explicitly specified, so we are disabling periodicity.\n",
      "yt : [INFO     ] 2024-07-25 01:39:22,718 Allocating for 7.758e+06 particles\n",
      "Initializing coarse index : 100%|██████████| 29/29 [00:00<00:00, 40.93it/s].44it/s]\n",
      "yt : [INFO     ] 2024-07-25 01:39:23,438 Updating index_order2 from 2 to 2\n",
      "Initializing refined index: 100%|██████████| 29/29 [00:03<00:00,  7.76it/s].47it/s]\n",
      "Interpolating SPH field ('PartType0', 'Density'): 14400000it [00:07, 1847327.34it/s]\n",
      "Interpolating SPH field ('PartType0', 'particle_velocity_z'): 14400000it [00:07, 1827815.57it/s]\n",
      "Interpolating SPH field ('PartType0', 'Density'): 4950000it [00:34, 219495.92it/s]yt : [INFO     ] 2024-07-25 01:40:02,528 Omega Lambda is 0.0, so we are turning off Cosmology.\n"
     ]
    },
    {
     "name": "stdout",
     "output_type": "stream",
     "text": [
      "Box_length: 579 pc\n"
     ]
    },
    {
     "name": "stderr",
     "output_type": "stream",
     "text": [
      "Interpolating SPH field ('PartType0', 'Density'): 14950000it [01:54, 43983.60it/s]yt : [INFO     ] 2024-07-25 01:40:02,566 Parameters: current_time              = 0.049009036794660774\n",
      "yt : [INFO     ] 2024-07-25 01:40:02,566 Parameters: domain_dimensions         = [1 1 1]\n",
      "yt : [INFO     ] 2024-07-25 01:40:02,567 Parameters: domain_left_edge          = [-8.57638456 -8.39154785 -8.00181511]\n",
      "yt : [INFO     ] 2024-07-25 01:40:02,567 Parameters: domain_right_edge         = [7.42361544 7.60845215 7.99818489]\n",
      "yt : [INFO     ] 2024-07-25 01:40:02,567 Parameters: cosmological_simulation   = 0\n",
      "yt : [WARNING  ] 2024-07-25 01:40:02,567 A bounding box was explicitly specified, so we are disabling periodicity.\n",
      "yt : [INFO     ] 2024-07-25 01:40:02,598 Allocating for 6.455e+06 particles\n",
      "Initializing coarse index : 100%|██████████| 24/24 [00:00<00:00, 38.34it/s]94it/s]\n",
      "yt : [INFO     ] 2024-07-25 01:40:03,236 Updating index_order2 from 2 to 2\n",
      "Initializing refined index: 100%|██████████| 24/24 [00:03<00:00,  7.35it/s]68it/s]\n",
      "Interpolating SPH field ('PartType0', 'Density'): 16000000it [02:07, 125738.87it/s]\n",
      "Interpolating SPH field ('PartType0', 'Density'): 15300000it [01:47, 141732.62it/s]378.72it/s]\n",
      "Interpolating SPH field ('PartType0', 'Density'): 12900000it [02:01, 106150.83it/s]154.20it/s] \n",
      "Interpolating SPH field ('PartType0', 'particle_velocity_y'): 16000000it [02:07, 125731.52it/s]\n",
      "Interpolating SPH field ('PartType0', 'particle_velocity_x'): 15300000it [01:48, 141293.10it/s]\n",
      "Interpolating SPH field ('PartType0', 'particle_velocity_x'): 12900000it [02:01, 105738.29it/s]\n",
      "Interpolating SPH field ('PartType0', 'Density'): 16000000it [02:07, 125682.36it/s]\n",
      "Interpolating SPH field ('PartType0', 'Density'): 15300000it [01:48, 140835.71it/s]853.70it/s]\n",
      "Interpolating SPH field ('PartType0', 'Density'): 12900000it [02:02, 105529.15it/s]511.24it/s] \n",
      "Interpolating SPH field ('PartType0', 'particle_velocity_z'): 16000000it [02:07, 125603.58it/s]\n",
      "Interpolating SPH field ('PartType0', 'particle_velocity_y'): 15300000it [01:49, 139858.83it/s]\n",
      "Interpolating SPH field ('PartType0', 'particle_velocity_y'): 12900000it [02:02, 105127.08it/s]\n",
      "Interpolating SPH field ('PartType0', 'Density'): 15300000it [01:49, 139951.54it/s]\n",
      "Interpolating SPH field ('PartType0', 'Density'): 12900000it [02:02, 105130.96it/s]715.30it/s] \n",
      "Interpolating SPH field ('PartType0', 'particle_velocity_z'): 15300000it [01:49, 139317.18it/s]\n",
      "Interpolating SPH field ('PartType0', 'particle_velocity_z'): 12900000it [02:06, 102165.49it/s]\n"
     ]
    }
   ],
   "source": [
    "# Run the k spectrum script in every valid model directory\n",
    "models = [model for model in os.listdir('./') if (model[2] == '_')]\n",
    "\n",
    "# multiprocessing\n",
    "import multiprocessing\n",
    "\n",
    "def run_script(dir):\n",
    "    # jump the directory which has been skipped\n",
    "    if dir[-1] != 'a':\n",
    "        return\n",
    "    \n",
    "    dir_output = dir + '/output/'\n",
    "\n",
    "    # copy the script to the directory\n",
    "    os.system('cp k_spectrum.py ' + dir_output)\n",
    "    # execute the script\n",
    "    os.system('cd ' + dir_output + ' && rm spectrum_*.txt && python3 k_spectrum.py')\n",
    "    # os.system('cd ' + dir_output + ' && python3 k_spectrum.py')\n",
    "\n",
    "    # return back to the current directory\n",
    "    os.system('cd ../../')\n",
    "\n",
    "pool = multiprocessing.Pool(processes=4)\n",
    "pool.map(run_script, models)\n",
    "pool.close()\n",
    "pool.join()"
   ]
  },
  {
   "cell_type": "code",
   "execution_count": 2,
   "metadata": {},
   "outputs": [
    {
     "name": "stdout",
     "output_type": "stream",
     "text": [
      "19_subhalo30269_x\n",
      "00_subhalo16130_x\n",
      "01_subhalo227361_x\n",
      "23_subhalo31111_x\n",
      "30_subhalo31445_x\n"
     ]
    }
   ],
   "source": [
    "# checkout which models hasn't ran successfully\n",
    "models = [model for model in os.listdir('./') if (model[2] == '_')]\n",
    "\n",
    "for dir in models:\n",
    "    dir_output = dir + '/output/'\n",
    "    if not os.path.exists(dir_output + 'spectrum_008.txt'):\n",
    "        print(dir)"
   ]
  },
  {
   "cell_type": "code",
   "execution_count": 11,
   "metadata": {},
   "outputs": [
    {
     "name": "stdout",
     "output_type": "stream",
     "text": [
      "15_subhalo29124_a\n"
     ]
    },
    {
     "name": "stdout",
     "output_type": "stream",
     "text": [
      "21_subhalo30476_a\n",
      "28_subhalo31859_a\n",
      "08_subhalo27836_a\n",
      "03_subhalo27075_a\n",
      "26_subhalo31708_a\n",
      "20_subhalo30331_a\n",
      "16_subhalo29773_a\n",
      "10_subhalo28199_a\n",
      "24_subhalo31393_a\n",
      "06_subhalo26616_a\n",
      "02_subhalo26842_a\n",
      "18_subhalo30251_a\n",
      "27_subhalo31812_a\n",
      "09_subhalo27856_a\n",
      "22_subhalo30779_a\n",
      "05_subhalo26221_a\n",
      "04_subhalo27062_a\n",
      "13_subhalo28585_a\n",
      "17_subhalo30112_a\n",
      "25_subhalo31590_a\n",
      "12_subhalo28336_a\n",
      "11_subhalo28323_a\n",
      "07_subhalo27261_a\n",
      "29_subhalo31869_a\n",
      "14_subhalo28904_a\n"
     ]
    }
   ],
   "source": [
    "# Run the mach_number script in every valid model directory\n",
    "models = [model for model in os.listdir('./') if (model[2] == '_')]\n",
    "\n",
    "for dir in models:\n",
    "    # jump the directory which has been skipped\n",
    "    if dir[-1] != 'a':\n",
    "        continue\n",
    "    print(dir)\n",
    "    dir_output = dir + '/output/'\n",
    "\n",
    "    # copy the script to the directory\n",
    "    os.system('cp mach_number.py ' + dir_output)\n",
    "    # execute the script\n",
    "    os.system('cd ' + dir_output + ' && python3 mach_number.py')\n",
    "\n",
    "    # return back to the current directory\n",
    "    os.system('cd ../../')\n"
   ]
  },
  {
   "cell_type": "code",
   "execution_count": 12,
   "metadata": {},
   "outputs": [
    {
     "name": "stdout",
     "output_type": "stream",
     "text": [
      "15_subhalo29124_a\n"
     ]
    },
    {
     "name": "stdout",
     "output_type": "stream",
     "text": [
      "21_subhalo30476_a\n",
      "28_subhalo31859_a\n",
      "08_subhalo27836_a\n",
      "03_subhalo27075_a\n",
      "26_subhalo31708_a\n",
      "20_subhalo30331_a\n",
      "16_subhalo29773_a\n",
      "10_subhalo28199_a\n",
      "24_subhalo31393_a\n",
      "06_subhalo26616_a\n",
      "02_subhalo26842_a\n",
      "18_subhalo30251_a\n",
      "27_subhalo31812_a\n",
      "09_subhalo27856_a\n",
      "22_subhalo30779_a\n",
      "05_subhalo26221_a\n",
      "04_subhalo27062_a\n",
      "13_subhalo28585_a\n",
      "17_subhalo30112_a\n",
      "25_subhalo31590_a\n",
      "12_subhalo28336_a\n",
      "11_subhalo28323_a\n",
      "07_subhalo27261_a\n",
      "29_subhalo31869_a\n",
      "14_subhalo28904_a\n"
     ]
    }
   ],
   "source": [
    "# Run the mach_number2 script in every valid model directory\n",
    "models = [model for model in os.listdir('./') if (model[2] == '_')]\n",
    "\n",
    "for dir in models:\n",
    "    # jump the directory which has been skipped\n",
    "    if dir[-1] != 'a':\n",
    "        continue\n",
    "    print(dir)\n",
    "    dir_output = dir + '/output/'\n",
    "\n",
    "    # copy the script to the directory\n",
    "    os.system('cp mach_number2.py ' + dir_output)\n",
    "    # execute the script\n",
    "    os.system('cd ' + dir_output + ' && python3 mach_number2.py')\n",
    "\n",
    "    # return back to the current directory\n",
    "    os.system('cd ../../')\n"
   ]
  },
  {
   "cell_type": "markdown",
   "metadata": {},
   "source": [
    "Run the analysis"
   ]
  },
  {
   "cell_type": "code",
   "execution_count": 3,
   "metadata": {},
   "outputs": [
    {
     "data": {
      "text/html": [
       "<div>\n",
       "<style scoped>\n",
       "    .dataframe tbody tr th:only-of-type {\n",
       "        vertical-align: middle;\n",
       "    }\n",
       "\n",
       "    .dataframe tbody tr th {\n",
       "        vertical-align: top;\n",
       "    }\n",
       "\n",
       "    .dataframe thead th {\n",
       "        text-align: right;\n",
       "    }\n",
       "</style>\n",
       "<table border=\"1\" class=\"dataframe\">\n",
       "  <thead>\n",
       "    <tr style=\"text-align: right;\">\n",
       "      <th></th>\n",
       "      <th>ID</th>\n",
       "      <th>Gas Mass</th>\n",
       "      <th>DM Mass</th>\n",
       "      <th>Range Length</th>\n",
       "      <th>Matter Density</th>\n",
       "    </tr>\n",
       "  </thead>\n",
       "  <tbody>\n",
       "    <tr>\n",
       "      <th>0</th>\n",
       "      <td>31590</td>\n",
       "      <td>6.02</td>\n",
       "      <td>6.86</td>\n",
       "      <td>12.73</td>\n",
       "      <td>-23.65</td>\n",
       "    </tr>\n",
       "    <tr>\n",
       "      <th>1</th>\n",
       "      <td>31812</td>\n",
       "      <td>5.96</td>\n",
       "      <td>6.86</td>\n",
       "      <td>16.71</td>\n",
       "      <td>-24.01</td>\n",
       "    </tr>\n",
       "    <tr>\n",
       "      <th>2</th>\n",
       "      <td>30331</td>\n",
       "      <td>6.01</td>\n",
       "      <td>6.86</td>\n",
       "      <td>17.86</td>\n",
       "      <td>-24.10</td>\n",
       "    </tr>\n",
       "    <tr>\n",
       "      <th>3</th>\n",
       "      <td>30779</td>\n",
       "      <td>5.99</td>\n",
       "      <td>6.89</td>\n",
       "      <td>13.70</td>\n",
       "      <td>-23.73</td>\n",
       "    </tr>\n",
       "    <tr>\n",
       "      <th>4</th>\n",
       "      <td>31393</td>\n",
       "      <td>5.98</td>\n",
       "      <td>6.89</td>\n",
       "      <td>14.28</td>\n",
       "      <td>-23.78</td>\n",
       "    </tr>\n",
       "    <tr>\n",
       "      <th>5</th>\n",
       "      <td>29124</td>\n",
       "      <td>6.00</td>\n",
       "      <td>6.89</td>\n",
       "      <td>16.51</td>\n",
       "      <td>-23.97</td>\n",
       "    </tr>\n",
       "    <tr>\n",
       "      <th>6</th>\n",
       "      <td>31859</td>\n",
       "      <td>5.93</td>\n",
       "      <td>6.89</td>\n",
       "      <td>12.90</td>\n",
       "      <td>-23.66</td>\n",
       "    </tr>\n",
       "    <tr>\n",
       "      <th>7</th>\n",
       "      <td>29773</td>\n",
       "      <td>5.97</td>\n",
       "      <td>6.91</td>\n",
       "      <td>16.97</td>\n",
       "      <td>-23.99</td>\n",
       "    </tr>\n",
       "    <tr>\n",
       "      <th>8</th>\n",
       "      <td>31708</td>\n",
       "      <td>5.89</td>\n",
       "      <td>6.91</td>\n",
       "      <td>17.19</td>\n",
       "      <td>-24.01</td>\n",
       "    </tr>\n",
       "    <tr>\n",
       "      <th>9</th>\n",
       "      <td>31869</td>\n",
       "      <td>5.91</td>\n",
       "      <td>6.91</td>\n",
       "      <td>13.48</td>\n",
       "      <td>-23.69</td>\n",
       "    </tr>\n",
       "    <tr>\n",
       "      <th>10</th>\n",
       "      <td>28336</td>\n",
       "      <td>6.01</td>\n",
       "      <td>6.91</td>\n",
       "      <td>15.47</td>\n",
       "      <td>-23.86</td>\n",
       "    </tr>\n",
       "    <tr>\n",
       "      <th>11</th>\n",
       "      <td>27836</td>\n",
       "      <td>6.03</td>\n",
       "      <td>6.91</td>\n",
       "      <td>19.89</td>\n",
       "      <td>-24.19</td>\n",
       "    </tr>\n",
       "    <tr>\n",
       "      <th>12</th>\n",
       "      <td>30476</td>\n",
       "      <td>6.00</td>\n",
       "      <td>6.91</td>\n",
       "      <td>14.49</td>\n",
       "      <td>-23.78</td>\n",
       "    </tr>\n",
       "    <tr>\n",
       "      <th>13</th>\n",
       "      <td>30112</td>\n",
       "      <td>5.98</td>\n",
       "      <td>6.91</td>\n",
       "      <td>16.31</td>\n",
       "      <td>-23.94</td>\n",
       "    </tr>\n",
       "    <tr>\n",
       "      <th>14</th>\n",
       "      <td>28585</td>\n",
       "      <td>5.98</td>\n",
       "      <td>6.91</td>\n",
       "      <td>14.90</td>\n",
       "      <td>-23.82</td>\n",
       "    </tr>\n",
       "    <tr>\n",
       "      <th>15</th>\n",
       "      <td>27261</td>\n",
       "      <td>6.00</td>\n",
       "      <td>6.93</td>\n",
       "      <td>15.94</td>\n",
       "      <td>-23.88</td>\n",
       "    </tr>\n",
       "    <tr>\n",
       "      <th>16</th>\n",
       "      <td>28323</td>\n",
       "      <td>5.96</td>\n",
       "      <td>6.93</td>\n",
       "      <td>16.36</td>\n",
       "      <td>-23.92</td>\n",
       "    </tr>\n",
       "    <tr>\n",
       "      <th>17</th>\n",
       "      <td>26842</td>\n",
       "      <td>5.98</td>\n",
       "      <td>6.93</td>\n",
       "      <td>15.05</td>\n",
       "      <td>-23.81</td>\n",
       "    </tr>\n",
       "    <tr>\n",
       "      <th>18</th>\n",
       "      <td>28199</td>\n",
       "      <td>5.99</td>\n",
       "      <td>6.93</td>\n",
       "      <td>14.85</td>\n",
       "      <td>-23.79</td>\n",
       "    </tr>\n",
       "    <tr>\n",
       "      <th>19</th>\n",
       "      <td>27062</td>\n",
       "      <td>6.01</td>\n",
       "      <td>6.93</td>\n",
       "      <td>17.29</td>\n",
       "      <td>-23.99</td>\n",
       "    </tr>\n",
       "    <tr>\n",
       "      <th>20</th>\n",
       "      <td>27856</td>\n",
       "      <td>5.98</td>\n",
       "      <td>6.96</td>\n",
       "      <td>24.91</td>\n",
       "      <td>-24.45</td>\n",
       "    </tr>\n",
       "    <tr>\n",
       "      <th>21</th>\n",
       "      <td>27075</td>\n",
       "      <td>5.96</td>\n",
       "      <td>6.96</td>\n",
       "      <td>13.33</td>\n",
       "      <td>-23.63</td>\n",
       "    </tr>\n",
       "    <tr>\n",
       "      <th>22</th>\n",
       "      <td>28904</td>\n",
       "      <td>5.97</td>\n",
       "      <td>6.96</td>\n",
       "      <td>16.93</td>\n",
       "      <td>-23.94</td>\n",
       "    </tr>\n",
       "    <tr>\n",
       "      <th>23</th>\n",
       "      <td>30251</td>\n",
       "      <td>6.34</td>\n",
       "      <td>7.27</td>\n",
       "      <td>25.54</td>\n",
       "      <td>-24.16</td>\n",
       "    </tr>\n",
       "    <tr>\n",
       "      <th>24</th>\n",
       "      <td>26616</td>\n",
       "      <td>6.35</td>\n",
       "      <td>7.28</td>\n",
       "      <td>25.39</td>\n",
       "      <td>-24.14</td>\n",
       "    </tr>\n",
       "    <tr>\n",
       "      <th>25</th>\n",
       "      <td>26221</td>\n",
       "      <td>6.42</td>\n",
       "      <td>7.38</td>\n",
       "      <td>30.36</td>\n",
       "      <td>-24.28</td>\n",
       "    </tr>\n",
       "  </tbody>\n",
       "</table>\n",
       "</div>"
      ],
      "text/plain": [
       "       ID  Gas Mass  DM Mass  Range Length  Matter Density\n",
       "0   31590      6.02     6.86         12.73          -23.65\n",
       "1   31812      5.96     6.86         16.71          -24.01\n",
       "2   30331      6.01     6.86         17.86          -24.10\n",
       "3   30779      5.99     6.89         13.70          -23.73\n",
       "4   31393      5.98     6.89         14.28          -23.78\n",
       "5   29124      6.00     6.89         16.51          -23.97\n",
       "6   31859      5.93     6.89         12.90          -23.66\n",
       "7   29773      5.97     6.91         16.97          -23.99\n",
       "8   31708      5.89     6.91         17.19          -24.01\n",
       "9   31869      5.91     6.91         13.48          -23.69\n",
       "10  28336      6.01     6.91         15.47          -23.86\n",
       "11  27836      6.03     6.91         19.89          -24.19\n",
       "12  30476      6.00     6.91         14.49          -23.78\n",
       "13  30112      5.98     6.91         16.31          -23.94\n",
       "14  28585      5.98     6.91         14.90          -23.82\n",
       "15  27261      6.00     6.93         15.94          -23.88\n",
       "16  28323      5.96     6.93         16.36          -23.92\n",
       "17  26842      5.98     6.93         15.05          -23.81\n",
       "18  28199      5.99     6.93         14.85          -23.79\n",
       "19  27062      6.01     6.93         17.29          -23.99\n",
       "20  27856      5.98     6.96         24.91          -24.45\n",
       "21  27075      5.96     6.96         13.33          -23.63\n",
       "22  28904      5.97     6.96         16.93          -23.94\n",
       "23  30251      6.34     7.27         25.54          -24.16\n",
       "24  26616      6.35     7.28         25.39          -24.14\n",
       "25  26221      6.42     7.38         30.36          -24.28"
      ]
     },
     "execution_count": 3,
     "metadata": {},
     "output_type": "execute_result"
    }
   ],
   "source": [
    "# Record the mass and the density of the gas in the subhalo\n",
    "f = pd.read_csv('record_mass.csv')\n",
    "f"
   ]
  },
  {
   "cell_type": "code",
   "execution_count": 35,
   "metadata": {},
   "outputs": [],
   "source": [
    "# Record the mach_number in every valid model directory\n",
    "models = [model for model in os.listdir('./') if (model[2] == '_')]\n",
    "model_num = len(f['ID'])\n",
    "\n",
    "mach = np.zeros( len(models) )\n",
    "mach_std = np.zeros( len(models) )\n",
    "for dir in models:\n",
    "    # jump the directory which has been skipped\n",
    "    if dir[-1] != 'a':\n",
    "        continue\n",
    "    dir_output = dir + '/output/mach_number_030.txt'\n",
    "    # record the file's info\n",
    "    file = open(dir_output, 'r')\n",
    "    lines = file.readlines()\n",
    "    file.close()\n",
    "    \n",
    "    # find the corresponding ID\n",
    "    ID = int(dir.split('_')[1][7:])\n",
    "    idx = np.where(f['ID'] == ID)[0][0]\n",
    "\n",
    "    # record the mach number\n",
    "    mach[idx] = float(lines[1].split(',')[0])\n",
    "    mach_std[idx] = float(lines[1].split(',')[1])\n"
   ]
  },
  {
   "cell_type": "code",
   "execution_count": 36,
   "metadata": {},
   "outputs": [],
   "source": [
    "from astropy.cosmology import Planck18 as cosmo\n",
    "density_threshold = 200*cosmo.critical_density(18.92).value"
   ]
  },
  {
   "cell_type": "code",
   "execution_count": 37,
   "metadata": {},
   "outputs": [
    {
     "data": {
      "image/png": "[encoded data removed]",
      "text/plain": [
       "<Figure size 800x600 with 1 Axes>"
      ]
     },
     "metadata": {},
     "output_type": "display_data"
    }
   ],
   "source": [
    "# plot the relation between the DM mass and the mach number\n",
    "\n",
    "font = {'family': 'serif',\n",
    "        'weight': 'normal',\n",
    "        'size': 15,\n",
    "}\n",
    "\n",
    "plt.figure(figsize=(8,6))\n",
    "plt.errorbar(f['DM Mass'].values, mach[:model_num], yerr=mach_std[:model_num], fmt='o', markersize=5, capsize=5, capthick=1, color='blue')\n",
    "\n",
    "x_lim_min = 6.75\n",
    "x_lim_max = 7.45\n",
    "plt.text((x_lim_min*1+x_lim_max*4)/5, 2.7, r\"$\\rho$ > $\\rho_{200,c}$\", fontdict=font)\n",
    "plt.xlabel('log Halo Mass [M$_{\\odot}$]', fontdict=font)\n",
    "plt.ylabel('Mach Number', fontdict=font)\n",
    "plt.xticks( fontsize=12 )\n",
    "plt.yticks( fontsize=12 )\n",
    "\n",
    "plt.title('Mach Number to Halo Mass', fontdict=font)\n",
    "plt.ylim(0, 3)\n",
    "plt.xlim(x_lim_min, x_lim_max)\n",
    "\n",
    "plt.savefig('mach_number.png', dpi=800)"
   ]
  },
  {
   "cell_type": "code",
   "execution_count": 38,
   "metadata": {},
   "outputs": [
    {
     "data": {
      "image/png": "[encoded data removed]",
      "text/plain": [
       "<Figure size 800x600 with 1 Axes>"
      ]
     },
     "metadata": {},
     "output_type": "display_data"
    }
   ],
   "source": [
    "# # plot the relation between the mach number and the average density of the gas\n",
    "\n",
    "font = {'family': 'serif',\n",
    "        'weight': 'normal',\n",
    "        'size': 15,\n",
    "}\n",
    "\n",
    "plt.figure(figsize=(8,6))\n",
    "plt.errorbar(f['Matter Density'].values, mach[:model_num], yerr=mach_std[:model_num], fmt='o', markersize=5, capsize=5, capthick=1, color='blue')\n",
    "\n",
    "x_lim_min = -24.5\n",
    "x_lim_max = -23.4\n",
    "plt.text((x_lim_min*2+x_lim_max*3)/5, 2.7, r\"$\\rho$ > $\\rho_{200,c}$\", fontdict=font)\n",
    "plt.xlabel('log Average Matter Density [g cm$^{-3}$]', fontdict=font)\n",
    "plt.ylabel('Mach Number', fontdict=font)\n",
    "plt.xticks( fontsize=12 )\n",
    "plt.yticks( fontsize=12 )\n",
    "\n",
    "plt.title('Mach Number to Matter Density', fontdict=font)\n",
    "plt.ylim(0, 3)\n",
    "\n",
    "plt.savefig('matter_density.png', dpi=800)"
   ]
  },
  {
   "cell_type": "code",
   "execution_count": 39,
   "metadata": {},
   "outputs": [
    {
     "data": {
      "image/png": "[encoded data removed]",
      "text/plain": [
       "<Figure size 800x600 with 1 Axes>"
      ]
     },
     "metadata": {},
     "output_type": "display_data"
    }
   ],
   "source": [
    "# Record the mach_number curve in every valid model directory\n",
    "\n",
    "models = [model for model in os.listdir('./') if (model[2] == '_')]\n",
    "model_num = len(f['ID'])\n",
    "beams = np.logspace(-23, -13, 100)\n",
    "\n",
    "density = np.zeros( len(models) )\n",
    "mach = np.zeros( len(models) )\n",
    "mach_std = np.zeros( len(models) )\n",
    "\n",
    "plt.figure(figsize=(8,6))\n",
    "for dir in models:\n",
    "    # jump the directory which has been skipped\n",
    "    if dir[-1] != 'a':\n",
    "        continue\n",
    "    dir_output = dir + '/output/mach_number_030_2.txt'\n",
    "    # record the file's info\n",
    "    file = open(dir_output, 'r')\n",
    "    lines = file.readlines()\n",
    "    file.close()\n",
    "    \n",
    "    # find the corresponding ID\n",
    "    ID = int(dir.split('_')[1][7:])\n",
    "    idx = np.where(f['ID'] == ID)[0][0]\n",
    "\n",
    "    # record the mach number\n",
    "    density = np.zeros( len(lines)-1 )\n",
    "    mach = np.zeros( len(lines)-1 )\n",
    "    mach_std = np.zeros( len(lines)-1 )\n",
    "\n",
    "    for i in range(1, len(lines)):\n",
    "        line = lines[i].split(',')\n",
    "        density[i-1] = np.log10(float(line[0]))\n",
    "        mach[i-1] = float(line[1])\n",
    "        mach_std[i-1] = float(line[2])\n",
    "    \n",
    "    # plot the mach number curve\n",
    "    # plt.errorbar(density, mach, yerr=mach_std, fmt='o', markersize=5, capsize=5, capthick=1, color='blue')\n",
    "    # plt.errorbar(density, mach, yerr=mach_std, fmt='o', markersize=1, color='blue')\n",
    "    plt.plot(density, mach, color='grey', alpha=0.5)\n",
    "\n",
    "plt.xlabel('log Gas Density [g cm$^{-3}$]', fontdict=font)\n",
    "plt.ylabel('Mach Number', fontdict=font)\n",
    "plt.xticks( fontsize=12 )\n",
    "plt.yticks( fontsize=12 )\n",
    "\n",
    "plt.title('Mach Number to Density (26 models at z = 19.40)', fontdict=font)\n",
    "plt.ylim(0, 4)\n",
    "\n",
    "plt.show()"
   ]
  },
  {
   "cell_type": "code",
   "execution_count": 40,
   "metadata": {},
   "outputs": [
    {
     "data": {
      "image/png": "[encoded data removed]",
      "text/plain": [
       "<Figure size 800x600 with 1 Axes>"
      ]
     },
     "metadata": {},
     "output_type": "display_data"
    }
   ],
   "source": [
    "# Record the mach_number curve in every valid model directory\n",
    "font = {'family': 'serif',\n",
    "        'weight': 'normal',\n",
    "        'size': 15,\n",
    "}\n",
    "\n",
    "models = [model for model in os.listdir('./') if (model[2] == '_')]\n",
    "model_num = len(f['ID'])\n",
    "beams = np.logspace(-26, -15, 100)\n",
    "\n",
    "# dimension 0: models, dimension1: density beams, dimension2: mach number and mach number std\n",
    "record = np.zeros( (len(models), len(beams), 2) )\n",
    "\n",
    "plt.figure(figsize=(8,6))\n",
    "for dir in models:\n",
    "    # jump the directory which has been skipped\n",
    "    if dir[-1] != 'a':\n",
    "        continue\n",
    "    dir_output = dir + '/output/mach_number_030_2.txt'\n",
    "    # record the file's info\n",
    "    file = open(dir_output, 'r')\n",
    "    lines = file.readlines()\n",
    "    file.close()\n",
    "    \n",
    "    # find the corresponding ID\n",
    "    ID = int(dir.split('_')[1][7:])\n",
    "    idx = np.where(f['ID'] == ID)[0][0]\n",
    "\n",
    "    for i in range(1, len(lines)):\n",
    "        line = lines[i].split(',')\n",
    "        density_i = np.log10(float(line[0]))\n",
    "        # find the density_i index in the beams\n",
    "        idx_i = np.where(density_i >= np.log10(beams))[0][-1]\n",
    "\n",
    "        record[idx, idx_i, 0] = float(line[1])\n",
    "        record[idx, idx_i, 1] = float(line[2])\n",
    "    \n",
    "combined_curve = np.zeros( (len(beams), 2) )\n",
    "for i in range(len(beams)):\n",
    "    mach_i = np.zeros( len(models) )\n",
    "    mach_std_i = np.zeros( len(models) )\n",
    "    for j in range(len(models)):\n",
    "        mach_i[j] = record[j, i, 0]\n",
    "        mach_std_i[j] = record[j, i, 1]\n",
    "\n",
    "    # calculate only the valid mach number\n",
    "    index = np.where(mach_i != 0)[0]\n",
    "    if index.size == 0:\n",
    "        continue\n",
    "    mach_i = mach_i[index]\n",
    "    mach_std_i = mach_std_i[index]\n",
    "    \n",
    "    combined_curve[i, 0] = np.mean(mach_i)\n",
    "    combined_curve[i, 1] = np.sqrt(np.sum(mach_std_i**2 + mach_i**2) / len(index) - np.mean(mach_i)**2)\n",
    "    # combined_curve[i, 1] = np.std(mach_i)\n",
    "\n",
    "index = np.where(combined_curve[:,0] != 0)[0]\n",
    "x = np.log10(beams[index])\n",
    "y = combined_curve[index,0]\n",
    "\n",
    "plt.plot(x, y, markersize=1, color='grey')\n",
    "plt.fill_between(x, y-combined_curve[index,1], y+combined_curve[index,1], alpha=0.5, color='grey')\n",
    "plt.xlabel('log Gas Density [g cm$^{-3}$]', fontdict=font)\n",
    "plt.ylabel('Mach Number', fontdict=font)\n",
    "plt.xticks( fontsize=12 )\n",
    "plt.yticks( fontsize=12 )\n",
    "\n",
    "plt.title('Mach Number to Density (26 models at z = 19.40)', fontdict=font)\n",
    "plt.ylim(0, 4)\n",
    "\n",
    "plt.show()"
   ]
  },
  {
   "cell_type": "code",
   "execution_count": 26,
   "metadata": {},
   "outputs": [
    {
     "name": "stdout",
     "output_type": "stream",
     "text": [
      "1e-26 0.5666923076923077 0.7935454651911533\n"
     ]
    }
   ],
   "source": [
    "# Show the first value in the record\n",
    "print(beams[0], combined_curve[0,0], combined_curve[0,1])"
   ]
  },
  {
   "cell_type": "code",
   "execution_count": 27,
   "metadata": {},
   "outputs": [
    {
     "name": "stdout",
     "output_type": "stream",
     "text": [
      "1.6681005372000557e-22 2.1214615384615385 0.9919132146734345\n"
     ]
    }
   ],
   "source": [
    "# show the highest mach number\n",
    "index = np.argmax(combined_curve[:,0])\n",
    "print(beams[index], combined_curve[index,0], combined_curve[index,1])"
   ]
  },
  {
   "cell_type": "code",
   "execution_count": 30,
   "metadata": {},
   "outputs": [
    {
     "name": "stdout",
     "output_type": "stream",
     "text": [
      "3.59381366380464e-19 0.55975 0.3113642360644524\n"
     ]
    }
   ],
   "source": [
    "# show the local minima between 1e-22 and 1e-18\n",
    "index = np.where((beams > 5e-23) & (beams < 1e-18) & (combined_curve[:,1] != 0))[0]\n",
    "minima = np.argmin(combined_curve[index,0])\n",
    "print(beams[index][minima], combined_curve[index][minima, 0], combined_curve[index][minima, 1])"
   ]
  }
 ],
 "metadata": {
  "kernelspec": {
   "display_name": "base",
   "language": "python",
   "name": "python3"
  },
  "language_info": {
   "codemirror_mode": {
    "name": "ipython",
    "version": 3
   },
   "file_extension": ".py",
   "mimetype": "text/x-python",
   "name": "python",
   "nbconvert_exporter": "python",
   "pygments_lexer": "ipython3",
   "version": "3.10.10"
  }
 },
 "nbformat": 4,
 "nbformat_minor": 2
}
