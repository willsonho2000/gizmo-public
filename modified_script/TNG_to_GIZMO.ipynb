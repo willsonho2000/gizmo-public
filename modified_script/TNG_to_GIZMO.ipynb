{
 "cells": [
  {
   "cell_type": "code",
   "execution_count": 1,
   "id": "f60adba3",
   "metadata": {},
   "outputs": [],
   "source": [
    "import h5py\n",
    "import numpy as np\n",
    "import matplotlib.pyplot as plt"
   ]
  },
  {
   "cell_type": "code",
   "execution_count": 2,
   "id": "22ec9c96",
   "metadata": {},
   "outputs": [],
   "source": [
    "file_name = \"cutout_28069\"\n",
    "f  = h5py.File( file_name + '.hdf5' )\n",
    "f2 = h5py.File( file_name + \"_modified.hdf5\", 'w' )\n",
    "\n",
    "f1 = h5py.File( \"../../music/level9.hdf5\" )\n",
    "# f = h5py.File( \"snap_000.0.hdf5\" )"
   ]
  },
  {
   "cell_type": "code",
   "execution_count": 3,
   "id": "7b18986f",
   "metadata": {},
   "outputs": [
    {
     "name": "stdout",
     "output_type": "stream",
     "text": [
      "['BoxSize', 'CutoutID', 'CutoutRequest', 'CutoutType', 'Git_commit', 'Git_date', 'HubbleParam', 'MassTable', 'NumFilesPerSnapshot', 'NumPart_ThisFile', 'Omega0', 'OmegaBaryon', 'OmegaLambda', 'Redshift', 'SimulationName', 'SnapshotNumber', 'Time', 'UnitLength_in_cm', 'UnitMass_in_g', 'UnitVelocity_in_cm_per_s']\n",
      "['BoxSize', 'ComovingIntegrationOn', 'Density_Threshold_For_SF_CodeUnits', 'Effective_ISM_EOS_Parameter_EgySpecCold', 'Effective_ISM_EOS_Parameter_EgySpecSN', 'Effective_ISM_EOS_Parameter_FactorEVP', 'Effective_ISM_EOS_Parameter_FactorForSofterEQS', 'Effective_ISM_EOS_Parameter_FactorSN', 'Effective_ISM_EOS_Parameter_FeedbackEnergy', 'Effective_ISM_EOS_Parameter_TempClouds', 'Effective_ISM_EOS_Parameter_TempSupernova', 'Effective_Kernel_NeighborNumber', 'Fixed_ForceSoftening_Keplerian_Kernel_Extent', 'Flag_Cooling', 'Flag_DoublePrecision', 'Flag_Feedback', 'Flag_IC_Info', 'Flag_Metals', 'Flag_Sfr', 'Flag_StellarAge', 'GIZMO_version', 'Gravitational_Constant_In_Code_Inits', 'HubbleParam', 'Kernel_Function_ID', 'MassTable', 'Maximum_Mass_For_Cell_Split', 'Minimum_Mass_For_Cell_Merge', 'NumFilesPerSnapshot', 'NumPart_ThisFile', 'NumPart_Total', 'NumPart_Total_HighWord', 'Omega_Baryon', 'Omega_Lambda', 'Omega_Matter', 'Omega_Radiation', 'Redshift', 'SF_Timescale_At_Density_Threshold_CodeUnits', 'Time', 'UnitLength_In_CGS', 'UnitMass_In_CGS', 'UnitVelocity_In_CGS']\n"
     ]
    }
   ],
   "source": [
    "tng_header      = list(  f['Header'].attrs.keys() )\n",
    "target_header   = list( f1['Header'].attrs.keys() )\n",
    "print( tng_header )\n",
    "print( target_header )"
   ]
  },
  {
   "cell_type": "code",
   "execution_count": 4,
   "id": "e81432fc",
   "metadata": {},
   "outputs": [
    {
     "data": {
      "text/plain": [
       "array([17, 19,  0,  0,  0,  0], dtype=int32)"
      ]
     },
     "execution_count": 4,
     "metadata": {},
     "output_type": "execute_result"
    }
   ],
   "source": [
    "f['Header'].attrs['NumPart_ThisFile']"
   ]
  },
  {
   "cell_type": "code",
   "execution_count": 5,
   "id": "8afdc7a7",
   "metadata": {},
   "outputs": [
    {
     "data": {
      "text/plain": [
       "['BoxSize',\n",
       " 'HubbleParam',\n",
       " 'MassTable',\n",
       " 'NumFilesPerSnapshot',\n",
       " 'NumPart_ThisFile',\n",
       " 'Redshift',\n",
       " 'Time']"
      ]
     },
     "execution_count": 5,
     "metadata": {},
     "output_type": "execute_result"
    }
   ],
   "source": [
    "# Select the attributions wants to copy and transform\n",
    "\n",
    "field_copy = []\n",
    "for i in tng_header:\n",
    "    if i in target_header: field_copy.append(i)\n",
    "field_transform_f = ['UnitLength_in_cm', 'UnitMass_in_g', 'UnitVelocity_in_cm_per_s', 'NumPart_ThisFile', 'Omega0', 'OmegaBaryon', 'OmegaLambda']\n",
    "field_transform_t = ['UnitLength_In_CGS', 'UnitMass_In_CGS', 'UnitVelocity_In_CGS', 'NumPart_Total', 'Omega_Matter', 'Omega_Baryon', 'Omega_Lambda']\n",
    "\n",
    "field_copy"
   ]
  },
  {
   "cell_type": "code",
   "execution_count": 6,
   "id": "745d68e9",
   "metadata": {},
   "outputs": [
    {
     "data": {
      "text/plain": [
       "<HDF5 group \"/PartType1\" (0 members)>"
      ]
     },
     "execution_count": 6,
     "metadata": {},
     "output_type": "execute_result"
    }
   ],
   "source": [
    "# Copy the whole makedisk attributes to new files\n",
    "# Do only once\n",
    "\n",
    "f1.copy( 'Header', f2)\n",
    "f2.create_group( name='PartType0' )\n",
    "f2.create_group( name='PartType1' )"
   ]
  },
  {
   "cell_type": "code",
   "execution_count": 7,
   "id": "0b45c0ef",
   "metadata": {},
   "outputs": [
    {
     "data": {
      "text/plain": [
       "<KeysViewHDF5 ['Header', 'PartType0', 'PartType1']>"
      ]
     },
     "execution_count": 7,
     "metadata": {},
     "output_type": "execute_result"
    }
   ],
   "source": [
    "f2.keys()"
   ]
  },
  {
   "cell_type": "code",
   "execution_count": 8,
   "id": "c43feba1",
   "metadata": {},
   "outputs": [],
   "source": [
    "# Function of copy attributes\n",
    "def attr_copy( file_to, file_1, ind_to, ind_1, hubble_scale=False ):\n",
    "    file_to['Header'].attrs[ ind_to ] = file_1['Header'].attrs[ ind_1 ]\n",
    "\n",
    "    if hubble_scale:\n",
    "        file_to['Header'].attrs[ ind_to ] /=  file_1['Header'].attrs['HubbleParam']\n",
    "\n",
    "\n",
    "# Copy the value of attributes from tng file\n",
    "for i, ind in enumerate( field_copy ):\n",
    "    if ind == 'MassTable':\n",
    "        attr_copy( f2, f1, ind, ind)\n",
    "    elif ind == \"NumFilesPerSnapshot\":\n",
    "        f2['Header'].attrs.__delitem__(ind)\n",
    "        f2['Header'].attrs.create(ind, 1, dtype='int32')\n",
    "    else:\n",
    "        attr_copy( f2, f, ind, ind)\n",
    "\n",
    "# Transfrom the specific attributes\n",
    "for i, ind in enumerate( field_transform_t ):\n",
    "    f_ind = field_transform_f[i]   # Correspondings from the tng\n",
    "\n",
    "    # set the case\n",
    "    match ind:\n",
    "        case 'UnitLength_In_CGS':\n",
    "            attr_copy( f2, f, ind, f_ind, hubble_scale=True )\n",
    "        case 'UnitMass_In_CGS':\n",
    "            attr_copy( f2, f, ind, f_ind, hubble_scale=True )\n",
    "        case 'NumPart_Total':\n",
    "            attr_copy( f2, f, ind, f_ind )\n",
    "        case 'Omega_Matter':\n",
    "            attr_copy( f2, f, ind, f_ind )\n",
    "        case 'Omega_Baryon':\n",
    "            attr_copy( f2, f, ind, f_ind )\n",
    "        case 'Omega_Lambda':\n",
    "            attr_copy( f2, f, ind, f_ind )"
   ]
  },
  {
   "cell_type": "code",
   "execution_count": 9,
   "id": "cedb0ef1",
   "metadata": {},
   "outputs": [
    {
     "name": "stdout",
     "output_type": "stream",
     "text": [
      "UnitLength_In_CGS \t: 4.555178624151166e+21\n",
      "UnitMass_In_CGS \t: 2.936226749335695e+43\n",
      "UnitVelocity_In_CGS \t: 100000.0\n",
      "NumPart_Total \t: [17 19  0  0  0  0]\n",
      "Omega_Matter \t: 0.3089\n",
      "Omega_Baryon \t: 0.0486\n",
      "Omega_Lambda \t: 0.6911\n",
      "BoxSize \t: 35000.0\n",
      "HubbleParam \t: 0.6774\n",
      "MassTable \t: [0. 0. 0. 0. 0. 0.]\n",
      "NumFilesPerSnapshot \t: 1\n",
      "NumPart_ThisFile \t: [17 19  0  0  0  0]\n",
      "Redshift \t: 20.046490988807516\n",
      "Time \t: 0.047513858748795615\n"
     ]
    }
   ],
   "source": [
    "for i, ind in enumerate( field_transform_t ):\n",
    "    print(ind, \"\\t:\", f2['Header'].attrs[ ind ])\n",
    "\n",
    "for i, ind in enumerate( field_copy ):\n",
    "    print(ind, \"\\t:\", f2['Header'].attrs[ ind ])"
   ]
  },
  {
   "cell_type": "code",
   "execution_count": 10,
   "id": "226ba05b",
   "metadata": {},
   "outputs": [
    {
     "name": "stdout",
     "output_type": "stream",
     "text": [
      "center: [13698.0146484375, 6920.320341222427, 19866.591222426472]\n",
      "particle range:  15.93505859375\n"
     ]
    }
   ],
   "source": [
    "# First calculate the range of x, y, z\n",
    "min_set = []\n",
    "max_set = []\n",
    "pos_com = []\n",
    "vel_com = []\n",
    "\n",
    "for i in range(3):\n",
    "    min_set.append( min( np.min( f['PartType0/Coordinates'][:, i] ) , np.min( f['PartType1/Coordinates'][:, i] ) ) )\n",
    "    max_set.append( max( np.max( f['PartType0/Coordinates'][:, i] ) , np.max( f['PartType1/Coordinates'][:, i] ) ) )\n",
    "    pos_com.append(np.average( f['PartType0/Coordinates'][:, i] ))\n",
    "    vel_com.append( np.average( f['PartType0/Velocities'][:, i] ) )\n",
    "\n",
    "print( \"center:\", pos_com )\n",
    "print( \"velocity:\", vel_com )\n",
    "print( \"particle range: \", np.max( np.array( max_set ) - np.array( min_set ) ) )"
   ]
  },
  {
   "cell_type": "code",
   "execution_count": 11,
   "id": "fbe2ab87",
   "metadata": {},
   "outputs": [],
   "source": [
    "# np.array( max_set ) - np.array( min_set )\n",
    "f2['Header'].attrs['BoxSize'] = 30.0"
   ]
  },
  {
   "cell_type": "code",
   "execution_count": 12,
   "id": "725f017c",
   "metadata": {},
   "outputs": [],
   "source": [
    "## Copy the data from TNG\n",
    "\n",
    "# For PartType0\n",
    "field_copy = list(  f['PartType0'].keys() )\n",
    "field_gizm = list( f1['PartType0'].keys() )\n",
    "\n",
    "for vi, ind in enumerate( field_copy ):\n",
    "    if ind in field_gizm:\n",
    "        match ind:\n",
    "            case 'ParticleIDs':\n",
    "                gas_IDs = len( f['PartType0'][ind] )\n",
    "                f2['PartType0'].create_dataset( name=ind, data=np.arange(0, gas_IDs, 1), dtype='u4' )\n",
    "            case 'Coordinates':\n",
    "                f_data = f['PartType0'][ind][:]\n",
    "                f2['PartType0'].create_dataset( name=ind, data=f_data, dtype='f8' )\n",
    "            case _:\n",
    "                f2['PartType0'].create_dataset( name=ind, data=f['PartType0'][ind] )\n",
    "\n",
    "field_more = ['ParticleChildIDsNumber', 'ParticleIDGenerationNumber']\n",
    "\n",
    "# Create additional datasets\n",
    "gas_len  = len( f['PartType0/Coordinates'] )\n",
    "gas_data = np.zeros( gas_len )\n",
    "for ind in field_more:\n",
    "    f2['PartType0'].create_dataset( name=ind, data=gas_data, dtype='u4' )\n",
    "\n",
    "# For PartType1\n",
    "field_copy = list(  f['PartType1'].keys() )\n",
    "field_gizm = list( f1['PartType1'].keys() )\n",
    "\n",
    "for vi, ind in enumerate( field_copy ):\n",
    "    if ind in field_gizm:\n",
    "        match ind:\n",
    "            case 'ParticleIDs':\n",
    "                dm_IDs = len( f['PartType1'][ind] )\n",
    "                f2['PartType1'].create_dataset( name=ind, data=np.arange(gas_IDs, gas_IDs+dm_IDs, 1), dtype='u4' )\n",
    "            case 'Coordinates':\n",
    "                f_data = f['PartType1'][ind][:]\n",
    "                f2['PartType1'].create_dataset( name=ind, data=f_data, dtype='f8' )\n",
    "            case _:\n",
    "                f2['PartType1'].create_dataset( name=ind, data=f['PartType1'][ind] )\n",
    "\n",
    "# Create DM masses' dataset\n",
    "dm_len  = len( f['PartType1/Coordinates'] )\n",
    "dm_data = np.ones( dm_len ) * 4.53e5 / 1e10\n",
    "f2['PartType1'].create_dataset( name='Masses', data=dm_data, dtype='f4' )\n",
    "\n",
    "# Create additional datasets\n",
    "dm_data = np.zeros( dm_len )\n",
    "for ind in field_more:\n",
    "    f2['PartType1'].create_dataset( name=ind, data=dm_data, dtype='u4' )"
   ]
  },
  {
   "cell_type": "code",
   "execution_count": null,
   "id": "53f96f2d",
   "metadata": {},
   "outputs": [],
   "source": [
    "# Modify the velocity and the position of the original data\n",
    "\n",
    "part = [0, 1]\n",
    "\n",
    "for i in part:\n",
    "    f2['PartType' + str(i) ]['Coordinates'][:]   -= pos_com\n",
    "    f2['PartType' + str(i) ]['Velocities'][:]    -= vel_com"
   ]
  },
  {
   "cell_type": "code",
   "execution_count": 13,
   "id": "44a6d18d",
   "metadata": {},
   "outputs": [],
   "source": [
    "unit_mass_cgs = f2['Header'].attrs['UnitMass_In_CGS']\n",
    "unit_vel_cgs = f2['Header'].attrs['UnitVelocity_In_CGS']\n",
    "\n",
    "gas_intern = f2['PartType0']['InternalEnergy'][:]\n",
    "ele_abund  = f2['PartType0']['ElectronAbundance'][:]"
   ]
  },
  {
   "cell_type": "code",
   "execution_count": 14,
   "id": "768aa00e",
   "metadata": {},
   "outputs": [
    {
     "data": {
      "text/plain": [
       "array([ 3962.9375,  2932.4548,  2932.3489,  9092.543 ,  4654.3525,\n",
       "       10891.346 ,  6702.6367,  9706.191 ,  4946.985 ,  6523.694 ,\n",
       "        4171.669 , 11858.925 ,  6685.5454,  3607.7695, 10892.572 ,\n",
       "        4447.394 ,  3603.9182], dtype=float32)"
      ]
     },
     "execution_count": 14,
     "metadata": {},
     "output_type": "execute_result"
    }
   ],
   "source": [
    "# Calculate the temperature of gas particles\n",
    "\n",
    "gamma = 5/3\n",
    "k = 1.3807e-16\n",
    "X_H = 0.76\n",
    "m_p = 1.67e-24\n",
    "mu = 4 / (1 + 3*X_H + 4*X_H*ele_abund) * m_p\n",
    "\n",
    "T = (gamma-1) * gas_intern/k * pow(unit_vel_cgs, 2) * mu\n",
    "T"
   ]
  },
  {
   "cell_type": "code",
   "execution_count": 15,
   "id": "63628192",
   "metadata": {},
   "outputs": [
    {
     "data": {
      "text/plain": [
       "<HDF5 dataset \"Temperature\": shape (17,), type \"<f4\">"
      ]
     },
     "execution_count": 15,
     "metadata": {},
     "output_type": "execute_result"
    }
   ],
   "source": [
    "f2['PartType0'].create_dataset('Temperature', data=T)"
   ]
  },
  {
   "cell_type": "code",
   "execution_count": 16,
   "id": "75508151",
   "metadata": {},
   "outputs": [
    {
     "name": "stdout",
     "output_type": "stream",
     "text": [
      "<KeysViewHDF5 ['Coordinates', 'Density', 'ElectronAbundance', 'InternalEnergy', 'Masses', 'ParticleChildIDsNumber', 'ParticleIDGenerationNumber', 'ParticleIDs', 'StarFormationRate', 'Temperature', 'Velocities']>\n",
      "<KeysViewHDF5 ['Coordinates', 'Masses', 'ParticleChildIDsNumber', 'ParticleIDGenerationNumber', 'ParticleIDs', 'Velocities']>\n"
     ]
    }
   ],
   "source": [
    "print( f2['PartType0'].keys() )\n",
    "print( f2['PartType1'].keys() )"
   ]
  },
  {
   "cell_type": "code",
   "execution_count": 17,
   "id": "dc8fe69d",
   "metadata": {},
   "outputs": [],
   "source": [
    "f.close()\n",
    "f1.close()\n",
    "f2.close()"
   ]
  }
 ],
 "metadata": {
  "kernelspec": {
   "display_name": "Python 3 (ipykernel)",
   "language": "python",
   "name": "python3"
  },
  "language_info": {
   "codemirror_mode": {
    "name": "ipython",
    "version": 3
   },
   "file_extension": ".py",
   "mimetype": "text/x-python",
   "name": "python",
   "nbconvert_exporter": "python",
   "pygments_lexer": "ipython3",
   "version": "3.10.10"
  }
 },
 "nbformat": 4,
 "nbformat_minor": 5
}
