{
 "cells": [
  {
   "cell_type": "code",
   "execution_count": 1,
   "id": "c7341b61",
   "metadata": {},
   "outputs": [],
   "source": [
    "import h5py\n",
    "import numpy as np\n",
    "import matplotlib.pyplot as plt"
   ]
  },
  {
   "cell_type": "code",
   "execution_count": 2,
   "id": "1d9056bc",
   "metadata": {},
   "outputs": [],
   "source": [
    "first_file  = \"cutout_21954\"\n",
    "second_file = \"cutout_27321\""
   ]
  },
  {
   "cell_type": "code",
   "execution_count": 3,
   "id": "c8c9e6ce",
   "metadata": {},
   "outputs": [],
   "source": [
    "f  = h5py.File( \"TNG_1_modified.hdf5\", \"r\")\n",
    "f1 = h5py.File( \"TNG_2_modified.hdf5\", \"r\")\n",
    "f2 = h5py.File(\"TNG_modified.hdf5\", \"w\")"
   ]
  },
  {
   "cell_type": "code",
   "execution_count": 5,
   "metadata": {},
   "outputs": [
    {
     "data": {
      "text/plain": [
       "(array([-3.59809028,  7.49912338,  9.49129946]),\n",
       " array([ -1.35089111,   2.83676147, -14.63479614]))"
      ]
     },
     "execution_count": 5,
     "metadata": {},
     "output_type": "execute_result"
    }
   ],
   "source": [
    "ff1 = h5py.File( first_file  + \".hdf5\" )\n",
    "ff2 = h5py.File( second_file + \".hdf5\" )\n",
    "pos_com = np.zeros(3)\n",
    "vel_com = np.zeros(3)\n",
    "\n",
    "# The coordinates differences between halos' center\n",
    "for i in range(3):\n",
    "    pos_com[i] = (np.average( ff2['PartType0/Coordinates'][:, i] ) - np.average( ff1['PartType0/Coordinates'][:, i] ))\n",
    "    vel_com[i] = (np.average( ff2['PartType0/Velocities'][:, i] ) - np.average( ff1['PartType0/Velocities'][:, i] ))\n",
    "\n",
    "pos_com, vel_com"
   ]
  },
  {
   "cell_type": "code",
   "execution_count": 6,
   "id": "28e67da7",
   "metadata": {},
   "outputs": [],
   "source": [
    "# Do only once\n",
    "\n",
    "keys = list(f.keys())\n",
    "\n",
    "for i, ind in enumerate(keys):\n",
    "    \n",
    "    # copy all data\n",
    "    f.copy(ind, f2)"
   ]
  },
  {
   "cell_type": "code",
   "execution_count": 7,
   "id": "ee68a287",
   "metadata": {},
   "outputs": [],
   "source": [
    "# Insert makedisk data into the galaxy\n",
    "\n",
    "# Get groups information\n",
    "keys = list(f1.keys())\n",
    "\n",
    "for i, ind in enumerate(keys):\n",
    "\n",
    "    if ind == \"Header\":\n",
    "        continue\n",
    "    # Get members information\n",
    "    member = list(f2[ind].keys())\n",
    "\n",
    "    for j, mem in enumerate(member):\n",
    "        # delete the original data\n",
    "        temp = f2[ind][mem][:]\n",
    "        del f2[ind][mem]\n",
    "\n",
    "        # store and combine the data\n",
    "        if   mem == \"Coordinates\":\n",
    "            # new coordinates = original data + [x, y, z]\n",
    "            coord = f1[ind][mem][:] + np.array( pos_com )\n",
    "            data_combine = np.concatenate((temp, coord), axis=0)\n",
    "\n",
    "        elif mem == \"Velocities\":\n",
    "            # new velocities = original data + [vx, vy, vz]\n",
    "            vel = f1[ind][mem][:] + np.array( vel_com )\n",
    "            data_combine = np.concatenate((temp, vel), axis=0)\n",
    "\n",
    "        elif mem == \"ParticleIDs\":\n",
    "            # new particle id = original data + f's total number\n",
    "            data_combine = np.concatenate((temp, f1[ind][mem][:] + len(temp)), axis=0)\n",
    "\n",
    "        else:\n",
    "            data_combine = np.concatenate((temp, f1[ind][mem][:]), axis=0)\n",
    "\n",
    "        f2[ind].create_dataset(mem, data=data_combine)\n",
    "    "
   ]
  },
  {
   "cell_type": "code",
   "execution_count": 8,
   "id": "a0e9e776",
   "metadata": {},
   "outputs": [
    {
     "data": {
      "text/plain": [
       "(array([18, 24,  0,  0,  0,  0], dtype=int32),\n",
       " array([19, 18,  0,  0,  0,  0], dtype=int32))"
      ]
     },
     "execution_count": 8,
     "metadata": {},
     "output_type": "execute_result"
    }
   ],
   "source": [
    "f['Header'].attrs['NumPart_ThisFile'], f1['Header'].attrs['NumPart_ThisFile']"
   ]
  },
  {
   "cell_type": "code",
   "execution_count": 9,
   "id": "6e145e81",
   "metadata": {},
   "outputs": [
    {
     "data": {
      "text/plain": [
       "array([37, 42,  0,  0,  0,  0], dtype=int32)"
      ]
     },
     "execution_count": 9,
     "metadata": {},
     "output_type": "execute_result"
    }
   ],
   "source": [
    "# modify the header particles' information\n",
    "\n",
    "number_gas = f['Header'].attrs['NumPart_ThisFile'][0] + f1['Header'].attrs['NumPart_ThisFile'][0]\n",
    "number_dm  = f['Header'].attrs['NumPart_ThisFile'][1] + f1['Header'].attrs['NumPart_ThisFile'][1]\n",
    "\n",
    "f2['Header'].attrs['NumPart_ThisFile'] = np.array([number_gas, number_dm, 0, 0,     0,     0], dtype='int32')\n",
    "f2['Header'].attrs['NumPart_Total']    = np.array([number_gas, number_dm, 0, 0,     0,     0], dtype='uint32')\n",
    "\n",
    "f2['Header'].attrs['NumPart_ThisFile']"
   ]
  },
  {
   "cell_type": "code",
   "execution_count": 10,
   "id": "35c9b6b2",
   "metadata": {},
   "outputs": [],
   "source": [
    "f.close()\n",
    "f1.close()\n",
    "f2.close()\n",
    "\n",
    "ff1.close()\n",
    "ff2.close()"
   ]
  },
  {
   "cell_type": "code",
   "execution_count": 11,
   "metadata": {},
   "outputs": [],
   "source": [
    "f = h5py.File( \"TNG_modified.hdf5\", \"r+\" )"
   ]
  },
  {
   "cell_type": "code",
   "execution_count": 12,
   "metadata": {},
   "outputs": [],
   "source": [
    "# Calculate the position and the velocity of the center of mass\n",
    "\n",
    "gas_coord   = f['PartType0']['Coordinates'][:]\n",
    "dm_coord    = f['PartType1']['Coordinates'][:]\n",
    "\n",
    "gas_vel     = f['PartType0']['Velocities'][:]\n",
    "dm_vel      = f['PartType1']['Velocities'][:]\n",
    "\n",
    "gas_mass    = f['PartType0']['Masses'][:]\n",
    "dm_mass     = f['PartType1']['Masses'][:]\n",
    "\n",
    "all_coord   = np.concatenate((gas_coord, dm_coord)  , axis=0)\n",
    "all_vel     = np.concatenate((gas_vel, dm_vel)      , axis=0)\n",
    "all_mass    = np.concatenate((gas_mass, dm_mass))"
   ]
  },
  {
   "cell_type": "code",
   "execution_count": 13,
   "metadata": {},
   "outputs": [
    {
     "data": {
      "text/plain": [
       "(array([-1.80060881,  3.29813636,  4.63035478]),\n",
       " array([-2.36659829,  0.81168126, -8.27461635]))"
      ]
     },
     "execution_count": 13,
     "metadata": {},
     "output_type": "execute_result"
    }
   ],
   "source": [
    "pos_com = np.zeros(3)\n",
    "vel_com = np.zeros(3)\n",
    "\n",
    "for i in range(3):\n",
    "    pos_com[i] = np.sum( all_coord[:, i]*all_mass ) / np.sum( all_mass )\n",
    "    vel_com[i] = np.sum( all_vel[:, i]*all_mass )   / np.sum( all_mass )\n",
    "\n",
    "pos_com, vel_com"
   ]
  },
  {
   "cell_type": "code",
   "execution_count": 14,
   "metadata": {},
   "outputs": [],
   "source": [
    "# Modify the velocity and the position of the original data\n",
    "\n",
    "part = [0, 1]\n",
    "\n",
    "for i in part:\n",
    "    f['PartType' + str(i) ]['Velocities'][:]    -= vel_com\n",
    "    f['PartType' + str(i) ]['Coordinates'][:]   -= pos_com"
   ]
  },
  {
   "cell_type": "code",
   "execution_count": 15,
   "metadata": {},
   "outputs": [
    {
     "data": {
      "text/plain": [
       "(-20.0, 20.0)"
      ]
     },
     "execution_count": 15,
     "metadata": {},
     "output_type": "execute_result"
    },
    {
     "data": {
      "image/png": "[encoded data removed]",
      "text/plain": [
       "<Figure size 500x500 with 1 Axes>"
      ]
     },
     "metadata": {},
     "output_type": "display_data"
    }
   ],
   "source": [
    "plt.figure(figsize= (5,5))\n",
    "plt.scatter(f['PartType0/Coordinates'][:,0], f['PartType0/Coordinates'][:,1], s=1)\n",
    "plt.scatter(f['PartType1/Coordinates'][:,0], f['PartType1/Coordinates'][:,1], s=1, c='r')\n",
    "plt.ylim(-20, 20)\n",
    "plt.xlim(-20, 20)"
   ]
  },
  {
   "cell_type": "code",
   "execution_count": 16,
   "metadata": {},
   "outputs": [],
   "source": [
    "f.close()"
   ]
  }
 ],
 "metadata": {
  "kernelspec": {
   "display_name": "Python 3 (ipykernel)",
   "language": "python",
   "name": "python3"
  },
  "language_info": {
   "codemirror_mode": {
    "name": "ipython",
    "version": 3
   },
   "file_extension": ".py",
   "mimetype": "text/x-python",
   "name": "python",
   "nbconvert_exporter": "python",
   "pygments_lexer": "ipython3",
   "version": "3.10.10"
  }
 },
 "nbformat": 4,
 "nbformat_minor": 5
}
