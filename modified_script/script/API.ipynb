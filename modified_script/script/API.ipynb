{
 "cells": [
  {
   "cell_type": "code",
   "execution_count": 1,
   "metadata": {},
   "outputs": [],
   "source": [
    "import h5py\n",
    "import numpy as np\n",
    "import os"
   ]
  },
  {
   "cell_type": "code",
   "execution_count": 2,
   "metadata": {},
   "outputs": [],
   "source": [
    "import requests\n",
    "\n",
    "baseUrl = 'http://www.tng-project.org/api/'\n",
    "headers = {\"api-key\":\"e3fa769d419027b4bb72798214dfe554\"}\n",
    "\n",
    "def get(path, params=None):\n",
    "    # make HTTP GET request to path\n",
    "    r = requests.get(path, params=params, headers=headers)\n",
    "\n",
    "    # raise exception if response code is not HTTP SUCCESS (200)\n",
    "    r.raise_for_status()\n",
    "\n",
    "    if r.headers['content-type'] == 'application/json':\n",
    "        return r.json() # parse json responses automatically\n",
    "    \n",
    "    if 'content-disposition' in r.headers:\n",
    "        filename = r.headers['content-disposition'].split(\"filename=\")[1]\n",
    "        with open(filename, 'wb') as f:\n",
    "            f.write(r.content)\n",
    "        return filename # return the filename string\n",
    "\n",
    "    return r"
   ]
  },
  {
   "cell_type": "code",
   "execution_count": 3,
   "metadata": {},
   "outputs": [],
   "source": [
    "mass_max = 0.0005\n",
    "mass_star = 0.0\n",
    "search_query = \"?primary_flag=1\" + \"&mass_stars__lte=\" + str(mass_star) + \"&mass__lte=\" + str(mass_max)"
   ]
  },
  {
   "cell_type": "code",
   "execution_count": 4,
   "metadata": {},
   "outputs": [],
   "source": [
    "url = \"http://www.tng-project.org/api/TNG50-1/snapshots/0/subhalos/\" + search_query\n",
    "# url = \"http://www.tng-project.org/api/TNG50-1/snapshots/4/subhalos/46/info.json\"\n",
    "r = get(url)"
   ]
  },
  {
   "cell_type": "code",
   "execution_count": 5,
   "metadata": {},
   "outputs": [
    {
     "data": {
      "text/plain": [
       "'http://www.tng-project.org/api/TNG50-1/snapshots/0/subhalos/?primary_flag=1&mass_stars__lte=0.0&mass__lte=0.0005'"
      ]
     },
     "execution_count": 5,
     "metadata": {},
     "output_type": "execute_result"
    }
   ],
   "source": [
    "url"
   ]
  },
  {
   "cell_type": "code",
   "execution_count": 6,
   "metadata": {},
   "outputs": [
    {
     "data": {
      "text/plain": [
       "{'sublink_progenitor': None,\n",
       " 'sublink_descendant': 'http://www.tng-project.org/api/TNG50-1/snapshots/1/subhalos/27703/',\n",
       " 'parent_halo': 'http://www.tng-project.org/api/TNG50-1/snapshots/0/halos/15767/'}"
      ]
     },
     "execution_count": 6,
     "metadata": {},
     "output_type": "execute_result"
    }
   ],
   "source": [
    "sub = get( r['results'][0]['url'] )\n",
    "sub['related']"
   ]
  },
  {
   "cell_type": "code",
   "execution_count": 17,
   "metadata": {},
   "outputs": [],
   "source": [
    "# Record the mass of the subhalo\n",
    "mass_list = []"
   ]
  },
  {
   "cell_type": "code",
   "execution_count": 18,
   "metadata": {},
   "outputs": [
    {
     "name": "stdout",
     "output_type": "stream",
     "text": [
      "\t 26221\n",
      "\t 26616\n",
      "\t 26842\n",
      "\t 27062\n",
      "\t 27075\n",
      "\t 27261\n",
      "\t 27836\n",
      "\t 27856\n",
      "\t 28199\n",
      "\t 28323\n",
      "\t 28336\n",
      "\t 28585\n",
      "\t 28904\n",
      "\t 29124\n",
      "\t 29773\n",
      "\t 30037\n",
      "\t 30112\n",
      "\t 30251\n",
      "\t 30269\n",
      "\t 30331\n",
      "\t 30476\n",
      "\t 30779\n",
      "\t 31111\n",
      "\t 31393\n",
      "\t 31445\n",
      "\t 31590\n",
      "\t 31708\n",
      "\t 31812\n",
      "\t 31859\n"
     ]
    }
   ],
   "source": [
    "# If the progenitor subhalo's mass doesn't exceed 10 times the current subhalo's mass\n",
    "\n",
    "id_list = []\n",
    "j = 1\n",
    "for i in range(0, 121):\n",
    "    current_id = r['results'][i]['id']\n",
    "    # print(current_id)\n",
    "\n",
    "    sub = get( r['results'][i]['url'] )\n",
    "    sub_mass = sub['mass_log_msun']\n",
    "\n",
    "    des = get( sub['related']['sublink_descendant'] )\n",
    "    des_mass = des['mass_log_msun']\n",
    "\n",
    "    if ( des_mass - sub_mass ) < 1.0:\n",
    "        id_list.append( current_id )\n",
    "        print(\"\\t\", current_id)\n",
    "        mass_list.append( sub_mass )\n",
    "        j += 1\n",
    "\n",
    "    if (j >= 30):\n",
    "        break"
   ]
  },
  {
   "cell_type": "code",
   "execution_count": 21,
   "metadata": {},
   "outputs": [],
   "source": [
    "mass_list.append(6.836607760581343)\n",
    "mass_list.append(6.85129988406522)"
   ]
  },
  {
   "cell_type": "code",
   "execution_count": 22,
   "metadata": {},
   "outputs": [
    {
     "data": {
      "text/plain": [
       "(7366400.944788899, 6495423.678771777)"
      ]
     },
     "execution_count": 22,
     "metadata": {},
     "output_type": "execute_result"
    }
   ],
   "source": [
    "10 ** np.max(mass_list), 10 ** np.min(mass_list)"
   ]
  },
  {
   "cell_type": "code",
   "execution_count": 10,
   "metadata": {},
   "outputs": [],
   "source": [
    "# Download the progenitor and the current subhalos' hdf5\n",
    "\n",
    "ini_num = 0\n",
    "\n",
    "for i, id in enumerate(id_list):\n",
    "    url = \"http://www.tng-project.org/api/TNG50-1/snapshots/0/subhalos/\"\n",
    "\n",
    "    params = {'gas': 'all', 'dm':'all' }\n",
    "\n",
    "    sub = get( url + str(id) )\n",
    "    des = get( sub['related']['sublink_descendant'] )\n",
    "\n",
    "    des_id = sub['desc_sfid']\n",
    "    pro_id = des['prog_sfid']\n",
    "\n",
    "    sub_saved_filename = get( sub['cutouts']['parent_halo'], params )\n",
    "\n",
    "    os.system('mkdir %02d_subhalo' % (ini_num + i) + str(id))\n",
    "\n",
    "    if id == pro_id:    # Print id of the subhalo which has no second progenitor.\n",
    "        print( id, 1 )\n",
    "        os.system('mv ' + sub_saved_filename  + ' %02d_subhalo' % (ini_num + i) + str(id) + '_r')\n",
    "    else:               # Download the progenitor and the current subhalos\n",
    "        print( id, 2 )\n",
    "        pro = get( url + str(pro_id) )\n",
    "        pro_saved_filename = get( pro['cutouts']['parent_halo'], params )\n",
    "\n",
    "        os.system('mv ' + sub_saved_filename + ' ' + pro_saved_filename  \n",
    "                  + ' %02d_subhalo' % (ini_num + i) + str(id))\n"
   ]
  },
  {
   "cell_type": "code",
   "execution_count": 4,
   "metadata": {},
   "outputs": [
    {
     "data": {
      "text/plain": [
       "'sublink_mpb_7181.hdf5'"
      ]
     },
     "execution_count": 4,
     "metadata": {},
     "output_type": "execute_result"
    }
   ],
   "source": [
    "# desc = get( sub['related']['sublink_descendant'] )\n",
    "url = \"http://www.tng-project.org/api/TNG50-1/snapshots/0/subhalos/7181/\"\n",
    "sub = get( url )\n",
    "get( sub['trees']['sublink_mpb'])"
   ]
  },
  {
   "cell_type": "code",
   "execution_count": 14,
   "metadata": {},
   "outputs": [],
   "source": [
    "prev = 0\n",
    "url += \"&offset=\" + str( prev*100 )\n",
    "r = get( url )"
   ]
  },
  {
   "cell_type": "code",
   "execution_count": null,
   "metadata": {},
   "outputs": [],
   "source": [
    "record = []\n",
    "for i in range( prev, (r['count'] // 100) + 1 ):\n",
    "    # for j in range( min( 100, r['count'] - i*100 )):\n",
    "    for j in range( 100 ):\n",
    "        if ( 100 * i + j ) == r['count']:\n",
    "            break\n",
    "\n",
    "        url = r['results'][j]['url']\n",
    "        sub = get( url )\n",
    "\n",
    "        if sub['related']['sublink_descendant'] != None:\n",
    "            # print( \"id with pro:\", sub['id'] )\n",
    "            parent_halo = sub['related']['parent_halo']\n",
    "            record.append( parent_halo.split('/')[-2] )\n",
    "\n",
    "            # record the mass of subhalo\n",
    "            sub_mass = \n",
    "    \n",
    "    if i < r['count'] // 100:\n",
    "        r = get( r['next'] )\n",
    "    print(\"progress:\", i*100)"
   ]
  },
  {
   "cell_type": "code",
   "execution_count": 27,
   "metadata": {},
   "outputs": [],
   "source": [
    "candiate = {}\n",
    "for i in record:\n",
    "    halo = get( 'http://www.tng-project.org/api/TNG50-1/snapshots/0/halos/' + i )\n",
    "    if halo[\"child_subhalos\"][\"count\"] > 1:\n",
    "        candiate[int(i)] = halo[\"child_subhalos\"][\"count\"]\n",
    "\n",
    "candiate"
   ]
  },
  {
   "cell_type": "code",
   "execution_count": 21,
   "metadata": {},
   "outputs": [
    {
     "data": {
      "text/plain": [
       "{'id': 16130,\n",
       " 'sfr': 0.0,\n",
       " 'mass_log_msun': 6.836607760581343,\n",
       " 'url': 'http://www.tng-project.org/api/TNG50-1/snapshots/0/subhalos/16130/'}"
      ]
     },
     "execution_count": 21,
     "metadata": {},
     "output_type": "execute_result"
    }
   ],
   "source": [
    "r['results'][0]"
   ]
  },
  {
   "cell_type": "code",
   "execution_count": 52,
   "metadata": {},
   "outputs": [],
   "source": [
    "f = h5py.File( \"sublink_mpb_16130.hdf5\" )\n",
    "f = h5py.File( \"sublink_mpb_27703.hdf5\" )\n",
    "# f = h5py.File( \"sublink_60.hdf5\" )\n",
    "# f = h5py.File( \"sublink_641.hdf5\" )"
   ]
  },
  {
   "cell_type": "code",
   "execution_count": 50,
   "metadata": {},
   "outputs": [
    {
     "data": {
      "text/plain": [
       "<KeysViewHDF5 ['DescendantID', 'FirstProgenitorID', 'FirstSubhaloInFOFGroupID', 'GroupBHMass', 'GroupBHMdot', 'GroupCM', 'GroupFirstSub', 'GroupGasMetalFractions', 'GroupGasMetallicity', 'GroupLen', 'GroupLenType', 'GroupMass', 'GroupMassType', 'GroupNsubs', 'GroupPos', 'GroupSFR', 'GroupStarMetalFractions', 'GroupStarMetallicity', 'GroupVel', 'GroupWindMass', 'Group_M_Crit200', 'Group_M_Crit500', 'Group_M_Mean200', 'Group_M_TopHat200', 'Group_R_Crit200', 'Group_R_Crit500', 'Group_R_Mean200', 'Group_R_TopHat200', 'LastProgenitorID', 'MainLeafProgenitorID', 'Mass', 'MassHistory', 'NextProgenitorID', 'NextSubhaloInFOFGroupID', 'NumParticles', 'RootDescendantID', 'SnapNum', 'SubfindID', 'SubhaloBHMass', 'SubhaloBHMdot', 'SubhaloCM', 'SubhaloGasMetalFractions', 'SubhaloGasMetalFractionsHalfRad', 'SubhaloGasMetalFractionsMaxRad', 'SubhaloGasMetalFractionsSfr', 'SubhaloGasMetalFractionsSfrWeighted', 'SubhaloGasMetallicity', 'SubhaloGasMetallicityHalfRad', 'SubhaloGasMetallicityMaxRad', 'SubhaloGasMetallicitySfr', 'SubhaloGasMetallicitySfrWeighted', 'SubhaloGrNr', 'SubhaloHalfmassRad', 'SubhaloHalfmassRadType', 'SubhaloID', 'SubhaloIDMostbound', 'SubhaloIDRaw', 'SubhaloLen', 'SubhaloLenType', 'SubhaloMass', 'SubhaloMassInHalfRad', 'SubhaloMassInHalfRadType', 'SubhaloMassInMaxRad', 'SubhaloMassInMaxRadType', 'SubhaloMassInRad', 'SubhaloMassInRadType', 'SubhaloMassType', 'SubhaloParent', 'SubhaloPos', 'SubhaloSFR', 'SubhaloSFRinHalfRad', 'SubhaloSFRinMaxRad', 'SubhaloSFRinRad', 'SubhaloSpin', 'SubhaloStarMetalFractions', 'SubhaloStarMetalFractionsHalfRad', 'SubhaloStarMetalFractionsMaxRad', 'SubhaloStarMetallicity', 'SubhaloStarMetallicityHalfRad', 'SubhaloStarMetallicityMaxRad', 'SubhaloStellarPhotometrics', 'SubhaloStellarPhotometricsMassInRad', 'SubhaloStellarPhotometricsRad', 'SubhaloVel', 'SubhaloVelDisp', 'SubhaloVmax', 'SubhaloVmaxRad', 'SubhaloWindMass', 'TreeID']>"
      ]
     },
     "execution_count": 50,
     "metadata": {},
     "output_type": "execute_result"
    }
   ],
   "source": [
    "f.keys()"
   ]
  },
  {
   "cell_type": "code",
   "execution_count": 6,
   "metadata": {},
   "outputs": [
    {
     "name": "stdout",
     "output_type": "stream",
     "text": [
      "DescendantID\n",
      "[67301294]\n",
      "SubhaloID\n",
      "[67301296]\n",
      "FirstProgenitorID\n",
      "[-1]\n",
      "NextProgenitorID\n",
      "[-1]\n",
      "LastProgenitorID\n",
      "[67301296]\n",
      "MainLeafProgenitorID\n",
      "[67301296]\n",
      "SubfindID\n",
      "[16130]\n",
      "SnapNum\n",
      "[0]\n"
     ]
    }
   ],
   "source": [
    "f = h5py.File( \"sublink_mpb_16130.hdf5\" )\n",
    "flag = ['DescendantID', 'SubhaloID','FirstProgenitorID', 'NextProgenitorID','LastProgenitorID', 'MainLeafProgenitorID', 'SubfindID', 'SnapNum']\n",
    "for i in flag:\n",
    "    print(i)\n",
    "    print( f[i][:] )"
   ]
  },
  {
   "cell_type": "code",
   "execution_count": 7,
   "metadata": {},
   "outputs": [
    {
     "name": "stdout",
     "output_type": "stream",
     "text": [
      "DescendantID\n",
      "[67301294]\n",
      "SubhaloID\n",
      "[67301295]\n",
      "FirstProgenitorID\n",
      "[-1]\n",
      "NextProgenitorID\n",
      "[67301296]\n",
      "LastProgenitorID\n",
      "[67301295]\n",
      "MainLeafProgenitorID\n",
      "[67301295]\n",
      "SubfindID\n",
      "[7181]\n",
      "SnapNum\n",
      "[0]\n"
     ]
    }
   ],
   "source": [
    "f = h5py.File( \"sublink_mpb_7181.hdf5\" )\n",
    "flag = ['DescendantID', 'SubhaloID','FirstProgenitorID', 'NextProgenitorID','LastProgenitorID', 'SubfindID', 'SnapNum']\n",
    "for i in flag:\n",
    "    print(i)\n",
    "    print( f[i][:] )"
   ]
  },
  {
   "cell_type": "code",
   "execution_count": 8,
   "metadata": {},
   "outputs": [
    {
     "name": "stdout",
     "output_type": "stream",
     "text": [
      "DescendantID\n",
      "[67301293 67301294]\n",
      "SubhaloID\n",
      "[67301294 67301295]\n",
      "FirstProgenitorID\n",
      "[67301295       -1]\n",
      "NextProgenitorID\n",
      "[67301297 67301296]\n",
      "LastProgenitorID\n",
      "[67301296 67301295]\n",
      "MainLeafProgenitorID\n",
      "[67301295 67301295]\n",
      "SubfindID\n",
      "[27703  7181]\n",
      "SnapNum\n",
      "[1 0]\n"
     ]
    }
   ],
   "source": [
    "f = h5py.File( \"sublink_mpb_27703.hdf5\" )\n",
    "flag = ['DescendantID', 'SubhaloID','FirstProgenitorID', 'NextProgenitorID','LastProgenitorID', 'SubfindID', 'SnapNum']\n",
    "for i in flag:\n",
    "    print(i)\n",
    "    print( f[i][:] )"
   ]
  },
  {
   "cell_type": "code",
   "execution_count": 23,
   "metadata": {},
   "outputs": [
    {
     "name": "stdout",
     "output_type": "stream",
     "text": [
      "46 cutout_46.hdf5\n",
      "60 cutout_60.hdf5\n",
      "62 cutout_62.hdf5\n"
     ]
    }
   ],
   "source": [
    "ids = [46, 60, 62]\n",
    "for id in ids:\n",
    "    url = \"http://www.tng-project.org/api/TNG50-1/snapshots/4/subhalos/\" + str(id)\n",
    "    sub = get( url )\n",
    "    saved_filename = get( sub['cutouts']['subhalo'] )\n",
    "    print( id, saved_filename )"
   ]
  }
 ],
 "metadata": {
  "kernelspec": {
   "display_name": "base",
   "language": "python",
   "name": "python3"
  },
  "language_info": {
   "codemirror_mode": {
    "name": "ipython",
    "version": 3
   },
   "file_extension": ".py",
   "mimetype": "text/x-python",
   "name": "python",
   "nbconvert_exporter": "python",
   "pygments_lexer": "ipython3",
   "version": "3.1.-1"
  }
 },
 "nbformat": 4,
 "nbformat_minor": 2
}
